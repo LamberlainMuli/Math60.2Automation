{
 "cells": [
  {
   "attachments": {},
   "cell_type": "markdown",
   "metadata": {},
   "source": [
    "Module 4.1: Sampling Plans and Experimental Designs"
   ]
  },
  {
   "cell_type": "code",
   "execution_count": 34,
   "metadata": {},
   "outputs": [
    {
     "name": "stdout",
     "output_type": "stream",
     "text": [
      "Judgement Sampling\n",
      "Convenience Sampling\n",
      "Quota Sampling\n",
      "Judgement Sampling\n",
      "Test has started: \n",
      "\n",
      "The model has 100 correct answers out of 100 tests. The accuracy is 100.0%.\n"
     ]
    }
   ],
   "source": [
    "import nltk\n",
    "from nltk.corpus import stopwords\n",
    "from nltk.tokenize import word_tokenize\n",
    "\n",
    "# Define the keywords for each type of sampling\n",
    "judgement_keywords = ['chooses', 'selects', 'opinion', 'experience', 'judgement', 'believes', 'thinks', 'most', 'best', 'worst', 'top', 'bottom', 'likely', 'unlikely', 'risk', 'at risk', 'expert', 'subjective', 'decision', 'quality', 'specific', 'particular', 'criteria', 'standard', 'belief', 'based on']\n",
    "convenience_keywords = ['easy', 'accessible', 'close', 'nearby', 'available', 'convenience', 'quick', 'fast', 'immediate', 'now', 'current', 'first', 'last', 'asks', 'his', 'her', 'their', 'volunteers', 'willing', 'accepts', 'agrees', 'convenience', 'without difficulty', 'readily available', 'without special effort', 'particular day', 'visits', 'conducts', 'website', 'store', 'call', 'helpline']\n",
    "quota_keywords = ['proportion', 'first', 'quota', 'percentage', 'ratio', 'equal', 'same', 'balance', 'representative', 'demographic', 'gender', 'age', 'race', 'income', 'education', 'occupation', 'region', 'quota', 'divides', 'splits', 'categorizes', 'groups', 'segments', 'population', 'sample', 'ensuring', 'specific proportion', 'includes']\n",
    "\n",
    "# Define the stop words\n",
    "stop_words = set(stopwords.words('english'))\n",
    "\n",
    "def classify_non_probabilistic_sampling(text):\n",
    "    # Tokenize the text\n",
    "    text = text.lower()\n",
    "    words = word_tokenize(text)\n",
    "\n",
    "    # Remove stop words\n",
    "    words = [word for word in words if word not in stop_words]\n",
    "\n",
    "    # Count the number of keywords for each type of sampling\n",
    "    judgement_count = sum(word in words for word in judgement_keywords)\n",
    "    convenience_count = sum(word in words for word in convenience_keywords)\n",
    "    quota_count = sum(word in words for word in quota_keywords)\n",
    "\n",
    "    # Classify the text based on which type has the most keywords\n",
    "    # print(judgement_count, convenience_count, quota_count)\n",
    "    max_count = max(judgement_count, convenience_count, quota_count)\n",
    "    if max_count == judgement_count:\n",
    "        return 'Judgement Sampling'\n",
    "    elif max_count == convenience_count:\n",
    "        return 'Convenience Sampling'\n",
    "    elif max_count == quota_count:\n",
    "        return 'Quota Sampling'\n",
    "    else:\n",
    "        return 'Unknown'\n",
    "    \n",
    "# Test the function\n",
    "print(classify_non_probabilistic_sampling('A doctor chooses six of his most “at risk” patients to participate in a clinical trial.'))\n",
    "print(classify_non_probabilistic_sampling('A student waits until Sunday night to complete a survey for his sociology class.He asks 10 of his orgmates to participate.'))\n",
    "print(classify_non_probabilistic_sampling('A population consists of 40% women and 60% men. The researcher decides to choose a sample consisting of 20 women and 30 men.'))\n",
    "print(classify_non_probabilistic_sampling('A professor chooses the 20 students in his class whom he thinks will most likely return his questionnaire'))\n",
    "\n",
    "test_string='''A researcher selects a sample of 50 people from a population of 500, ensuring that the sample includes 25 men and 25 women.\n",
    "quota sampling\n",
    "A journalist interviews the first 10 people she encounters at a political rally.\n",
    "convenience sampling\n",
    "A teacher selects the 5 students who are most likely to complete an extra credit assignment.\n",
    "judgement sampling\n",
    "A company conducts a survey on customer satisfaction by interviewing customers who visit their store on a particular day.\n",
    "convenience sampling\n",
    "A pollster decides to survey a sample of 100 voters, ensuring that 60 are Democrats and 40 are Republicans.\n",
    "quota sampling\n",
    "A scientist selects 10 plants from his greenhouse that he believes are most likely to respond to a new fertilizer.\n",
    "judgement sampling\n",
    "A student conducts a survey on study habits by asking his friends who are readily available.\n",
    "convenience sampling\n",
    "A researcher studying obesity selects participants who she believes are most likely to provide useful data.\n",
    "judgement sampling\n",
    "A company decides to survey a sample of its customers, ensuring that the sample includes both users of its old product and its new product.\n",
    "quota sampling\n",
    "A journalist interviews people at a protest who are readily available for comments.\n",
    "convenience sampling\n",
    "A teacher selects a group of students who she believes are most likely to benefit from a new teaching method.\n",
    "judgement sampling\n",
    "A researcher studying sleep patterns decides to survey people who are readily available at a late-night diner.\n",
    "convenience sampling\n",
    "A pollster decides to survey a sample of voters, ensuring that the sample includes both urban and rural residents.\n",
    "quota sampling\n",
    "A scientist selects a group of lab rats that he believes are most likely to respond to a new drug.\n",
    "judgement sampling\n",
    "A student conducts a survey on food preferences by asking his dorm mates who are readily available.\n",
    "convenience sampling\n",
    "A researcher studying climate change selects participants who she believes are most likely to provide insightful data.\n",
    "judgement sampling\n",
    "A company decides to survey a sample of its customers, ensuring that the sample includes both online and in-store shoppers.\n",
    "quota sampling\n",
    "A journalist interviews people at a music festival who are readily available for comments.\n",
    "convenience sampling\n",
    "A teacher selects a group of students who she believes are most likely to excel in a math competition.\n",
    "judgement sampling\n",
    "A researcher studying caffeine consumption decides to survey people who are readily available at a coffee shop.\n",
    "convenience sampling\n",
    "A researcher selects a sample of 100 employees from a company, ensuring that the sample includes 50 managers and 50 non-managers.\n",
    "quota sampling\n",
    "A journalist interviews the first 10 people she encounters at a book fair.\n",
    "convenience sampling\n",
    "A fitness coach selects the 5 clients who are most likely to adhere to a new workout regimen.\n",
    "judgement sampling\n",
    "A company conducts a survey on product preferences by interviewing customers who visit their website on a particular day.\n",
    "convenience sampling\n",
    "A pollster decides to survey a sample of 100 citizens, ensuring that 70 are employed and 30 are unemployed.\n",
    "quota sampling\n",
    "A botanist selects 10 trees from a forest that he believes are most likely to show signs of a particular disease.\n",
    "judgement sampling\n",
    "A student conducts a survey on video game habits by asking his online friends who are readily available.\n",
    "convenience sampling\n",
    "A researcher studying mental health selects participants who she believes are most likely to provide comprehensive data.\n",
    "judgement sampling\n",
    "A company decides to survey a sample of its users, ensuring that the sample includes both Android and iOS users.\n",
    "quota sampling\n",
    "A journalist interviews people at a movie premiere who are readily available for comments.\n",
    "convenience sampling\n",
    "A coach selects a group of athletes who she believes are most likely to improve from a new training method.\n",
    "judgement sampling\n",
    "A researcher studying late-night eating habits decides to survey people who are readily available at a 24-hour fast food restaurant.\n",
    "convenience sampling\n",
    "A pollster decides to survey a sample of residents, ensuring that the sample includes both homeowners and renters.\n",
    "quota sampling\n",
    "A scientist selects a group of lab mice that he believes are most likely to respond to a new diet.\n",
    "judgement sampling\n",
    "A student conducts a survey on music preferences by asking his classmates who are readily available.\n",
    "convenience sampling\n",
    "A researcher studying digital literacy selects participants who she believes are most likely to provide accurate data.\n",
    "judgement sampling\n",
    "A company decides to survey a sample of its customers, ensuring that the sample includes both long-term and new customers.\n",
    "quota sampling\n",
    "A journalist interviews people at a tech conference who are readily available for comments.\n",
    "convenience sampling\n",
    "A teacher selects a group of students who she believes are most likely to perform well in a science fair.\n",
    "judgement sampling\n",
    "A researcher studying social media usage decides to survey people who are readily available at a public Wi-Fi hotspot.\n",
    "convenience sampling\n",
    "A researcher selects a sample of 100 students from a university, ensuring that the sample includes 50 undergraduates and 50 postgraduates.\n",
    "quota sampling\n",
    "A journalist interviews the first 10 people she encounters at a farmers market.\n",
    "convenience sampling\n",
    "A dietitian selects the 5 clients who are most likely to adhere to a new diet plan.\n",
    "judgement sampling\n",
    "A company conducts a survey on website usability by interviewing users who visit their website on a particular day.\n",
    "convenience sampling\n",
    "A pollster decides to survey a sample of 100 people, ensuring that 50 are smokers and 50 are non-smokers.\n",
    "quota sampling\n",
    "A zoologist selects 10 animals from a zoo that he believes are most likely to show signs of a particular behavior.\n",
    "judgement sampling\n",
    "A student conducts a survey on reading habits by asking his book club members who are readily available.\n",
    "convenience sampling\n",
    "A researcher studying physical fitness selects participants who she believes are most likely to provide detailed data.\n",
    "judgement sampling\n",
    "A company decides to survey a sample of its customers, ensuring that the sample includes both in-person and online shoppers.\n",
    "quota sampling\n",
    "A journalist interviews people at a music festival who are readily available for comments.\n",
    "convenience sampling\n",
    "A music teacher selects a group of students who she believes are most likely to benefit from a new teaching method.\n",
    "judgement sampling\n",
    "A researcher studying breakfast habits decides to survey people who are readily available at a breakfast diner.\n",
    "convenience sampling\n",
    "A pollster decides to survey a sample of residents, ensuring that the sample includes both pet owners and non-pet owners.\n",
    "quota sampling\n",
    "A scientist selects a group of lab rabbits that he believes are most likely to respond to a new treatment.\n",
    "judgement sampling\n",
    "A student conducts a survey on fashion preferences by asking his friends who are readily available.\n",
    "convenience sampling\n",
    "A researcher studying online shopping habits selects participants who she believes are most likely to provide accurate data.\n",
    "judgement sampling\n",
    "A company decides to survey a sample of its customers, ensuring that the sample includes both frequent and infrequent shoppers.\n",
    "quota sampling\n",
    "A journalist interviews people at a car show who are readily available for comments.\n",
    "convenience sampling\n",
    "A sports coach selects a group of athletes who she believes are most likely to excel in a tournament.\n",
    "judgement sampling\n",
    "A researcher studying coffee consumption decides to survey people who are readily available at a coffee shop.\n",
    "convenience sampling\n",
    "A researcher selects a sample of 100 households from a city, ensuring that the sample includes 50 with children and 50 without children.\n",
    "quota sampling\n",
    "A journalist interviews the first 10 people she encounters at a city park.\n",
    "convenience sampling\n",
    "A psychologist selects the 5 clients who are most likely to benefit from a new therapy technique.\n",
    "judgement sampling\n",
    "A company conducts a survey on customer service by interviewing customers who call their helpline on a particular day.\n",
    "convenience sampling\n",
    "A pollster decides to survey a sample of 100 people, ensuring that 70 are meat-eaters and 30 are vegetarians.\n",
    "quota sampling\n",
    "A biologist selects 10 birds from a sanctuary that he believes are most likely to exhibit a particular behavior.\n",
    "judgement sampling\n",
    "A student conducts a survey on movie preferences by asking his film class peers who are readily available.\n",
    "convenience sampling\n",
    "A researcher studying dietary habits selects participants who she believes are most likely to provide comprehensive data.\n",
    "judgement sampling\n",
    "A company decides to surveya sample of its users, ensuring that the sample includes both free and premium subscribers.\n",
    "quota sampling\n",
    "A journalist interviews people at a food festival who are readily available for comments.\n",
    "convenience sampling\n",
    "A dance instructor selects a group of students who she believes are most likely to excel in a dance competition.\n",
    "judgement sampling\n",
    "A researcher studying late-night TV viewing habits decides to survey people who are readily available at a late-night diner.\n",
    "convenience sampling\n",
    "A pollster decides to survey a sample of residents, ensuring that the sample includes both car owners and non-car owners.\n",
    "quota sampling\n",
    "A scientist selects a group of lab fish that he believes are most likely to respond to a new environment.\n",
    "judgement sampling\n",
    "A student conducts a survey on travel preferences by asking his classmates who are readily available.\n",
    "convenience sampling\n",
    "A researcher studying work-from-home habits selects participants who she believes are most likely to provide accurate data.\n",
    "judgement sampling\n",
    "A company decides to survey a sample of its customers, ensuring that the sample includes both domestic and international customers.\n",
    "quota sampling\n",
    "A journalist interviews people at a tech expo who are readily available for comments.\n",
    "convenience sampling\n",
    "A chess coach selects a group of players who she believes are most likely to perform well in a chess tournament.\n",
    "judgement sampling\n",
    "A researcher studying smartphone usage decides to survey people who are readily available at a public transportation station.\n",
    "convenience sampling\n",
    "A researcher decides to interview the first 10 people who walk into a clinic, ensuring that 5 are men and 5 are women.\n",
    "quota sampling\n",
    "A journalist selects the first 10 people she encounters at a concert, based on her belief that they will provide the most interesting stories.\n",
    "judgement sampling\n",
    "A teacher asks the students who stay after class to participate in a study, ensuring that the group includes both high-performing and low-performing students.\n",
    "quota sampling\n",
    "A company surveys the customers who make a purchase on a particular day, based on the assumption that these customers will provide the most relevant feedback.\n",
    "judgement sampling\n",
    "A student decides to survey his classmates who are present in the library, ensuring that the sample includes both science and arts students.\n",
    "quota sampling\n",
    "A scientist chooses to study the first 10 plants he encounters on a field trip, based on his belief that these plants are most likely to exhibit a certain trait.\n",
    "judgement sampling\n",
    "A researcher decides to survey the people who are currently in a coffee shop, ensuring that the sample includes both coffee drinkers and non-coffee drinkers.\n",
    "quota sampling\n",
    "A journalist interviews the people who are readily available at a city park, based on her belief that they will provide the most diverse viewpoints.\n",
    "judgement sampling\n",
    "A company decides to survey its employees who are present on a particular day, ensuring that the sample includes both managers and non-managers.\n",
    "quota sampling\n",
    "A student asks his friends who are currently online to participate in a survey, based on his belief that they will provide the most honest responses.\n",
    "judgement sampling\n",
    "A researcher decides to survey the people who are currently at a fitness center, ensuring that the sample includes both regular members and first-time visitors.\n",
    "quota sampling\n",
    "A journalist interviews the people who are readily available at a political rally, based on her belief that they will provide the most insightful comments.\n",
    "judgement sampling\n",
    "A company decides to survey its customers who make a purchase on a particular day, ensuring that the sample includes both first-time and repeat customers.\n",
    "quota sampling\n",
    "A student asks his classmates who are currently in the study room to participate in a survey, based on his belief that they will provide the most accurate data.\n",
    "judgement sampling\n",
    "A researcher decides to survey the people who are currently at a museum, ensuring that the sample includes both locals and tourists.\n",
    "quota sampling\n",
    "A journalist interviews the people who are readily available at a sports event, based on her belief that they will provide the most engaging stories.\n",
    "judgement sampling\n",
    "A company decides to survey its users who are online on a particular day, ensuring that the sample includes both free and premium users.\n",
    "quota sampling\n",
    "A student asks his friends who are currently at a party to participate in a survey, based on his belief that they will provide the most candid responses.\n",
    "judgement sampling\n",
    "A researcher decides to survey the people who are currently at a shopping mall, ensuring that the sample includes both shoppers and non-shoppers.\n",
    "quota sampling\n",
    "A journalist interviews the people who are readily available at a book fair, based on her belief that they will provide the most interesting perspectives.\n",
    "judgement sampling'''\n",
    "\n",
    "test_answers=(test_string.split('\\n'))\n",
    "tests=[]\n",
    "answers=[]\n",
    "# print(test_answers)\n",
    "# print(len(test_answers))\n",
    "for i in range(0,len(test_answers),2):\n",
    "    tests.append(test_answers[i])\n",
    "    answers.append(test_answers[i+1])\n",
    "\n",
    "print(\"Test has started: \\n\")\n",
    "num=len(tests)\n",
    "correct=0\n",
    "for test,answer in zip(tests,answers):\n",
    "    # print(\"Statement:\\t\", test)\n",
    "    # print(\"Model Answer: \\t\\t\",classify_non_probabilistic_sampling(test).lower())\n",
    "    # print(\"Correct Answer: \\t\",answer)\n",
    "    if classify_non_probabilistic_sampling(test).strip().lower()!=answer.lower().strip():\n",
    "        print(\"Statement:\\t\", test)\n",
    "        print(\"Model Answer: \\t\\t\",classify_non_probabilistic_sampling(test).lower())\n",
    "        print(\"Correct Answer: \\t\",answer)\n",
    "        print('Wrong!')\n",
    "\n",
    "    else:\n",
    "        correct+=1\n",
    "        # print('Correct!')\n",
    "print(f\"The model has {correct} correct answers out of {num} tests. The accuracy is {correct/num*100}%.\")"
   ]
  },
  {
   "cell_type": "code",
   "execution_count": 35,
   "metadata": {},
   "outputs": [
    {
     "name": "stdout",
     "output_type": "stream",
     "text": [
      "[('Quezon City', 'GPE')]\n",
      "Unknown\n",
      "[('Quezon City', 'GPE'), ('1', 'CARDINAL'), ('10', 'CARDINAL')]\n",
      "Unknown\n",
      "[('Quezon City', 'GPE'), ('10', 'CARDINAL')]\n",
      "Unknown\n",
      "[('50th', 'ORDINAL')]\n",
      "Unknown\n"
     ]
    }
   ],
   "source": [
    "import spacy\n",
    "\n",
    "# Load the spaCy model\n",
    "nlp = spacy.load('en_core_web_sm')\n",
    "\n",
    "def classify_probabilistic_sampling(statement):\n",
    "    # Parse the statement using spaCy\n",
    "    doc = nlp(statement)\n",
    "\n",
    "    # Extract the named entities\n",
    "    named_entities = [(ent.text, ent.label_) for ent in doc.ents]\n",
    "    print(named_entities)\n",
    "    # Initialize variables to store the population, data, and sample\n",
    "    population = None\n",
    "    data = None\n",
    "    sample = None\n",
    "\n",
    "    # Loop over the named entities to identify the population and data\n",
    "    for entity, label in named_entities:\n",
    "        if label == 'GPE':  # Geo-political entity, e.g., a city or country\n",
    "            population = entity\n",
    "        elif label == 'ORG':  # Organization, e.g., a company or institution\n",
    "            data = entity\n",
    "\n",
    "    # Loop over the tokens in the document to identify the sample\n",
    "    for token in doc:\n",
    "        if token.dep_ == 'dobj':  # Direct object, e.g., the object that the action is being done to\n",
    "            sample = doc[token.i :].text  # Get the text from the current token to the end of the sentence\n",
    "\n",
    "    # Use the relationships between the population, data, and sample to classify the sampling method\n",
    "    if population and data and sample:\n",
    "        if 'within each' in sample:\n",
    "            return 'Stratified Sampling'\n",
    "        elif 'each' in sample:\n",
    "            return 'Simple Random Sampling'\n",
    "        elif 'all' in sample:\n",
    "            return 'Cluster Sampling'\n",
    "        elif 'every' in sample:\n",
    "            return 'Systematic Sampling'\n",
    "\n",
    "    return 'Unknown'\n",
    "\n",
    "\n",
    "\n",
    "print(classify_probabilistic_sampling('Divide Quezon City into barangays and take a simple random sample of people within each barangay.'))\n",
    "print(classify_probabilistic_sampling('Label the different barangays of Quezon City from 1 to N, and use a random number generator to take a sample of 10 barangays.'))\n",
    "print(classify_probabilistic_sampling('Divide Quezon City into city blocks, choose a simple random sample of 10 city blocks, and interview all who live there.'))\n",
    "print(classify_probabilistic_sampling('Choose an entry at random from the city register, and select every 50th resident thereafter.'))\n"
   ]
  },
  {
   "attachments": {},
   "cell_type": "markdown",
   "metadata": {},
   "source": [
    "Module 4.2: Sampling Distribution of the Mean and the CLT"
   ]
  },
  {
   "cell_type": "code",
   "execution_count": 36,
   "metadata": {},
   "outputs": [],
   "source": [
    "import math\n",
    "def get_standard_error_mean(sd,n):\n",
    "    return sd/math.sqrt(n)"
   ]
  },
  {
   "cell_type": "code",
   "execution_count": 76,
   "metadata": {},
   "outputs": [
    {
     "name": "stdout",
     "output_type": "stream",
     "text": [
      "0.08545176011539873\n",
      "0.9145482398846012\n",
      "0.8290964797692024\n"
     ]
    }
   ],
   "source": [
    "from scipy.stats import norm\n",
    "def get_probability_greater_than_mean(greater_than, mean, sd, n):\n",
    "    return 1-norm.cdf(greater_than,loc=mean,scale=get_standard_error_mean(sd,n))\n",
    "def get_probability_less_than_mean(less_than, mean, sd, n):\n",
    "    return norm.cdf(less_than,loc=mean,scale=get_standard_error_mean(sd,n))\n",
    "def get_probability_between_mean(lower_bound, upper_bound, mean, sd, n):\n",
    "    return norm.cdf(upper_bound,loc=mean,scale=get_standard_error_mean(sd,n))-norm.cdf(lower_bound,loc=mean,scale=get_standard_error_mean(sd,n))\n",
    "\n",
    "print(get_probability_less_than_mean(less_than=7,mean=8,sd=4,n=30))\n",
    "print(get_probability_greater_than_mean(greater_than=7,mean=8,sd=4,n=30))\n",
    "print(get_probability_between_mean(lower_bound=7,upper_bound=9,mean=8,sd=4,n=30))\n",
    "\n"
   ]
  },
  {
   "attachments": {},
   "cell_type": "markdown",
   "metadata": {},
   "source": [
    "When is the sample size large enough to use the CLT?"
   ]
  },
  {
   "cell_type": "code",
   "execution_count": 38,
   "metadata": {},
   "outputs": [
    {
     "data": {
      "text/latex": [
       "Since the sampled population is normally distributed, the sampling distribution of $\\bar{X}$ will also be normal, no matter what sample size you choose"
      ],
      "text/plain": [
       "<IPython.core.display.Latex object>"
      ]
     },
     "metadata": {},
     "output_type": "display_data"
    }
   ],
   "source": [
    "from IPython.display import display, Latex\n",
    "def print_latex(string):\n",
    "    display(Latex(string))\n",
    "\n",
    "def test_clt_mean(sample_size=30):\n",
    "    normal=input(\"Is the sampled population normal? (y/n)\")\n",
    "    if normal=='y':\n",
    "        print_latex(\"Since the sampled population is normally distributed, the sampling distribution of $\\\\bar{X}$ will also be normal, no matter what sample size you choose\")\n",
    "    else:\n",
    "        symmetric = input(\"Is the sampled population approximately symmetric? (y/n)\")\n",
    "        if symmetric=='y':\n",
    "            print_latex(\"Since the sampled population is approximately symmetric, the sampling distribution of $\\\\bar{X}$ becomes approximately normal for relatively small values of $n$\")\n",
    "        else:\n",
    "            print_latex(\"the sample size $n$ must be larger, with $n$ at least $30$ before the sampling distribution of $\\\\bar{X}$ becomes approximately normal.\")\n",
    "            if sample_size>=30:\n",
    "                print_latex(\"In this case since $n \\ge 30$, the sampling distribution of $\\\\bar{X}$ becomes approximately normal.\")\n",
    "            else:\n",
    "                print_latex(\"In this case since $n < 30$, the sampling distribution of $\\\\bar{X}$ does not become approximately normal.\")\n",
    "\n",
    "test_clt_mean(sample_size=30)"
   ]
  },
  {
   "cell_type": "code",
   "execution_count": 39,
   "metadata": {},
   "outputs": [
    {
     "data": {
      "text/latex": [
       "Sampling distribution is: $N(5.9,0.175)$"
      ],
      "text/plain": [
       "<IPython.core.display.Latex object>"
      ]
     },
     "metadata": {},
     "output_type": "display_data"
    }
   ],
   "source": [
    "def get_sampling_distribution_mean_variable(mean,sd,n):\n",
    "    print_latex(f\"Sampling distribution is: $N({mean},{get_standard_error_mean(sd,n)})$\")\n",
    "\n",
    "get_sampling_distribution_mean_variable(mean=5.9,sd=0.7,n=16)"
   ]
  },
  {
   "attachments": {},
   "cell_type": "markdown",
   "metadata": {},
   "source": [
    "Module 4.3: Sampling Distribution of the Sample Proportion\n",
    "\n",
    "$X \\approx B(n, p)$, mean of $X$ is $np$ and the standard deviation of $X$ is $\\sqrt{np(1-p)}$"
   ]
  },
  {
   "cell_type": "code",
   "execution_count": 80,
   "metadata": {},
   "outputs": [
    {
     "name": "stdout",
     "output_type": "stream",
     "text": [
      "0.04042779918502615\n",
      "0.13761676203741718\n",
      "0.9992819024488782\n"
     ]
    }
   ],
   "source": [
    "\n",
    "def get_standard_error_proportion(n,p):\n",
    "    return math.sqrt(p*(1-p)/n)\n",
    "\n",
    "def test_clt_proportion(n,p):\n",
    "    normal=input(\"Is the sampled population normal? (y/n)\")\n",
    "    if normal=='y':\n",
    "        print_latex(f\"Since the sampled population is normally distributed, the sampling distribution of $\\\\hat P \\\\approx N({p},{get_standard_error_proportion(n,p)})$, no matter what sample size you choose\")\n",
    "    else:\n",
    "        symmetric = input(\"Is the sampled population approximately symmetric? (y/n)\")\n",
    "        if symmetric=='y':\n",
    "            print_latex(f\"Since the sampled population is approximately symmetric, the sampling distribution of $\\\\hat P \\\\approx N({p},{get_standard_error_proportion(n,p)})$, for relatively small values of $n$\")\n",
    "        else:\n",
    "            print_latex(\"The sample size $n$ must be larger, with $np > 5$ and $n(1 - p) > 5$ before the sampling distribution of $\\\\hat{P}$ becomes approximately normal.\")\n",
    "            if n*p>5 and n*(1 - p) > 5:\n",
    "                print_latex(f\"In this case since $np = {n*p :.2f} > 5$ and $n(1 - p) = {n*(1-p) :.2f} > 5$, the sampling distribution of $\\\\hat P \\\\approx N({p},{get_standard_error_proportion(p,n)})$\")\n",
    "            else:\n",
    "                print_latex(f\"In this case since $np = {n*p :.2f} \\\\le 5$ or $n(1-p) = {n*(1-p) :.2f} \\\\le 5$, the sampling distribution of  $\\\\hat P \\\\not\\\\approx N({p},{get_standard_error_proportion(p,n)})$\")\n",
    "\n",
    "# test_clt_proportion(p=0.9,n=1)\n",
    "\n",
    "from scipy.stats import norm\n",
    "\n",
    "def get_probability_greater_than_proportion(greater_than,p,n):\n",
    "    return 1-norm.cdf(greater_than,loc=p,scale=get_standard_error_proportion(n,p))\n",
    "\n",
    "def get_probability_less_than_proportion(less_than,p,n):\n",
    "    return norm.cdf(less_than,loc=p,scale=get_standard_error_proportion(n,p))\n",
    "\n",
    "def get_probability_between_proportion(lower_bound,upper_bound,p,n):\n",
    "    return get_probability_less_than_proportion(upper_bound,p,n)-get_probability_less_than_proportion(lower_bound,p,n)\n",
    "\n",
    "print(get_probability_greater_than_proportion(greater_than=0.4,p=0.3,n=64))\n",
    "print(get_probability_less_than_proportion(less_than=25/100,p=0.3,n=100))\n",
    "print(get_probability_less_than_proportion(less_than=100/120,p=0.7,n=120))"
   ]
  },
  {
   "attachments": {},
   "cell_type": "markdown",
   "metadata": {},
   "source": [
    "Module 5.1: Estimators and Point Estimation"
   ]
  },
  {
   "cell_type": "code",
   "execution_count": 87,
   "metadata": {},
   "outputs": [
    {
     "name": "stdout",
     "output_type": "stream",
     "text": [
      "980.0\n",
      "14.849242404917497\n"
     ]
    },
    {
     "data": {
      "text/latex": [
       "Point estimate of the population mean is: $\\hat \\mu \\approx N(980,14.849242404917497)$"
      ],
      "text/plain": [
       "<IPython.core.display.Latex object>"
      ]
     },
     "metadata": {},
     "output_type": "display_data"
    },
    {
     "data": {
      "text/latex": [
       "Point estimate of the population mean is: $\\hat \\mu \\approx N(975.8,10.8)$"
      ],
      "text/plain": [
       "<IPython.core.display.Latex object>"
      ]
     },
     "metadata": {},
     "output_type": "display_data"
    },
    {
     "data": {
      "text/latex": [
       "Since the standard error of the first point estimate is larger than the second point estimate, the second point estimate is more precise"
      ],
      "text/plain": [
       "<IPython.core.display.Latex object>"
      ]
     },
     "metadata": {},
     "output_type": "display_data"
    }
   ],
   "source": [
    "def get_sample_standard_deviation(sample):\n",
    "    return math.sqrt(sum([(xi-sum(sample)/len(sample))**2 for xi in sample])/(len(sample)-1))\n",
    "\n",
    "def get_point_estimate_mean(sample=[],n=1,total=0):\n",
    "    if sample==[]:\n",
    "        return total/n\n",
    "    else:\n",
    "        return sum(sample)/len(sample)\n",
    "\n",
    "print(get_point_estimate_mean(n=50,total=49000))\n",
    "print(get_standard_error_mean(n=50,sd=105))\n",
    "\n",
    "def estimate_mean(mean,n,sd):\n",
    "    print_latex(f\"Point estimate of the population mean is: $\\\\hat \\\\mu \\\\approx N({mean},{get_standard_error_mean(sd,n)})$\")\n",
    "    return mean,get_standard_error_mean(sd,n)\n",
    "mean_1,se_1=estimate_mean(mean=980,sd=105,n=50)\n",
    "mean_2,se_2=estimate_mean(mean=975.8,sd=108,n=100)\n",
    "\n",
    "def compare_point_estimates_mean(mean_1,se_1,mean_2,se_2):\n",
    "    if se_1<=se_2:\n",
    "        print_latex(f\"Since the standard error of the first point estimate is smaller than the second point estimate, the first point estimate is more precise\")\n",
    "    else:\n",
    "        print_latex(f\"Since the standard error of the first point estimate is larger than the second point estimate, the second point estimate is more precise\")\n",
    "\n",
    "compare_point_estimates_mean(mean_1,se_1,mean_2,se_2)"
   ]
  },
  {
   "cell_type": "code",
   "execution_count": 88,
   "metadata": {},
   "outputs": [
    {
     "data": {
      "text/latex": [
       "Point estimate of the population proportion is: $\\hat p \\approx N(0.2,0.05656854249492381)$"
      ],
      "text/plain": [
       "<IPython.core.display.Latex object>"
      ]
     },
     "metadata": {},
     "output_type": "display_data"
    }
   ],
   "source": [
    "def get_point_estimate_proportion(n,p):\n",
    "    return p\n",
    "\n",
    "def estimate_proportion(n,p):\n",
    "    print_latex(f\"Point estimate of the population proportion is: $\\\\hat p \\\\approx N({p},{get_standard_error_proportion(n,p)})$\")\n",
    "    return p,get_standard_error_proportion(n,p)\n",
    "\n",
    "p_1,se_1=estimate_proportion(n=50,p=0.2)\n"
   ]
  },
  {
   "attachments": {},
   "cell_type": "markdown",
   "metadata": {},
   "source": [
    "Module 5.2: Confidence Intervals for Population Means"
   ]
  },
  {
   "cell_type": "code",
   "execution_count": 114,
   "metadata": {},
   "outputs": [
    {
     "name": "stdout",
     "output_type": "stream",
     "text": [
      "We are 95.0% confident that the population mean is within (7.91684577053902,8.08315422946098)\n",
      "We are 99.0% confident that the population mean is within (67.06686254493204,67.53313745506796)\n",
      "4.157711473049033\n"
     ]
    }
   ],
   "source": [
    "def get_alpha_from_confidence(confidence):\n",
    "    return 1-confidence\n",
    "def get_confidence_from_alpha(alpha):\n",
    "    return 1-alpha\n",
    "def get_z_alpha(confidence=None,alpha=None):\n",
    "    if alpha==None:\n",
    "        alpha=get_alpha_from_confidence(confidence)\n",
    "    return norm.ppf(1-alpha)\n",
    "def get_margin_of_error_mean(sd=None,n=None,confidence=None,alpha=None,z_alpha=None,se=None):\n",
    "    if z_alpha==None:\n",
    "        if alpha==None:\n",
    "            alpha=get_alpha_from_confidence(confidence)\n",
    "        z_alpha=get_z_alpha(alpha=alpha/2)\n",
    "    if se==None:\n",
    "        se=get_standard_error_mean(sd=sd,n=n)\n",
    "    return z_alpha*se\n",
    "\n",
    "def get_confidence_interval_mean(confidence,n,mean,sd,alpha=None):\n",
    "    if alpha==None:\n",
    "        alpha=get_alpha_from_confidence(confidence)\n",
    "    z_alpha=get_z_alpha(alpha=alpha/2)\n",
    "    se=get_standard_error_mean(sd=sd,n=n)\n",
    "    margin_of_error=get_margin_of_error_mean(z_alpha=z_alpha,se=se)\n",
    "    return f\"We are {confidence*100}% confident that the population mean is within ({mean-margin_of_error},{mean+margin_of_error})\"\n",
    "\n",
    "print(get_confidence_interval_mean(confidence=0.95,n=50,mean=8.0,sd=0.3))\n",
    "print(get_confidence_interval_mean(confidence=0.99,n=50,mean=67.3,sd=0.64))\n",
    "\n",
    "\n",
    "print(get_margin_of_error_mean(sd=15,n=50,confidence=0.95))\n"
   ]
  },
  {
   "cell_type": "code",
   "execution_count": 130,
   "metadata": {},
   "outputs": [
    {
     "data": {
      "text/latex": [
       "We can be $95.0$% confident that the true difference between the population means within $(-399.1999624454975,9731.199962445498)$"
      ],
      "text/plain": [
       "<IPython.core.display.Latex object>"
      ]
     },
     "metadata": {},
     "output_type": "display_data"
    },
    {
     "data": {
      "text/latex": [
       "Since the interval (-399.1999624454975,9731.199962445498) contains 0, we can say with $95.0$% confidence that there is no significant difference between the two population means"
      ],
      "text/plain": [
       "<IPython.core.display.Latex object>"
      ]
     },
     "metadata": {},
     "output_type": "display_data"
    },
    {
     "data": {
      "text/latex": [
       "We can be $99.0$% confident that the true difference between the population means within $(-26.220041398829558,-6.979958601170486)$"
      ],
      "text/plain": [
       "<IPython.core.display.Latex object>"
      ]
     },
     "metadata": {},
     "output_type": "display_data"
    },
    {
     "data": {
      "text/latex": [
       "Since $-26.220041398829558 \\le -6.979958601170486 < 0$ We can be $99.0$% confident that $\\mu_1$ is significantly less than $\\mu_2$"
      ],
      "text/plain": [
       "<IPython.core.display.Latex object>"
      ]
     },
     "metadata": {},
     "output_type": "display_data"
    }
   ],
   "source": [
    "def get_standard_error_two_means(sd_1,sd_2,n_1,n_2):\n",
    "    return math.sqrt(sd_1**2/n_1+sd_2**2/n_2)\n",
    "def get_confidence_interval_difference_means(mean_1,mean_2,sd_1,sd_2,n_1,n_2,confidence=None,alpha=None,z_alpha=None,se=None):\n",
    "    if z_alpha==None:\n",
    "        if alpha==None:\n",
    "            alpha=get_alpha_from_confidence(confidence)\n",
    "        z_alpha=get_z_alpha(alpha=alpha/2)\n",
    "    \n",
    "    if se==None:\n",
    "        se=get_standard_error_two_means(sd_1=sd_1,sd_2=sd_2,n_1=n_1,n_2=n_2)\n",
    "    \n",
    "    lower_bound=mean_1-mean_2-z_alpha*se\n",
    "    upper_bound=mean_1-mean_2+z_alpha*se\n",
    "    print_latex(f\"We can be ${100*(1-alpha)}$% confident that the true difference between the population means within $({lower_bound},{upper_bound})$\")\n",
    "    if lower_bound<=0<=upper_bound:\n",
    "        return f\"Since the interval ({lower_bound},{upper_bound}) contains 0, we can say with ${100*(1-alpha)}$% confidence that there is no significant difference between the two population means\"\n",
    "    elif upper_bound<0:\n",
    "        return f\"Since ${lower_bound} \\\\le {upper_bound} < 0$ We can be ${100*(1-alpha)}$% confident that $\\\\mu_1$ is significantly less than $\\\\mu_2$\"\n",
    "    elif lower_bound>0:\n",
    "        return f\"Since $0<{lower_bound} \\\\le {upper_bound}$ We can be ${100*(1-alpha)}$% confident that $\\\\mu_1$ is significantly greater than $\\\\mu_2%\"\n",
    "    \n",
    "\n",
    "print_latex(get_confidence_interval_difference_means(mean_1=62428,sd_1=12500,mean_2=57762,sd_2=13330,confidence=0.95,n_1=50,n_2=50))\n",
    "print_latex(get_confidence_interval_difference_means(mean_1=220.2,sd_1=14.3,n_1=40,mean_2=236.8,sd_2=18.8,n_2=40,confidence=0.99))\n"
   ]
  },
  {
   "attachments": {},
   "cell_type": "markdown",
   "metadata": {},
   "source": [
    "Module 5.3: Confidence Intervals for Population Proportions"
   ]
  },
  {
   "cell_type": "code",
   "execution_count": 144,
   "metadata": {},
   "outputs": [
    {
     "data": {
      "text/latex": [
       "We are $95.0$% confident that the population mean is within ($0.8439337150664975$,$0.9427329516001691$)"
      ],
      "text/plain": [
       "<IPython.core.display.Latex object>"
      ]
     },
     "metadata": {},
     "output_type": "display_data"
    },
    {
     "data": {
      "text/latex": [
       "We are $98.0$% confident that the population mean is within ($0.25961290868453835$,$0.3003870913154617$)"
      ],
      "text/plain": [
       "<IPython.core.display.Latex object>"
      ]
     },
     "metadata": {},
     "output_type": "display_data"
    },
    {
     "data": {
      "text/latex": [
       "We can be $98.0$% confident that the true difference between the population means within $(-0.025776620636964967,0.16577662063696497)$"
      ],
      "text/plain": [
       "<IPython.core.display.Latex object>"
      ]
     },
     "metadata": {},
     "output_type": "display_data"
    },
    {
     "data": {
      "text/latex": [
       "Since the interval (-0.025776620636964967,0.16577662063696497) contains 0, we can say with $98.0$% confidence that there is no significant difference between the two population means"
      ],
      "text/plain": [
       "<IPython.core.display.Latex object>"
      ]
     },
     "metadata": {},
     "output_type": "display_data"
    },
    {
     "data": {
      "text/latex": [
       "We can be $99.0$% confident that the true difference between the population means within $(-0.08220954593673019,0.022209545936730357)$"
      ],
      "text/plain": [
       "<IPython.core.display.Latex object>"
      ]
     },
     "metadata": {},
     "output_type": "display_data"
    },
    {
     "data": {
      "text/latex": [
       "Since the interval (-0.08220954593673019,0.022209545936730357) contains 0, we can say with $99.0$% confidence that there is no significant difference between the two population means"
      ],
      "text/plain": [
       "<IPython.core.display.Latex object>"
      ]
     },
     "metadata": {},
     "output_type": "display_data"
    }
   ],
   "source": [
    "def get_margin_of_error_proportion(p=None,n=None,confidence=None,alpha=None,z_alpha=None,se=None):\n",
    "    if z_alpha==None:\n",
    "        if alpha==None:\n",
    "            alpha=get_alpha_from_confidence(confidence)\n",
    "        z_alpha=get_z_alpha(alpha=alpha/2)\n",
    "    if se==None:\n",
    "        se=get_standard_error_proportion(p=p,n=n)\n",
    "    return z_alpha*se\n",
    "\n",
    "def get_confidence_interval_proportion(confidence,n,p,alpha=None):\n",
    "    if alpha==None:\n",
    "        alpha=get_alpha_from_confidence(confidence)\n",
    "    z_alpha=get_z_alpha(alpha=alpha/2)\n",
    "    se=get_standard_error_proportion(p=p,n=n)\n",
    "    margin_of_error=get_margin_of_error_proportion(z_alpha=z_alpha,se=se)\n",
    "    return f\"We are ${confidence*100}$% confident that the population mean is within (${p-margin_of_error}$,${p+margin_of_error}$)\"\n",
    "\n",
    "print_latex(get_confidence_interval_proportion(confidence=0.95,n=150,p=134/150,))\n",
    "print_latex(get_confidence_interval_proportion(confidence=0.98,n=2625,p=735/2625,))\n",
    "\n",
    "\n",
    "def get_standard_error_two_proportions(p_1,p_2,n_1,n_2):\n",
    "    return math.sqrt(p_1*(1-p_1)/n_1+p_2*(1-p_2)/n_2)\n",
    "\n",
    "def get_confidence_interval_difference_proportions(p_1,p_2,n_1,n_2,confidence=None,alpha=None,z_alpha=None,se=None):\n",
    "    if z_alpha==None:\n",
    "        if alpha==None:\n",
    "            alpha=get_alpha_from_confidence(confidence)\n",
    "        z_alpha=get_z_alpha(alpha=alpha/2)\n",
    "    \n",
    "    if se==None:\n",
    "        se=get_standard_error_two_proportions(p_1=p_1,p_2=p_2,n_1=n_1,n_2=n_2)\n",
    "    \n",
    "    lower_bound=p_1-p_2-z_alpha*se\n",
    "    upper_bound=p_1-p_2+z_alpha*se\n",
    "\n",
    "    print_latex(f\"We can be ${100*(1-alpha)}$% confident that the true difference between the population means within $({lower_bound},{upper_bound})$\")\n",
    "    if lower_bound<=0<=upper_bound:\n",
    "        return f\"Since the interval ({lower_bound},{upper_bound}) contains 0, we can say with ${100*(1-alpha)}$% confidence that there is no significant difference between the two population means\"\n",
    "    elif upper_bound<0:\n",
    "        return f\"Since ${lower_bound} \\\\le {upper_bound} < 0$ We can be ${100*(1-alpha)}$% confident that $\\\\mu_1$ is significantly less than $\\\\mu_2$\"\n",
    "    elif lower_bound>0:\n",
    "        return f\"Since $0<{lower_bound} \\\\le {upper_bound}$ We can be ${100*(1-alpha)}$% confident that $\\\\mu_1$ is significantly greater than $\\\\mu_2%\"\n",
    "    \n",
    "\n",
    "print_latex(get_confidence_interval_difference_proportions(p_1=13/100,p_2=6/100,n_1=100,n_2=100,confidence=0.98))\n",
    "print_latex(get_confidence_interval_difference_proportions(p_1=0.93,n_1=200,p_2=0.96,n_2=450,confidence=0.99))\n"
   ]
  }
 ],
 "metadata": {
  "kernelspec": {
   "display_name": "Python 3",
   "language": "python",
   "name": "python3"
  },
  "language_info": {
   "codemirror_mode": {
    "name": "ipython",
    "version": 3
   },
   "file_extension": ".py",
   "mimetype": "text/x-python",
   "name": "python",
   "nbconvert_exporter": "python",
   "pygments_lexer": "ipython3",
   "version": "3.11.3"
  },
  "orig_nbformat": 4
 },
 "nbformat": 4,
 "nbformat_minor": 2
}
