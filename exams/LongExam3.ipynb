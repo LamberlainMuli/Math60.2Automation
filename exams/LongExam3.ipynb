{
 "cells": [
  {
   "cell_type": "code",
   "execution_count": 55,
   "metadata": {},
   "outputs": [],
   "source": [
    "from module4 import *\n",
    "from module5 import *\n",
    "from module6 import *\n",
    "from module7 import *\n",
    "from module8 import *"
   ]
  },
  {
   "cell_type": "code",
   "execution_count": 48,
   "metadata": {},
   "outputs": [
    {
     "data": {
      "text/latex": [
       "$H_0: p = 0.4$"
      ],
      "text/plain": [
       "<IPython.core.display.Latex object>"
      ]
     },
     "metadata": {},
     "output_type": "display_data"
    },
    {
     "data": {
      "text/latex": [
       "$H_A: p > 0.4$"
      ],
      "text/plain": [
       "<IPython.core.display.Latex object>"
      ]
     },
     "metadata": {},
     "output_type": "display_data"
    },
    {
     "data": {
      "text/latex": [
       "Given the formula for the standard error of the p: $SE=\\sqrt{\\frac{ p(1-p) }{ n } }$. We substitute the values as follows:"
      ],
      "text/plain": [
       "<IPython.core.display.Latex object>"
      ]
     },
     "metadata": {},
     "output_type": "display_data"
    },
    {
     "data": {
      "text/latex": [
       "$SE=\\sqrt{\\frac{ 0.4(1-0.4) }{ 15 } } \\approx 0.12649110640673517$ "
      ],
      "text/plain": [
       "<IPython.core.display.Latex object>"
      ]
     },
     "metadata": {},
     "output_type": "display_data"
    },
    {
     "name": "stdout",
     "output_type": "stream",
     "text": [
      "Given the formula for test statistic:\n"
     ]
    },
    {
     "data": {
      "text/latex": [
       "$z = \\frac{\\bar{x} - \\mu}{SE}$"
      ],
      "text/plain": [
       "<IPython.core.display.Latex object>"
      ]
     },
     "metadata": {},
     "output_type": "display_data"
    },
    {
     "name": "stdout",
     "output_type": "stream",
     "text": [
      "We can calculate the test statistic as:\n"
     ]
    },
    {
     "data": {
      "text/latex": [
       "$z = \\frac{0.53 - 0.40}{0.12649110640673517} = 1.0540925533894596$"
      ],
      "text/plain": [
       "<IPython.core.display.Latex object>"
      ]
     },
     "metadata": {},
     "output_type": "display_data"
    },
    {
     "data": {
      "text/latex": [
       "$P(Z\\ge {z}) = 1 - P(Z\\le {z}) = 1-norm.cdf(1.0540925533894596) = 0.14592027257189433$"
      ],
      "text/plain": [
       "<IPython.core.display.Latex object>"
      ]
     },
     "metadata": {},
     "output_type": "display_data"
    },
    {
     "name": "stdout",
     "output_type": "stream",
     "text": [
      "the test statistic is 1.0541 and the p-value is 0.1459.\n",
      "Since, 0.14592027257189433 > 0.05, we fail to reject the null hypothesis that 40% of adults favored capital punishment.\n"
     ]
    },
    {
     "data": {
      "text/plain": [
       "(0.14592027257189433, 'fail to reject the null hypothesis')"
      ]
     },
     "execution_count": 48,
     "metadata": {},
     "output_type": "execute_result"
    }
   ],
   "source": [
    "p=0.4\n",
    "n=15\n",
    "phat=8/15\n",
    "print_hypothesis(about=\"proportion\",u=0.4,alternative=\">\")\n",
    "test_hypothesis(z=get_test_statistic(x=phat,u=p,se=get_standard_error_proportion(p=p,n=n)),alpha=0.05,alternative='right',null=\"40% of adults favored capital punishment\")\n"
   ]
  },
  {
   "cell_type": "code",
   "execution_count": 49,
   "metadata": {},
   "outputs": [
    {
     "data": {
      "text/latex": [
       "$H_0: \\mu = 70$"
      ],
      "text/plain": [
       "<IPython.core.display.Latex object>"
      ]
     },
     "metadata": {},
     "output_type": "display_data"
    },
    {
     "data": {
      "text/latex": [
       "$H_A: \\mu > 70$"
      ],
      "text/plain": [
       "<IPython.core.display.Latex object>"
      ]
     },
     "metadata": {},
     "output_type": "display_data"
    },
    {
     "data": {
      "text/latex": [
       "Given the formula for the standard error of the mean: $SE=\\frac{\\sigma}{\\sqrt{n}}$. We substitute the values as follows:"
      ],
      "text/plain": [
       "<IPython.core.display.Latex object>"
      ]
     },
     "metadata": {},
     "output_type": "display_data"
    },
    {
     "data": {
      "text/latex": [
       "$SE=\\frac{8.9}{\\sqrt{100}} \\approx 0.89$ "
      ],
      "text/plain": [
       "<IPython.core.display.Latex object>"
      ]
     },
     "metadata": {},
     "output_type": "display_data"
    },
    {
     "name": "stdout",
     "output_type": "stream",
     "text": [
      "Given the formula for test statistic:\n"
     ]
    },
    {
     "data": {
      "text/latex": [
       "$z = \\frac{\\bar{x} - \\mu}{SE}$"
      ],
      "text/plain": [
       "<IPython.core.display.Latex object>"
      ]
     },
     "metadata": {},
     "output_type": "display_data"
    },
    {
     "name": "stdout",
     "output_type": "stream",
     "text": [
      "We can calculate the test statistic as:\n"
     ]
    },
    {
     "data": {
      "text/latex": [
       "$z = \\frac{71.80 - 70.00}{0.89} = 2.0224719101123565$"
      ],
      "text/plain": [
       "<IPython.core.display.Latex object>"
      ]
     },
     "metadata": {},
     "output_type": "display_data"
    },
    {
     "data": {
      "text/latex": [
       "$P(Z\\ge {z}) = 1 - P(Z\\le {z}) = 1-norm.cdf(2.0224719101123565) = 0.021563811339088912$"
      ],
      "text/plain": [
       "<IPython.core.display.Latex object>"
      ]
     },
     "metadata": {},
     "output_type": "display_data"
    },
    {
     "name": "stdout",
     "output_type": "stream",
     "text": [
      "the test statistic is 2.0225 and the p-value is 0.0216.\n",
      "Since, 0.021563811339088912 < 0.05, we reject the null hypothesis that average life span is 70 years.\n"
     ]
    },
    {
     "data": {
      "text/plain": [
       "(0.021563811339088912, 'reject the null hypothesis')"
      ]
     },
     "execution_count": 49,
     "metadata": {},
     "output_type": "execute_result"
    }
   ],
   "source": [
    "n=100\n",
    "x=71.8\n",
    "sd=8.9\n",
    "u=70\n",
    "alpha=0.05\n",
    "print_hypothesis(about=\"mean\",u=u,alternative=\">\")\n",
    "test_hypothesis(z=get_test_statistic(x=x,u=u,se=get_standard_error_mean(sd=sd,n=n)),alpha=alpha,alternative='right',null=\"average life span is 70 years\")\n"
   ]
  },
  {
   "cell_type": "code",
   "execution_count": 50,
   "metadata": {},
   "outputs": [
    {
     "data": {
      "text/latex": [
       "$H_0: p_1 - p_2 = 0$"
      ],
      "text/plain": [
       "<IPython.core.display.Latex object>"
      ]
     },
     "metadata": {},
     "output_type": "display_data"
    },
    {
     "data": {
      "text/latex": [
       "$H_A: p_1 - p_2 > 0$"
      ],
      "text/plain": [
       "<IPython.core.display.Latex object>"
      ]
     },
     "metadata": {},
     "output_type": "display_data"
    },
    {
     "name": "stdout",
     "output_type": "stream",
     "text": [
      "Given the formula for standard error of difference in proportions:\n"
     ]
    },
    {
     "data": {
      "text/latex": [
       "$SE = \\sqrt{\\frac{p_1(1-p_1)}{n_1} + \\frac{p_2(1-p_2)}{n_2}}$"
      ],
      "text/plain": [
       "<IPython.core.display.Latex object>"
      ]
     },
     "metadata": {},
     "output_type": "display_data"
    },
    {
     "name": "stdout",
     "output_type": "stream",
     "text": [
      "It can be shown that the standard error of difference in proportions under the null hypothesis is:\n"
     ]
    },
    {
     "data": {
      "text/latex": [
       "$SE = \\sqrt{p(1-p) \\left( \\frac{1}{n_1} + \\frac{1}{n_2} \\right)}$"
      ],
      "text/plain": [
       "<IPython.core.display.Latex object>"
      ]
     },
     "metadata": {},
     "output_type": "display_data"
    },
    {
     "name": "stdout",
     "output_type": "stream",
     "text": [
      "where p is the pooled proportion:\n"
     ]
    },
    {
     "data": {
      "text/latex": [
       "$p = \\frac{p_1n_1 + p_2n_2}{n_1 + n_2}$"
      ],
      "text/plain": [
       "<IPython.core.display.Latex object>"
      ]
     },
     "metadata": {},
     "output_type": "display_data"
    },
    {
     "data": {
      "text/latex": [
       "$p = \\frac{0.631 \\times 1000 + 0.592 \\times 1000}{1000 + 1000} = 0.6115$"
      ],
      "text/plain": [
       "<IPython.core.display.Latex object>"
      ]
     },
     "metadata": {},
     "output_type": "display_data"
    },
    {
     "data": {
      "text/latex": [
       "$SE = \\sqrt{0.6115 \\times (1 - 0.6115) \\left( \\frac{1}{1000} + \\frac{1}{1000} \\right)} = 0.0218$"
      ],
      "text/plain": [
       "<IPython.core.display.Latex object>"
      ]
     },
     "metadata": {},
     "output_type": "display_data"
    },
    {
     "name": "stdout",
     "output_type": "stream",
     "text": [
      "Given the formula for test statistic:\n"
     ]
    },
    {
     "data": {
      "text/latex": [
       "$z = \\frac{\\bar{x} - \\mu}{SE}$"
      ],
      "text/plain": [
       "<IPython.core.display.Latex object>"
      ]
     },
     "metadata": {},
     "output_type": "display_data"
    },
    {
     "name": "stdout",
     "output_type": "stream",
     "text": [
      "We can calculate the test statistic as:\n"
     ]
    },
    {
     "data": {
      "text/latex": [
       "$z = \\frac{0.04 - 0.00}{0.021797603079237865} = 1.789187547742228$"
      ],
      "text/plain": [
       "<IPython.core.display.Latex object>"
      ]
     },
     "metadata": {},
     "output_type": "display_data"
    },
    {
     "data": {
      "text/latex": [
       "$P(Z\\ge {z}) = 1 - P(Z\\le {z}) = 1-norm.cdf(1.789187547742228) = 0.036792308201834656$"
      ],
      "text/plain": [
       "<IPython.core.display.Latex object>"
      ]
     },
     "metadata": {},
     "output_type": "display_data"
    },
    {
     "name": "stdout",
     "output_type": "stream",
     "text": [
      "the test statistic is 1.7892 and the p-value is 0.0368.\n",
      "Since, 0.036792308201834656 < 0.05, we reject the null hypothesis that Version A does not have a better win rate compared to Version B.\n"
     ]
    },
    {
     "data": {
      "text/plain": [
       "(0.036792308201834656, 'reject the null hypothesis')"
      ]
     },
     "execution_count": 50,
     "metadata": {},
     "output_type": "execute_result"
    }
   ],
   "source": [
    "n1=631+369\n",
    "n2=592+408\n",
    "p1=631/n1\n",
    "p2=592/n2\n",
    "alpha=0.05\n",
    "print_hypothesis(about=\"two proportions\",u=0,alternative=\">\")\n",
    "\n",
    "test_hypothesis(z=get_test_statistic(x=p1-p2,u=0,se=get_standard_error_two_proportions(p_1=p1,p_2=p2,n_1=n1,n_2=n2)),alternative=\"right\",alpha=alpha,null=\"Version A does not have a better win rate compared to Version B\")"
   ]
  },
  {
   "cell_type": "code",
   "execution_count": 51,
   "metadata": {},
   "outputs": [
    {
     "data": {
      "text/latex": [
       "$H_0: \\mu_1 - \\mu_2 = 0$"
      ],
      "text/plain": [
       "<IPython.core.display.Latex object>"
      ]
     },
     "metadata": {},
     "output_type": "display_data"
    },
    {
     "data": {
      "text/latex": [
       "$H_A: \\mu_1 - \\mu_2 > 0$"
      ],
      "text/plain": [
       "<IPython.core.display.Latex object>"
      ]
     },
     "metadata": {},
     "output_type": "display_data"
    },
    {
     "data": {
      "text/latex": [
       "We can substitute to the formula $SE = \\sqrt{\\frac{SD_1^2}{n_1}+\\frac{SD_2^2}{n_2}}$"
      ],
      "text/plain": [
       "<IPython.core.display.Latex object>"
      ]
     },
     "metadata": {},
     "output_type": "display_data"
    },
    {
     "data": {
      "text/latex": [
       "$SE = \\sqrt{\\frac{10^2}{40}+\\frac{4^2}{30}} \\approx 1.7416467303484175$"
      ],
      "text/plain": [
       "<IPython.core.display.Latex object>"
      ]
     },
     "metadata": {},
     "output_type": "display_data"
    },
    {
     "name": "stdout",
     "output_type": "stream",
     "text": [
      "Given the formula for test statistic:\n"
     ]
    },
    {
     "data": {
      "text/latex": [
       "$z = \\frac{\\bar{x} - \\mu}{SE}$"
      ],
      "text/plain": [
       "<IPython.core.display.Latex object>"
      ]
     },
     "metadata": {},
     "output_type": "display_data"
    },
    {
     "name": "stdout",
     "output_type": "stream",
     "text": [
      "We can calculate the test statistic as:\n"
     ]
    },
    {
     "data": {
      "text/latex": [
       "$z = \\frac{8.00 - 0.00}{1.7416467303484175} = 4.593354014105716$"
      ],
      "text/plain": [
       "<IPython.core.display.Latex object>"
      ]
     },
     "metadata": {},
     "output_type": "display_data"
    },
    {
     "data": {
      "text/latex": [
       "$P(Z\\ge {z}) = 1 - P(Z\\le {z}) = 1-norm.cdf(4.593354014105716) = 2.180890932623747e-06$"
      ],
      "text/plain": [
       "<IPython.core.display.Latex object>"
      ]
     },
     "metadata": {},
     "output_type": "display_data"
    },
    {
     "name": "stdout",
     "output_type": "stream",
     "text": [
      "the test statistic is 4.5934 and the p-value is 0.0000.\n",
      "Since, 2.180890932623747e-06 < 0.01, we reject the null hypothesis that the mean of the experimental group is not greater than the mean of the control group.\n"
     ]
    },
    {
     "data": {
      "text/plain": [
       "(2.180890932623747e-06, 'reject the null hypothesis')"
      ]
     },
     "execution_count": 51,
     "metadata": {},
     "output_type": "execute_result"
    }
   ],
   "source": [
    "n1,n2=40,30\n",
    "x1,x2=23,15\n",
    "sd1,sd2=10,4\n",
    "alpha=0.01\n",
    "print_hypothesis(about=\"two means\",u=0,alternative=\">\")\n",
    "test_hypothesis(z=get_test_statistic(x=x1-x2,u=0,se=get_standard_error_two_means(sd_1=sd1,sd_2=sd2,n_1=n1,n_2=n2)[0]),alternative=\"right\",alpha=alpha,null=\"the mean of the experimental group is not greater than the mean of the control group\")"
   ]
  },
  {
   "cell_type": "code",
   "execution_count": 56,
   "metadata": {},
   "outputs": [
    {
     "name": "stdout",
     "output_type": "stream",
     "text": [
      "                    Results: Ordinary least squares\n",
      "========================================================================\n",
      "Model:              OLS                    Adj. R-squared:     0.611    \n",
      "Dependent Variable: Mercury level (in ppm) AIC:                -70.9486 \n",
      "Date:               2023-07-21 15:03       BIC:                -67.8379 \n",
      "No. Observations:   35                     Log-Likelihood:     37.474   \n",
      "Df Model:           1                      F-statistic:        54.37    \n",
      "Df Residuals:       33                     Prob (F-statistic): 1.81e-08 \n",
      "R-squared:          0.622                  Scale:              0.0072960\n",
      "---------------------------------------------------------------------------\n",
      "              Coef.     Std.Err.       t       P>|t|      [0.025     0.975]\n",
      "---------------------------------------------------------------------------\n",
      "const         1.2936      0.1133    11.4168    0.0000     1.0631     1.5241\n",
      "pH           -0.1168      0.0158    -7.3737    0.0000    -0.1491    -0.0846\n",
      "------------------------------------------------------------------------\n",
      "Omnibus:                 0.422          Durbin-Watson:             2.407\n",
      "Prob(Omnibus):           0.810          Jarque-Bera (JB):          0.571\n",
      "Skew:                    0.115          Prob(JB):                  0.752\n",
      "Kurtosis:                2.418          Condition No.:             57   \n",
      "========================================================================\n",
      "Notes:\n",
      "[1] Standard Errors assume that the covariance matrix of the errors is\n",
      "correctly specified.\n",
      "\n",
      "Table with residuals and predicted values:\n"
     ]
    },
    {
     "data": {
      "text/html": [
       "<div>\n",
       "<style scoped>\n",
       "    .dataframe tbody tr th:only-of-type {\n",
       "        vertical-align: middle;\n",
       "    }\n",
       "\n",
       "    .dataframe tbody tr th {\n",
       "        vertical-align: top;\n",
       "    }\n",
       "\n",
       "    .dataframe thead th {\n",
       "        text-align: right;\n",
       "    }\n",
       "</style>\n",
       "<table border=\"1\" class=\"dataframe\">\n",
       "  <thead>\n",
       "    <tr style=\"text-align: right;\">\n",
       "      <th></th>\n",
       "      <th>x</th>\n",
       "      <th>y</th>\n",
       "      <th>a + bx</th>\n",
       "      <th>Residual Error</th>\n",
       "    </tr>\n",
       "  </thead>\n",
       "  <tbody>\n",
       "    <tr>\n",
       "      <th>0</th>\n",
       "      <td>7.934</td>\n",
       "      <td>0.220</td>\n",
       "      <td>0.366661</td>\n",
       "      <td>-0.146661</td>\n",
       "    </tr>\n",
       "    <tr>\n",
       "      <th>1</th>\n",
       "      <td>7.681</td>\n",
       "      <td>0.471</td>\n",
       "      <td>0.396219</td>\n",
       "      <td>0.074781</td>\n",
       "    </tr>\n",
       "    <tr>\n",
       "      <th>2</th>\n",
       "      <td>7.319</td>\n",
       "      <td>0.411</td>\n",
       "      <td>0.438511</td>\n",
       "      <td>-0.027511</td>\n",
       "    </tr>\n",
       "    <tr>\n",
       "      <th>3</th>\n",
       "      <td>7.323</td>\n",
       "      <td>0.361</td>\n",
       "      <td>0.438044</td>\n",
       "      <td>-0.077044</td>\n",
       "    </tr>\n",
       "    <tr>\n",
       "      <th>4</th>\n",
       "      <td>7.143</td>\n",
       "      <td>0.418</td>\n",
       "      <td>0.459073</td>\n",
       "      <td>-0.041073</td>\n",
       "    </tr>\n",
       "    <tr>\n",
       "      <th>5</th>\n",
       "      <td>5.774</td>\n",
       "      <td>0.630</td>\n",
       "      <td>0.619012</td>\n",
       "      <td>0.010988</td>\n",
       "    </tr>\n",
       "    <tr>\n",
       "      <th>6</th>\n",
       "      <td>6.917</td>\n",
       "      <td>0.351</td>\n",
       "      <td>0.485476</td>\n",
       "      <td>-0.134476</td>\n",
       "    </tr>\n",
       "    <tr>\n",
       "      <th>7</th>\n",
       "      <td>6.357</td>\n",
       "      <td>0.468</td>\n",
       "      <td>0.550900</td>\n",
       "      <td>-0.082900</td>\n",
       "    </tr>\n",
       "    <tr>\n",
       "      <th>8</th>\n",
       "      <td>5.807</td>\n",
       "      <td>0.606</td>\n",
       "      <td>0.615156</td>\n",
       "      <td>-0.009156</td>\n",
       "    </tr>\n",
       "    <tr>\n",
       "      <th>9</th>\n",
       "      <td>7.075</td>\n",
       "      <td>0.521</td>\n",
       "      <td>0.467017</td>\n",
       "      <td>0.053983</td>\n",
       "    </tr>\n",
       "    <tr>\n",
       "      <th>10</th>\n",
       "      <td>9.503</td>\n",
       "      <td>0.267</td>\n",
       "      <td>0.183357</td>\n",
       "      <td>0.083643</td>\n",
       "    </tr>\n",
       "    <tr>\n",
       "      <th>11</th>\n",
       "      <td>7.002</td>\n",
       "      <td>0.547</td>\n",
       "      <td>0.475546</td>\n",
       "      <td>0.071454</td>\n",
       "    </tr>\n",
       "    <tr>\n",
       "      <th>12</th>\n",
       "      <td>7.828</td>\n",
       "      <td>0.402</td>\n",
       "      <td>0.379045</td>\n",
       "      <td>0.022955</td>\n",
       "    </tr>\n",
       "    <tr>\n",
       "      <th>13</th>\n",
       "      <td>8.417</td>\n",
       "      <td>0.200</td>\n",
       "      <td>0.310233</td>\n",
       "      <td>-0.110233</td>\n",
       "    </tr>\n",
       "    <tr>\n",
       "      <th>14</th>\n",
       "      <td>7.550</td>\n",
       "      <td>0.415</td>\n",
       "      <td>0.411523</td>\n",
       "      <td>0.003477</td>\n",
       "    </tr>\n",
       "    <tr>\n",
       "      <th>15</th>\n",
       "      <td>6.401</td>\n",
       "      <td>0.431</td>\n",
       "      <td>0.545760</td>\n",
       "      <td>-0.114760</td>\n",
       "    </tr>\n",
       "    <tr>\n",
       "      <th>16</th>\n",
       "      <td>6.986</td>\n",
       "      <td>0.524</td>\n",
       "      <td>0.477415</td>\n",
       "      <td>0.046585</td>\n",
       "    </tr>\n",
       "    <tr>\n",
       "      <th>17</th>\n",
       "      <td>6.728</td>\n",
       "      <td>0.531</td>\n",
       "      <td>0.507557</td>\n",
       "      <td>0.023443</td>\n",
       "    </tr>\n",
       "    <tr>\n",
       "      <th>18</th>\n",
       "      <td>7.233</td>\n",
       "      <td>0.454</td>\n",
       "      <td>0.448558</td>\n",
       "      <td>0.005442</td>\n",
       "    </tr>\n",
       "    <tr>\n",
       "      <th>19</th>\n",
       "      <td>5.110</td>\n",
       "      <td>0.626</td>\n",
       "      <td>0.696586</td>\n",
       "      <td>-0.070586</td>\n",
       "    </tr>\n",
       "    <tr>\n",
       "      <th>20</th>\n",
       "      <td>7.307</td>\n",
       "      <td>0.495</td>\n",
       "      <td>0.439913</td>\n",
       "      <td>0.055087</td>\n",
       "    </tr>\n",
       "    <tr>\n",
       "      <th>21</th>\n",
       "      <td>6.503</td>\n",
       "      <td>0.593</td>\n",
       "      <td>0.533843</td>\n",
       "      <td>0.059157</td>\n",
       "    </tr>\n",
       "    <tr>\n",
       "      <th>22</th>\n",
       "      <td>5.660</td>\n",
       "      <td>0.575</td>\n",
       "      <td>0.632330</td>\n",
       "      <td>-0.057330</td>\n",
       "    </tr>\n",
       "    <tr>\n",
       "      <th>23</th>\n",
       "      <td>6.572</td>\n",
       "      <td>0.681</td>\n",
       "      <td>0.525782</td>\n",
       "      <td>0.155218</td>\n",
       "    </tr>\n",
       "    <tr>\n",
       "      <th>24</th>\n",
       "      <td>8.051</td>\n",
       "      <td>0.288</td>\n",
       "      <td>0.352992</td>\n",
       "      <td>-0.064992</td>\n",
       "    </tr>\n",
       "    <tr>\n",
       "      <th>25</th>\n",
       "      <td>8.246</td>\n",
       "      <td>0.246</td>\n",
       "      <td>0.330211</td>\n",
       "      <td>-0.084211</td>\n",
       "    </tr>\n",
       "    <tr>\n",
       "      <th>26</th>\n",
       "      <td>7.049</td>\n",
       "      <td>0.562</td>\n",
       "      <td>0.470055</td>\n",
       "      <td>0.091945</td>\n",
       "    </tr>\n",
       "    <tr>\n",
       "      <th>27</th>\n",
       "      <td>8.553</td>\n",
       "      <td>0.397</td>\n",
       "      <td>0.294344</td>\n",
       "      <td>0.102656</td>\n",
       "    </tr>\n",
       "    <tr>\n",
       "      <th>28</th>\n",
       "      <td>7.280</td>\n",
       "      <td>0.381</td>\n",
       "      <td>0.443067</td>\n",
       "      <td>-0.062067</td>\n",
       "    </tr>\n",
       "    <tr>\n",
       "      <th>29</th>\n",
       "      <td>7.356</td>\n",
       "      <td>0.630</td>\n",
       "      <td>0.434188</td>\n",
       "      <td>0.195812</td>\n",
       "    </tr>\n",
       "    <tr>\n",
       "      <th>30</th>\n",
       "      <td>7.835</td>\n",
       "      <td>0.249</td>\n",
       "      <td>0.378227</td>\n",
       "      <td>-0.129227</td>\n",
       "    </tr>\n",
       "    <tr>\n",
       "      <th>31</th>\n",
       "      <td>5.374</td>\n",
       "      <td>0.741</td>\n",
       "      <td>0.665743</td>\n",
       "      <td>0.075257</td>\n",
       "    </tr>\n",
       "    <tr>\n",
       "      <th>32</th>\n",
       "      <td>6.702</td>\n",
       "      <td>0.534</td>\n",
       "      <td>0.510594</td>\n",
       "      <td>0.023406</td>\n",
       "    </tr>\n",
       "    <tr>\n",
       "      <th>33</th>\n",
       "      <td>7.003</td>\n",
       "      <td>0.487</td>\n",
       "      <td>0.475429</td>\n",
       "      <td>0.011571</td>\n",
       "    </tr>\n",
       "    <tr>\n",
       "      <th>34</th>\n",
       "      <td>6.676</td>\n",
       "      <td>0.559</td>\n",
       "      <td>0.513632</td>\n",
       "      <td>0.045368</td>\n",
       "    </tr>\n",
       "  </tbody>\n",
       "</table>\n",
       "</div>"
      ],
      "text/plain": [
       "        x      y    a + bx  Residual Error\n",
       "0   7.934  0.220  0.366661       -0.146661\n",
       "1   7.681  0.471  0.396219        0.074781\n",
       "2   7.319  0.411  0.438511       -0.027511\n",
       "3   7.323  0.361  0.438044       -0.077044\n",
       "4   7.143  0.418  0.459073       -0.041073\n",
       "5   5.774  0.630  0.619012        0.010988\n",
       "6   6.917  0.351  0.485476       -0.134476\n",
       "7   6.357  0.468  0.550900       -0.082900\n",
       "8   5.807  0.606  0.615156       -0.009156\n",
       "9   7.075  0.521  0.467017        0.053983\n",
       "10  9.503  0.267  0.183357        0.083643\n",
       "11  7.002  0.547  0.475546        0.071454\n",
       "12  7.828  0.402  0.379045        0.022955\n",
       "13  8.417  0.200  0.310233       -0.110233\n",
       "14  7.550  0.415  0.411523        0.003477\n",
       "15  6.401  0.431  0.545760       -0.114760\n",
       "16  6.986  0.524  0.477415        0.046585\n",
       "17  6.728  0.531  0.507557        0.023443\n",
       "18  7.233  0.454  0.448558        0.005442\n",
       "19  5.110  0.626  0.696586       -0.070586\n",
       "20  7.307  0.495  0.439913        0.055087\n",
       "21  6.503  0.593  0.533843        0.059157\n",
       "22  5.660  0.575  0.632330       -0.057330\n",
       "23  6.572  0.681  0.525782        0.155218\n",
       "24  8.051  0.288  0.352992       -0.064992\n",
       "25  8.246  0.246  0.330211       -0.084211\n",
       "26  7.049  0.562  0.470055        0.091945\n",
       "27  8.553  0.397  0.294344        0.102656\n",
       "28  7.280  0.381  0.443067       -0.062067\n",
       "29  7.356  0.630  0.434188        0.195812\n",
       "30  7.835  0.249  0.378227       -0.129227\n",
       "31  5.374  0.741  0.665743        0.075257\n",
       "32  6.702  0.534  0.510594        0.023406\n",
       "33  7.003  0.487  0.475429        0.011571\n",
       "34  6.676  0.559  0.513632        0.045368"
      ]
     },
     "metadata": {},
     "output_type": "display_data"
    },
    {
     "data": {
      "image/png": "[encoded data removed]",
      "text/plain": [
       "<Figure size 1000x600 with 1 Axes>"
      ]
     },
     "metadata": {},
     "output_type": "display_data"
    },
    {
     "data": {
      "image/png": "[encoded data removed]",
      "text/plain": [
       "<Figure size 1000x600 with 1 Axes>"
      ]
     },
     "metadata": {},
     "output_type": "display_data"
    }
   ],
   "source": [
    "mercury=pd.read_csv(\"mercury.csv\")\n",
    "\n",
    "results=simple_linear_regression(x=mercury['pH'],y=mercury['Mercury level (in ppm)'])\n",
    "print_result(results=results,x=mercury['pH'],y=mercury['Mercury level (in ppm)'],xlabel=\"pH\",ylabel=\"Mercury level (in ppm)\",title=\"Mercury level vs pH\")\n"
   ]
  },
  {
   "cell_type": "code",
   "execution_count": 53,
   "metadata": {},
   "outputs": [
    {
     "name": "stdout",
     "output_type": "stream",
     "text": [
      "0.24240000000000017\n"
     ]
    }
   ],
   "source": [
    "\n",
    "print(1.2936-0.1168*9)"
   ]
  },
  {
   "cell_type": "code",
   "execution_count": 58,
   "metadata": {},
   "outputs": [
    {
     "name": "stdout",
     "output_type": "stream",
     "text": [
      "-0.7886697661252141\n"
     ]
    }
   ],
   "source": [
    "print( -0.622**0.5)\n"
   ]
  },
  {
   "cell_type": "code",
   "execution_count": 65,
   "metadata": {},
   "outputs": [
    {
     "data": {
      "text/latex": [
       "$H_0 : $ All means are equal"
      ],
      "text/plain": [
       "<IPython.core.display.Latex object>"
      ]
     },
     "metadata": {},
     "output_type": "display_data"
    },
    {
     "data": {
      "text/latex": [
       "$H_A : $ means are not all equal"
      ],
      "text/plain": [
       "<IPython.core.display.Latex object>"
      ]
     },
     "metadata": {},
     "output_type": "display_data"
    },
    {
     "name": "stdout",
     "output_type": "stream",
     "text": [
      "F=35.5614, p=0.0000\n",
      "Since, 0.0000 < 0.05, we reject the null hypothesis that all means are equal.\n",
      "Participants in the food group had a mean of 46.42 and a standard deviation of 6.19.\n",
      "Participants in the toys group had a mean of 52.64 and a standard deviation of 5.89.\n",
      "Participants in the clothes group had a mean of 28.00 and a standard deviation of 8.14.\n",
      "\n",
      "Since we have rejected the null hypothesis in the ANOVA test, let's perform the LSD test.\n",
      "t-critical value for alpha=0.05, df=29 is 2.0452\n",
      "Mean Square Error = 44.7401\n",
      "12 11 46.416666666666664 52.63636363636363 44.74007314524556 5.710411112606669\n",
      "\n",
      "Currently comparing food vs toys...\n",
      "\n",
      "Using the formula for confidence interval:\n"
     ]
    },
    {
     "data": {
      "text/latex": [
       "$\\bar{x}_A - \\bar{x}_B \\pm t_{\\alpha/2,df} \\sqrt{\\frac{MSE}{n_A} + \\frac{MSE}{n_B}}$"
      ],
      "text/plain": [
       "<IPython.core.display.Latex object>"
      ]
     },
     "metadata": {},
     "output_type": "display_data"
    },
    {
     "name": "stdout",
     "output_type": "stream",
     "text": [
      "Substituting the values we have:\n"
     ]
    },
    {
     "data": {
      "text/latex": [
       "$\\bar{x}_A - \\bar{x}_B \\pm 2.0452 \\sqrt{\\frac{44.7401}{12} + \\frac{44.7401}{11}}$"
      ],
      "text/plain": [
       "<IPython.core.display.Latex object>"
      ]
     },
     "metadata": {},
     "output_type": "display_data"
    },
    {
     "name": "stdout",
     "output_type": "stream",
     "text": [
      "LSD = 5.710411112606669\n",
      "The confidence intervals are:\n"
     ]
    },
    {
     "data": {
      "text/latex": [
       "Lower: 6.2197 - 5.7104 = 0.5093"
      ],
      "text/plain": [
       "<IPython.core.display.Latex object>"
      ]
     },
     "metadata": {},
     "output_type": "display_data"
    },
    {
     "data": {
      "text/latex": [
       "Upper: 6.2197 + 5.7104 = 11.9301"
      ],
      "text/plain": [
       "<IPython.core.display.Latex object>"
      ]
     },
     "metadata": {},
     "output_type": "display_data"
    },
    {
     "name": "stdout",
     "output_type": "stream",
     "text": [
      "12 9 46.416666666666664 28.0 44.74007314524556 6.032373076886716\n",
      "\n",
      "Currently comparing food vs clothes...\n",
      "\n",
      "Using the formula for confidence interval:\n"
     ]
    },
    {
     "data": {
      "text/latex": [
       "$\\bar{x}_A - \\bar{x}_B \\pm t_{\\alpha/2,df} \\sqrt{\\frac{MSE}{n_A} + \\frac{MSE}{n_B}}$"
      ],
      "text/plain": [
       "<IPython.core.display.Latex object>"
      ]
     },
     "metadata": {},
     "output_type": "display_data"
    },
    {
     "name": "stdout",
     "output_type": "stream",
     "text": [
      "Substituting the values we have:\n"
     ]
    },
    {
     "data": {
      "text/latex": [
       "$\\bar{x}_A - \\bar{x}_B \\pm 2.0452 \\sqrt{\\frac{44.7401}{12} + \\frac{44.7401}{9}}$"
      ],
      "text/plain": [
       "<IPython.core.display.Latex object>"
      ]
     },
     "metadata": {},
     "output_type": "display_data"
    },
    {
     "name": "stdout",
     "output_type": "stream",
     "text": [
      "LSD = 6.032373076886716\n",
      "The confidence intervals are:\n"
     ]
    },
    {
     "data": {
      "text/latex": [
       "Lower: 18.4167 - 6.0324 = 12.3843"
      ],
      "text/plain": [
       "<IPython.core.display.Latex object>"
      ]
     },
     "metadata": {},
     "output_type": "display_data"
    },
    {
     "data": {
      "text/latex": [
       "Upper: 18.4167 + 6.0324 = 24.4490"
      ],
      "text/plain": [
       "<IPython.core.display.Latex object>"
      ]
     },
     "metadata": {},
     "output_type": "display_data"
    },
    {
     "name": "stdout",
     "output_type": "stream",
     "text": [
      "11 9 52.63636363636363 28.0 44.74007314524556 6.148763992678526\n",
      "\n",
      "Currently comparing toys vs clothes...\n",
      "\n",
      "Using the formula for confidence interval:\n"
     ]
    },
    {
     "data": {
      "text/latex": [
       "$\\bar{x}_A - \\bar{x}_B \\pm t_{\\alpha/2,df} \\sqrt{\\frac{MSE}{n_A} + \\frac{MSE}{n_B}}$"
      ],
      "text/plain": [
       "<IPython.core.display.Latex object>"
      ]
     },
     "metadata": {},
     "output_type": "display_data"
    },
    {
     "name": "stdout",
     "output_type": "stream",
     "text": [
      "Substituting the values we have:\n"
     ]
    },
    {
     "data": {
      "text/latex": [
       "$\\bar{x}_A - \\bar{x}_B \\pm 2.0452 \\sqrt{\\frac{44.7401}{11} + \\frac{44.7401}{9}}$"
      ],
      "text/plain": [
       "<IPython.core.display.Latex object>"
      ]
     },
     "metadata": {},
     "output_type": "display_data"
    },
    {
     "name": "stdout",
     "output_type": "stream",
     "text": [
      "LSD = 6.148763992678526\n",
      "The confidence intervals are:\n"
     ]
    },
    {
     "data": {
      "text/latex": [
       "Lower: 24.6364 - 6.1488 = 18.4876"
      ],
      "text/plain": [
       "<IPython.core.display.Latex object>"
      ]
     },
     "metadata": {},
     "output_type": "display_data"
    },
    {
     "data": {
      "text/latex": [
       "Upper: 24.6364 + 6.1488 = 30.7851"
      ],
      "text/plain": [
       "<IPython.core.display.Latex object>"
      ]
     },
     "metadata": {},
     "output_type": "display_data"
    },
    {
     "name": "stdout",
     "output_type": "stream",
     "text": [
      "\n",
      "Here are the results of the LSD test for all pairs of groups:\n",
      "  Group A  Group B       LSD    |xA-xB|              Conclusion\n",
      "0    food     toys  5.710411   6.219697  significant difference\n",
      "1    food  clothes  6.032373  18.416667  significant difference\n",
      "2    toys  clothes  6.148764  24.636364  significant difference\n"
     ]
    }
   ],
   "source": [
    "attention = pd.read_csv(\"attention.csv\")\n",
    "levels={}\n",
    "for group in attention['commercial type'].unique():\n",
    "    levels[group]=attention.groupby('commercial type').get_group(group)['attention span (seconds)']\n",
    "\n",
    "print_hypothesis_anova()\n",
    "\n",
    "f,p,*extra=get_anova(levels,alpha=0.05)"
   ]
  }
 ],
 "metadata": {
  "kernelspec": {
   "display_name": "Python 3",
   "language": "python",
   "name": "python3"
  },
  "language_info": {
   "codemirror_mode": {
    "name": "ipython",
    "version": 3
   },
   "file_extension": ".py",
   "mimetype": "text/x-python",
   "name": "python",
   "nbconvert_exporter": "python",
   "pygments_lexer": "ipython3",
   "version": "3.11.4"
  },
  "orig_nbformat": 4
 },
 "nbformat": 4,
 "nbformat_minor": 2
}
