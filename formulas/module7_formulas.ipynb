{
 "cells": [
  {
   "cell_type": "code",
   "execution_count": 8,
   "metadata": {},
   "outputs": [
    {
     "name": "stdout",
     "output_type": "stream",
     "text": [
      "{'Low-Calorie': [8, 9, 6, 7, 3], 'Low-Fat': [2, 4, 3, 5, 1], 'Low-Carbohydrate': [3, 5, 4, 2, 3], 'Control': [2, 2, -1, 0, 3]}\n",
      "F=8.5593, p=0.0013\n",
      "Since, 0.0013 < 0.05, we reject the null hypothesis that all means are equal.\n",
      "Participants in the Low-Calorie group had a mean of 6.60 and a standard deviation of 2.30.\n",
      "Participants in the Low-Fat group had a mean of 3.00 and a standard deviation of 1.58.\n",
      "Participants in the Low-Carbohydrate group had a mean of 3.40 and a standard deviation of 1.14.\n",
      "Participants in the Control group had a mean of 1.20 and a standard deviation of 1.64.\n",
      "\n",
      "Since we have rejected the null hypothesis in the ANOVA test, let's perform the LSD test.\n",
      "t-critical value for alpha=0.05, df=16 is 2.1199\n",
      "Mean Square Error = 2.9500\n",
      "\n",
      "Here are the results of the LSD test for all pairs of groups:\n",
      "            Group A           Group B       LSD  |xA-xB|  \\\n",
      "0       Low-Calorie           Low-Fat  2.302807      3.6   \n",
      "1       Low-Calorie  Low-Carbohydrate  2.302807      3.2   \n",
      "2       Low-Calorie           Control  2.302807      5.4   \n",
      "3           Low-Fat  Low-Carbohydrate  2.302807      0.4   \n",
      "4           Low-Fat           Control  2.302807      1.8   \n",
      "5  Low-Carbohydrate           Control  2.302807      2.2   \n",
      "\n",
      "                  Conclusion  \n",
      "0     significant difference  \n",
      "1     significant difference  \n",
      "2     significant difference  \n",
      "3  no significant difference  \n",
      "4  no significant difference  \n",
      "5  no significant difference  \n"
     ]
    }
   ],
   "source": [
    "from module4 import *\n",
    "from scipy.stats import f_oneway,t\n",
    "import numpy as np\n",
    "import pandas as pd\n",
    "def print_hypothesis_anova():\n",
    "    print_latex(\"$H_0 : $ All means are equal\")\n",
    "    print_latex(\"$H_A : $ means are not all equal\")\n",
    "\n",
    "\n",
    "def get_lsd(levels, mse, df_residuals, alpha=0.05,df=None):\n",
    "    t_critical = t.ppf(1 - alpha/2, df_residuals)\n",
    "    print(f\"t-critical value for alpha={alpha}, df={df_residuals} is {t_critical:.4f}\")\n",
    "    print(f\"Mean Square Error = {mse:.4f}\")\n",
    "    if df is None:\n",
    "        df=pd.DataFrame(levels)\n",
    "    groups = list(df.columns)\n",
    "    lsd_results = []\n",
    "    \n",
    "    for i in range(len(groups)):\n",
    "        for j in range(i+1, len(groups)):\n",
    "            groupA, groupB = groups[i], groups[j]\n",
    "            nA = len(df[groupA].dropna())\n",
    "            nB = len(df[groupB].dropna())\n",
    "            xA = df[groupA].dropna().mean()\n",
    "            xB = df[groupB].dropna().mean()\n",
    "            lsd = t_critical * (mse * (1/nA + 1/nB))**0.5\n",
    "            \n",
    "            diff_means = abs(xA - xB)\n",
    "            conclusion = \"significant difference\" if lsd < diff_means else \"no significant difference\"\n",
    "            \n",
    "            lsd_results.append([groupA, groupB, lsd, diff_means, conclusion])\n",
    "    \n",
    "    lsd_df = pd.DataFrame(lsd_results, columns=['Group A', 'Group B', 'LSD', '|xA-xB|', 'Conclusion'])\n",
    "    \n",
    "    print(\"\\nHere are the results of the LSD test for all pairs of groups:\")\n",
    "    print(lsd_df)\n",
    "\n",
    "def get_anova(levels,alpha=0.05):\n",
    "    if type(levels)==pd.DataFrame:\n",
    "        levels = {col: levels[col].dropna().values for col in levels.columns}\n",
    "    print(levels)\n",
    "    F,p=f_oneway(*levels.values())\n",
    "    print(f\"F={F:.4f}, p={p:.4f}\")\n",
    "    \n",
    "    if p < alpha:\n",
    "        print(f\"Since, {p:.4f} < {alpha}, we reject the null hypothesis that all means are equal.\")\n",
    "        reject_null = True\n",
    "    else:\n",
    "        print(f\"Since, {p:.4f} > {alpha}, we fail to reject the null hypothesis that all means are equal.\")\n",
    "        reject_null = False\n",
    "        \n",
    "    for level in levels.keys():\n",
    "        print(f\"Participants in the {level} group had a mean of {np.mean(levels[level]):.2f} and a standard deviation of {np.std(levels[level],ddof=1):.2f}.\")\n",
    "    \n",
    "    # Calculate the Mean Square Error\n",
    "    residuals = []\n",
    "    grand_mean = np.mean(np.concatenate(list(levels.values())))\n",
    "    \n",
    "    for level in levels.keys():\n",
    "        residuals.extend(levels[level] - np.mean(levels[level]))\n",
    "    \n",
    "    ss_residuals = sum([r**2 for r in residuals])\n",
    "    df_residuals = len(np.concatenate(list(levels.values()))) - len(levels)\n",
    "    mse = ss_residuals / df_residuals\n",
    "    \n",
    "    if reject_null:\n",
    "        print(\"\\nSince we have rejected the null hypothesis in the ANOVA test, let's perform the LSD test.\")\n",
    "        get_lsd(levels, mse, df_residuals, alpha)\n",
    "    else:\n",
    "        print(\"\\nSince we have failed to reject the null hypothesis in the ANOVA test, there's no need to perform the LSD test.\")\n",
    "\n",
    "    return F, p, mse, df_residuals, reject_null\n",
    "\n",
    "levels={}\n",
    "levels[\"Low-Calorie\"]=[8,9,6,7,3]\n",
    "levels[\"Low-Fat\"]=[2,4,3,5,1]\n",
    "levels[\"Low-Carbohydrate\"]=[3,5,4,2,3]\n",
    "levels[\"Control\"]=[2,2,-1,0,3]\n",
    "F,p,*extra=get_anova(levels,alpha=0.05)"
   ]
  },
  {
   "cell_type": "code",
   "execution_count": 9,
   "metadata": {},
   "outputs": [
    {
     "data": {
      "text/latex": [
       "$H_0 : $ All means are equal"
      ],
      "text/plain": [
       "<IPython.core.display.Latex object>"
      ]
     },
     "metadata": {},
     "output_type": "display_data"
    },
    {
     "data": {
      "text/latex": [
       "$H_A : $ means are not all equal"
      ],
      "text/plain": [
       "<IPython.core.display.Latex object>"
      ]
     },
     "metadata": {},
     "output_type": "display_data"
    },
    {
     "name": "stdout",
     "output_type": "stream",
     "text": [
      "{'Normal Bone Density': [1200, 1000, 980, 900, 750, 800], 'Osteopenia': [1000, 1100, 700, 800, 500, 700], 'Osteoporosis': [890, 650, 1100, 900, 400, 350]}\n",
      "F=1.3949, p=0.2782\n",
      "Since, 0.2782 > 0.01, we fail to reject the null hypothesis that all means are equal.\n",
      "Participants in the Normal Bone Density group had a mean of 938.33 and a standard deviation of 161.30.\n",
      "Participants in the Osteopenia group had a mean of 800.00 and a standard deviation of 219.09.\n",
      "Participants in the Osteoporosis group had a mean of 715.00 and a standard deviation of 299.92.\n",
      "\n",
      "Since we have failed to reject the null hypothesis in the ANOVA test, there's no need to perform the LSD test.\n"
     ]
    }
   ],
   "source": [
    "levels={}\n",
    "levels[\"Normal Bone Density\"]=[1200,1000,980,900,750,800]\n",
    "levels[\"Osteopenia\"]=[1000,1100,700,800,500,700]\n",
    "levels[\"Osteoporosis\"]=[890,650,1100,900,400,350]\n",
    "print_hypothesis_anova()\n",
    "F,p,*extra=get_anova(levels,alpha=0.01)"
   ]
  },
  {
   "cell_type": "markdown",
   "metadata": {},
   "source": [
    "Steps in doing a least significant difference test (LSD)\n",
    "\n",
    "Let A,B are the groups that you are comparing.\n",
    "Let MSE be the mean square of error which (also called mean square within groups), obtained from the ANOVA table.\n",
    "Let nA,nB are the number of elements in groups A\n",
    " and B, respectively.\n"
   ]
  },
  {
   "cell_type": "code",
   "execution_count": 10,
   "metadata": {},
   "outputs": [
    {
     "data": {
      "text/latex": [
       "$H_0 : $ All means are equal"
      ],
      "text/plain": [
       "<IPython.core.display.Latex object>"
      ]
     },
     "metadata": {},
     "output_type": "display_data"
    },
    {
     "data": {
      "text/latex": [
       "$H_A : $ means are not all equal"
      ],
      "text/plain": [
       "<IPython.core.display.Latex object>"
      ]
     },
     "metadata": {},
     "output_type": "display_data"
    },
    {
     "name": "stdout",
     "output_type": "stream",
     "text": [
      "{'Low-Calorie': [8, 9, 6, 7, 3], 'Low-Fat': [2, 4, 3, 5, 1], 'Low-Carbohydrate': [3, 5, 4, 2, 3], 'Control': [2, 2, -1, 0, 3]}\n",
      "F=8.5593, p=0.0013\n",
      "Since, 0.0013 < 0.05, we reject the null hypothesis that all means are equal.\n",
      "Participants in the Low-Calorie group had a mean of 6.60 and a standard deviation of 2.30.\n",
      "Participants in the Low-Fat group had a mean of 3.00 and a standard deviation of 1.58.\n",
      "Participants in the Low-Carbohydrate group had a mean of 3.40 and a standard deviation of 1.14.\n",
      "Participants in the Control group had a mean of 1.20 and a standard deviation of 1.64.\n",
      "\n",
      "Since we have rejected the null hypothesis in the ANOVA test, let's perform the LSD test.\n",
      "t-critical value for alpha=0.05, df=16 is 2.1199\n",
      "Mean Square Error = 2.9500\n",
      "\n",
      "Here are the results of the LSD test for all pairs of groups:\n",
      "            Group A           Group B       LSD  |xA-xB|  \\\n",
      "0       Low-Calorie           Low-Fat  2.302807      3.6   \n",
      "1       Low-Calorie  Low-Carbohydrate  2.302807      3.2   \n",
      "2       Low-Calorie           Control  2.302807      5.4   \n",
      "3           Low-Fat  Low-Carbohydrate  2.302807      0.4   \n",
      "4           Low-Fat           Control  2.302807      1.8   \n",
      "5  Low-Carbohydrate           Control  2.302807      2.2   \n",
      "\n",
      "                  Conclusion  \n",
      "0     significant difference  \n",
      "1     significant difference  \n",
      "2     significant difference  \n",
      "3  no significant difference  \n",
      "4  no significant difference  \n",
      "5  no significant difference  \n"
     ]
    }
   ],
   "source": [
    "from scipy.stats import f_oneway, t\n",
    "import numpy as np\n",
    "import pandas as pd\n",
    "\n",
    "levels={}\n",
    "levels[\"Low-Calorie\"]=[8,9,6,7,3]\n",
    "levels[\"Low-Fat\"]=[2,4,3,5,1]\n",
    "levels[\"Low-Carbohydrate\"]=[3,5,4,2,3]\n",
    "levels[\"Control\"]=[2,2,-1,0,3]\n",
    "\n",
    "df=pd.DataFrame(levels)\n",
    "alpha = 0.05\n",
    "print_hypothesis_anova()\n",
    "F, p, mse, df_residuals, reject_null = get_anova(levels,alpha)\n",
    "\n",
    "\n",
    "\n"
   ]
  },
  {
   "cell_type": "code",
   "execution_count": 11,
   "metadata": {},
   "outputs": [
    {
     "data": {
      "text/latex": [
       "$H_0 : $ All means are equal"
      ],
      "text/plain": [
       "<IPython.core.display.Latex object>"
      ]
     },
     "metadata": {},
     "output_type": "display_data"
    },
    {
     "data": {
      "text/latex": [
       "$H_A : $ means are not all equal"
      ],
      "text/plain": [
       "<IPython.core.display.Latex object>"
      ]
     },
     "metadata": {},
     "output_type": "display_data"
    },
    {
     "name": "stdout",
     "output_type": "stream",
     "text": [
      "{'Location 1': array([5.7, 6.3, 6.1, 6. , 5.8, 6.2]), 'Location 2': array([6.2, 5.3, 5.7, 6. , 5.2, 5.5]), 'Location 3': array([5.4, 5. , 6. , 5.6, 4.9, 5.2]), 'Location 4': array([3.7, 3.2, 3.9, 4. , 3.5, 3.6])}\n",
      "F=57.3837, p=0.0000\n",
      "Since, 0.0000 < 0.01, we reject the null hypothesis that all means are equal.\n",
      "Participants in the Location 1 group had a mean of 6.02 and a standard deviation of 0.23.\n",
      "Participants in the Location 2 group had a mean of 5.65 and a standard deviation of 0.39.\n",
      "Participants in the Location 3 group had a mean of 5.35 and a standard deviation of 0.41.\n",
      "Participants in the Location 4 group had a mean of 3.65 and a standard deviation of 0.29.\n",
      "\n",
      "Since we have rejected the null hypothesis in the ANOVA test, let's perform the LSD test.\n",
      "t-critical value for alpha=0.01, df=20 is 2.8453\n",
      "Mean Square Error = 0.1147\n",
      "\n",
      "Here are the results of the LSD test for all pairs of groups:\n",
      "      Group A     Group B       LSD   |xA-xB|                 Conclusion\n",
      "0  Location 1  Location 2  0.556278  0.366667  no significant difference\n",
      "1  Location 1  Location 3  0.556278  0.666667     significant difference\n",
      "2  Location 1  Location 4  0.556278  2.366667     significant difference\n",
      "3  Location 2  Location 3  0.556278  0.300000  no significant difference\n",
      "4  Location 2  Location 4  0.556278  2.000000     significant difference\n",
      "5  Location 3  Location 4  0.556278  1.700000     significant difference\n"
     ]
    }
   ],
   "source": [
    "df=pd.read_csv('module7_solved_problem1.csv')\n",
    "print_hypothesis_anova()\n",
    "F, p, mse, df_residuals, reject_null=get_anova(df,alpha=0.01)\n"
   ]
  },
  {
   "cell_type": "code",
   "execution_count": 12,
   "metadata": {},
   "outputs": [
    {
     "data": {
      "text/latex": [
       "$H_0 : $ All means are equal"
      ],
      "text/plain": [
       "<IPython.core.display.Latex object>"
      ]
     },
     "metadata": {},
     "output_type": "display_data"
    },
    {
     "data": {
      "text/latex": [
       "$H_A : $ means are not all equal"
      ],
      "text/plain": [
       "<IPython.core.display.Latex object>"
      ]
     },
     "metadata": {},
     "output_type": "display_data"
    },
    {
     "name": "stdout",
     "output_type": "stream",
     "text": [
      "{'City A': array([2610, 2550, 2480, 2600, 2630]), 'City B': array([2530, 2560, 2580, 2550, 2460]), 'City C': array([2500, 2450, 2550, 2480, 2600])}\n",
      "F=1.4015, p=0.2838\n",
      "Since, 0.2838 > 0.05, we fail to reject the null hypothesis that all means are equal.\n",
      "Participants in the City A group had a mean of 2574.00 and a standard deviation of 60.25.\n",
      "Participants in the City B group had a mean of 2536.00 and a standard deviation of 46.15.\n",
      "Participants in the City C group had a mean of 2516.00 and a standard deviation of 59.41.\n",
      "\n",
      "Since we have failed to reject the null hypothesis in the ANOVA test, there's no need to perform the LSD test.\n"
     ]
    }
   ],
   "source": [
    "df = pd.read_csv('module7_solved_problem2.csv')\n",
    "print_hypothesis_anova()\n",
    "F, p, mse, df_residuals, reject_null=get_anova(df,alpha=0.05)"
   ]
  },
  {
   "cell_type": "code",
   "execution_count": 13,
   "metadata": {},
   "outputs": [
    {
     "name": "stdout",
     "output_type": "stream",
     "text": [
      "Method                     A     B     C\n",
      "Scores on the HLT Test  73.0  54.0  79.0\n",
      "Unnamed: 2              83.0  74.0  95.0\n",
      "Unnamed: 3              76.0  71.0  87.0\n",
      "Unnamed: 4              68.0   NaN   NaN\n",
      "Unnamed: 5              80.0   NaN   NaN\n"
     ]
    }
   ],
   "source": [
    "df=pd.read_csv('module7_exercise_problem1.csv')\n",
    "df = df.set_index(\"Method\").T\n",
    "print (df)\n",
    "# print_hypothesis_anova()\n",
    "# F, p, mse, df_residuals, reject_null=get_anova(df,alpha=0.05)"
   ]
  },
  {
   "cell_type": "code",
   "execution_count": 14,
   "metadata": {},
   "outputs": [
    {
     "name": "stdout",
     "output_type": "stream",
     "text": [
      "    carat        cut\n",
      "0    0.22       Fair\n",
      "1    0.86       Fair\n",
      "2    0.96       Fair\n",
      "3    0.23       Good\n",
      "4    0.31       Good\n",
      "..    ...        ...\n",
      "95   0.26  Very Good\n",
      "96   0.26  Very Good\n",
      "97   0.71  Very Good\n",
      "98   0.78  Very Good\n",
      "99   0.73  Very Good\n",
      "\n",
      "[100 rows x 2 columns]\n"
     ]
    }
   ],
   "source": [
    "df=pd.read_csv('diamonds-carat-cut.csv')\n",
    "df.groupby('cut')\n",
    "print(df)\n",
    "\n"
   ]
  }
 ],
 "metadata": {
  "kernelspec": {
   "display_name": "Python 3",
   "language": "python",
   "name": "python3"
  },
  "language_info": {
   "codemirror_mode": {
    "name": "ipython",
    "version": 3
   },
   "file_extension": ".py",
   "mimetype": "text/x-python",
   "name": "python",
   "nbconvert_exporter": "python",
   "pygments_lexer": "ipython3",
   "version": "3.11.4"
  },
  "orig_nbformat": 4
 },
 "nbformat": 4,
 "nbformat_minor": 2
}
