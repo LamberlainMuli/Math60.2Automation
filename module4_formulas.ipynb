{
 "cells": [
  {
   "cell_type": "code",
   "execution_count": 185,
   "metadata": {},
   "outputs": [],
   "source": [
    "import math\n",
    "from scipy.stats import norm\n",
    "from IPython.display import display, Latex\n",
    "\n",
    "def print_latex(string):\n",
    "    display(Latex(string))\n",
    "\n",
    "def solution_standardization_population(lower=None,upper=None,probability=None):\n",
    "    if lower is None and upper is not None:\n",
    "        print_latex(f\"$P(X \\\\le {{{upper}}}) = {probability}$\")\n",
    "        print_latex(f\"$P(\\\\frac{{X - \\\\mu}}{{\\\\sigma}} \\\\le \\\\frac{{{{{upper}}}-\\\\mu}}{{\\\\sigma}})  = {probability}$\")\n",
    "        print_latex(f\"Let $Z=\\\\frac{{X - \\\\mu}}{{\\\\sigma}}$, then $Z\\\\approx N(0,1)$. Substituting Z, we get\")\n",
    "        print_latex(f\"$P(Z \\\\le \\\\frac{{{{{upper}}}-\\\\mu}}{{\\\\sigma}})  = {probability}$\")\n",
    "        print(\"Taking the inverse of the cumulative distribution function, we get:\")\n",
    "        print_latex(f\"$\\\\frac{{{{{upper}}}-\\\\mu}}{{\\\\sigma}} = $ norm.ppf(${probability}$)\")\n",
    "    elif lower is not None and upper is None:    \n",
    "        print_latex(f\"$P(X \\\\ge {{{lower}}}) = {probability}$\")\n",
    "        print_latex(f\"$P(X \\\\le {{{lower}}}) = 1-{probability}$\")\n",
    "        print_latex(f\"$P(\\\\frac{{X - \\\\mu}}{{\\\\sigma}} \\\\le \\\\frac{{{{{lower}}}-\\\\mu}}{{\\\\sigma}})  = 1 - {probability}$\")\n",
    "        print_latex(f\"Let $Z=\\\\frac{{X - \\\\mu}}{{\\\\sigma}}$, then $Z\\\\approx N(0,1)$. Substituting Z, we get\")\n",
    "        print_latex(f\"$P(Z \\\\le \\\\frac{{{{{lower}}}-\\\\mu}}{{\\\\sigma}})  = 1 - {probability}$\")\n",
    "        print(\"Taking the inverse of the cumulative distribution function, we get:\")\n",
    "        print_latex(f\"$\\\\frac{{{{{lower}}}-\\\\mu}}{{\\\\sigma}} = $ norm.ppf($1 - {probability}$)\")\n",
    "\n",
    "def probability_population(mean=None,sd=None,lower=None,upper=None,probability=None):\n",
    "    if mean is None:\n",
    "        if probability is not None and sd is not None and (lower is not None or upper is not None):\n",
    "            if lower is not None and upper is not None:\n",
    "                print(f\"Cannot calculate sample size with both lower and upper bounds\")\n",
    "            elif lower is not None:\n",
    "                solution_standardization_population(lower=lower,probability=probability)\n",
    "                print(\"Solving for the mean, we get:\")\n",
    "                print_latex(f\"$\\\\mu= {lower} - $ norm.ppf( $1-{probability} $) $* {sd} \\\\approx {lower - norm.ppf(1-probability) * sd }$\")\n",
    "                print(f\"The mean is {lower + norm.ppf(probability, loc=0, scale=1) * sd }\")\n",
    "            elif upper is not None:\n",
    "                solution_standardization_population(upper=upper,probability=probability)\n",
    "                print(\"Solving for the mean, we get:\")\n",
    "                print_latex(f\"$\\\\mu= {upper} - $ norm.ppf( $ {probability} $) $* {sd} \\\\approx {upper - norm.ppf(probability) * sd }$\")\n",
    "                print(f\"The mean is {upper - norm.ppf(probability) * sd}\")\n",
    "        else:\n",
    "            print(\"To calculate the mean, please provide the probability, standard deviation, and upper or lower bound.\")\n",
    "    elif sd is None:\n",
    "        if probability is not None and mean is not None and (lower is not None or upper is not None):\n",
    "            if lower is not None and upper is not None:\n",
    "                print(f\"Cannot calculate sample size with both lower and upper bounds\")\n",
    "            elif lower is not None:\n",
    "                solution_standardization_population(lower=lower,probability=probability)\n",
    "                print(\"Solving for the standard deviation, we get:\")\n",
    "                print_latex(f\"$ \\\\sigma= \\\\frac{{ {lower} - {mean} }} {{ norm.ppf(1- {probability}) }} \\\\approx {abs(abs(lower - mean)/norm.ppf(1-probability))} $\")\n",
    "                print(f\"The standard deviation is {abs(abs(lower - mean)/norm.ppf(1-probability, loc=0, scale=1) )}\")\n",
    "            elif upper is not None:\n",
    "                solution_standardization_population(upper=upper,probability=probability)\n",
    "                print(\"Solving for the standard deviation, we get:\")\n",
    "                print_latex(f\"$ \\\\sigma= \\\\frac{{{upper} - {mean}}}{{ norm.ppf({probability}) }}  \\\\approx {abs(abs(upper - mean)/norm.ppf(probability))} $\")\n",
    "                print(f\"The standard deviation is {abs(abs(upper - mean)/norm.ppf(probability, loc=0, scale=1) )}\")\n",
    "        else:\n",
    "            print(\"To calculate the standard deviation, please provide the probability, mean, and upper or lower bound.\")\n",
    "    elif probability is None:\n",
    "        if mean is not None and sd is not None and (lower is not None or upper is not None):\n",
    "            if lower is None and upper is None:\n",
    "                print(f\"To calculate the probability, provide lower bound or upper bound.\")\n",
    "            elif lower is not None and upper is None:\n",
    "                print_latex(f\"$P(X \\\\ge {{{lower}}}) = 1-P(X \\le {{{lower}}})$\")\n",
    "                print_latex(f\"$P(X \\\\ge {{{lower}}}) = 1- $ norm.cdf(${lower}$,${mean}$,${sd}$) \")\n",
    "                print_latex(f\"$P(X \\\\ge {{{lower}}}) = {1-norm.cdf(lower,loc=mean,scale=sd)}$\")\n",
    "                print(f\"The probability that the X is greater than {lower} is {1-norm.cdf(lower,loc=mean,scale=sd)}\")\n",
    "            elif lower is None and upper is not None:\n",
    "                print_latex(f\"$P(X \\\\le {{{upper}}}) = $ norm.cdf(${upper}$,${mean}$,${sd}$) \")\n",
    "                print_latex(f\"$P(X \\\\le {{{upper}}}) = {norm.cdf(upper,loc=mean,scale=sd)}$\")\n",
    "                print(f\"The probability that the X is less than {upper} is {norm.cdf(upper,loc=mean,scale=sd)}\")\n",
    "            elif lower is not None and upper is not None:\n",
    "                print_latex(f\"$P({{{lower}}} \\\\le X \\\\le {{{upper}}}) = P(X \\\\le {{{upper}}}) - P(X \\\\le {{{lower}}})$\")\n",
    "                print_latex(f\"$P({{{lower}}} \\\\le X \\\\le {{{upper}}}) = $ norm.cdf(${upper}$,${mean}$,${sd}$) - norm.cdf(${lower}$,${mean}$,${sd}$) \")\n",
    "                print_latex(f\"$P({{{lower}}} \\\\le X \\\\le {{{upper}}}) = {norm.cdf(upper,loc=mean,scale=sd)-norm.cdf(lower,loc=mean,scale=sd)}$\")\n",
    "                print(f\"The probability that the X is between {lower} and {upper} is {norm.cdf(upper,loc=mean,scale=sd)-norm.cdf(lower,loc=mean,scale=sd)}\")\n",
    "        else:\n",
    "            print(\"To calculate the probability, please provide the mean, standard deviation, sample size, and lower bound or upper bound.\")\n",
    "    elif lower is None and upper is not None:\n",
    "        if probability is not None and mean is not None and sd is not None:\n",
    "            solution_standardization_population(lower=\"lower\",probability=probability)\n",
    "            print(\"Solving for the lower bound we get:\")\n",
    "            print_latex(f\"$lower={{{mean}}}-norm.ppf({probability})*{sd} \\\\approx {mean - norm.ppf(probability, loc=0, scale=1) * sd }$\")\n",
    "            print(f\"The lower bound is {mean - norm.ppf(probability, loc=0, scale=1) * sd }\")\n",
    "        else:\n",
    "            print(\"To calculate the lower bound, please provide the probability, mean, standard deviation, and sample size.\")\n",
    "    elif lower is not None and upper is None:\n",
    "        if probability is not None and mean is not None and sd is not None:\n",
    "            solution_standardization_population(upper=\"upper\",probability=probability)\n",
    "            print(\"Solving for the upper bound we get:\")\n",
    "            print_latex(f\"$upper={{{mean}}}+norm.ppf({probability})*{sd} \\\\approx {mean + norm.ppf(probability, loc=0, scale=1) * sd }$\")\n",
    "            print(f\"The upper bound is {mean + norm.ppf(probability, loc=0, scale=1) * sd}\")\n",
    "        else:\n",
    "            print(\"To calculate the upper bound, please provide the probability, mean, standard deviation, and sample size.\")\n",
    "    else:\n",
    "        print(\"Please provide any 3 quantities from (probability, mean, standard deviation, sample size) and either upper or lower bound.\")  \n",
    "\n",
    "\n",
    "# mean=0\n",
    "# sd=1\n",
    "# lower=-2\n",
    "# upper=2\n",
    "# probability=0.9772498680518208\n",
    "# probability_population(mean=mean,sd=sd,upper=upper)\n",
    "# probability_population(probability=probability,sd=sd,upper=upper)\n",
    "\n",
    "# probability_population(mean=mean,sd=sd,lower=lower)\n",
    "# probability_population(probability=probability,sd=sd,lower=lower)\n",
    "\n",
    "# probability_population(mean=mean,sd=sd,upper=upper)\n",
    "\n",
    "# probability_population(mean=mean,probability=probability,upper=upper)\n",
    "# probability_population(mean=mean,probability=probability,lower=lower)\n",
    "\n",
    "# probability_population(mean=mean,sd=sd,probability=probability,upper=False)\n",
    "# probability_population(mean=mean,sd=sd,lower=False,probability=probability)\n"
   ]
  },
  {
   "attachments": {},
   "cell_type": "markdown",
   "metadata": {},
   "source": [
    "Module 4.2: Sampling Distribution of the Mean and the CLT\n",
    "\n",
    "standard error formula\n",
    "\n",
    "$SE = \\frac{\\sigma}{\\sqrt{n}}$"
   ]
  },
  {
   "cell_type": "code",
   "execution_count": 186,
   "metadata": {},
   "outputs": [
    {
     "data": {
      "text/latex": [
       "Given the formula for the standard error of the mean: $SE=\\frac{\\sigma}{\\sqrt{n}}$. We substitute the values as follows:"
      ],
      "text/plain": [
       "<IPython.core.display.Latex object>"
      ]
     },
     "metadata": {},
     "output_type": "display_data"
    },
    {
     "data": {
      "text/latex": [
       "$SE=\\frac{5}{\\sqrt{20}} \\approx 1.118033988749895$ "
      ],
      "text/plain": [
       "<IPython.core.display.Latex object>"
      ]
     },
     "metadata": {},
     "output_type": "display_data"
    },
    {
     "data": {
      "text/latex": [
       "Given the formula for the standard error of the mean: $SE=\\frac{\\sigma}{\\sqrt{n}}$. We can rearrange as follows to isolate the standard deviation:"
      ],
      "text/plain": [
       "<IPython.core.display.Latex object>"
      ]
     },
     "metadata": {},
     "output_type": "display_data"
    },
    {
     "data": {
      "text/latex": [
       "$\\sigma=SE\\sqrt n$"
      ],
      "text/plain": [
       "<IPython.core.display.Latex object>"
      ]
     },
     "metadata": {},
     "output_type": "display_data"
    },
    {
     "name": "stdout",
     "output_type": "stream",
     "text": [
      "Substituting the values we get:\n"
     ]
    },
    {
     "data": {
      "text/latex": [
       "$\\sigma=1.118033988749895\\sqrt{20} \\approx 5.000000000000001$"
      ],
      "text/plain": [
       "<IPython.core.display.Latex object>"
      ]
     },
     "metadata": {},
     "output_type": "display_data"
    },
    {
     "data": {
      "text/latex": [
       "Given the formula for the standard error of the mean: $SE=\\frac{\\sigma}{\\sqrt{n}}$. We can rearrange as follows to isolate the sample size:"
      ],
      "text/plain": [
       "<IPython.core.display.Latex object>"
      ]
     },
     "metadata": {},
     "output_type": "display_data"
    },
    {
     "data": {
      "text/latex": [
       "$n=(\\frac{\\sigma}{SE})^2$"
      ],
      "text/plain": [
       "<IPython.core.display.Latex object>"
      ]
     },
     "metadata": {},
     "output_type": "display_data"
    },
    {
     "name": "stdout",
     "output_type": "stream",
     "text": [
      "Substituting the values we get:\n"
     ]
    },
    {
     "data": {
      "text/latex": [
       "$n=(\\frac{5}{1.118033988749895})^2 \\approx 20.000000000000004$"
      ],
      "text/plain": [
       "<IPython.core.display.Latex object>"
      ]
     },
     "metadata": {},
     "output_type": "display_data"
    }
   ],
   "source": [
    "def standard_error_mean(se=None,sd=None,n=None):\n",
    "    if se is None and sd is not None and n is not None:\n",
    "        print_latex(f\"Given the formula for the standard error of the mean: $SE=\\\\frac{{\\\\sigma}}{{\\\\sqrt{{n}}}}$. We substitute the values as follows:\")\n",
    "        print_latex(f\"$SE=\\\\frac{{{sd}}}{{\\\\sqrt{{{n}}}}} \\\\approx {sd/math.sqrt(n)}$ \")\n",
    "    elif sd is None and n is not None and se is not None:\n",
    "        print_latex(f\"Given the formula for the standard error of the mean: $SE=\\\\frac{{\\\\sigma}}{{\\\\sqrt{{n}}}}$. We can rearrange as follows to isolate the standard deviation:\")\n",
    "        print_latex(f\"$\\\\sigma=SE\\\\sqrt n$\")\n",
    "        print(\"Substituting the values we get:\")\n",
    "        print_latex(f\"$\\\\sigma={se}\\\\sqrt{{{n}}} \\\\approx {se*math.sqrt(n)}$\")\n",
    "    elif n is None and se is not None and sd is not None:\n",
    "        print_latex(f\"Given the formula for the standard error of the mean: $SE=\\\\frac{{\\\\sigma}}{{\\\\sqrt{{n}}}}$. We can rearrange as follows to isolate the sample size:\")\n",
    "        print_latex(f\"$n=(\\\\frac{{\\\\sigma}}{{SE}})^2$\")\n",
    "        print(\"Substituting the values we get:\")\n",
    "        print_latex(f\"$n=(\\\\frac{{{sd}}}{{{se}}})^2 \\\\approx {math.pow(sd/se,2)}$\")\n",
    "    else:\n",
    "        print(f\"Please provide two of the three values: se, sd, n\")\n",
    "        \n",
    "se=1.118033988749895\n",
    "sd=5\n",
    "n=20\n",
    "standard_error_mean(sd=sd,n=n)\n",
    "standard_error_mean(n=n,se=se)\n",
    "standard_error_mean(se=se,sd=sd)\n"
   ]
  },
  {
   "attachments": {},
   "cell_type": "markdown",
   "metadata": {},
   "source": [
    "Probability that sample mean is within a bound\n",
    "\n",
    "probability = norm.cdf(lower_bound,mean,se)-norm.cdf(lower_bound,mean,se)\n",
    "\n",
    "$prob = F_X(lower)-F_X(lower)$\n",
    "\n",
    "find $\\mu$ given upper\n",
    "\n",
    "$P(\\mu\\le upper) = prob$\n",
    "\n",
    "$\\frac{upper-\\mu}{sd} = F^{-1}_X(prob)$\n",
    "\n",
    "$upper-\\mu = sd*F^{-1}_X(prob)$\n",
    "\n",
    "$\\mu = upper-sd*F^{-1}_X(prob)$\n",
    "\n",
    "find $\\mu$ given lower\n",
    "\n",
    "$P(\\mu\\ge lower) = prob$\n",
    "\n",
    "$P(\\mu \\le lower) = 1-prob$\n",
    "\n",
    "$\\frac{lower-\\mu}{sd} = F^{-1}_X(1-prob)$\n",
    "\n",
    "$lower-\\mu = sd*F^{-1}_X(1-prob)$\n",
    "\n",
    "$\\mu = lower-sd*F^{-1}_X(1-prob)$\n",
    "\n",
    "find $\\mu$ given lower and upper\n",
    "\n",
    "$P(lower\\le \\mu \\le upper) = prob$\n",
    "$P(\\mu \\le upper) - P(\\mu\\le lower)  = prob$\n",
    "Not solvable"
   ]
  },
  {
   "attachments": {},
   "cell_type": "markdown",
   "metadata": {},
   "source": [
    "find sd given upper\n",
    "\n",
    "$(mean \\le upper) = prob$\n",
    "\n",
    "let $Z \\approx N(0,1)$\n",
    "\n",
    "$(Z \\le (\\frac{upper-mean}{se})) = prob$\n",
    "\n",
    "$\\frac{upper-mean}{se} = F_X^{-1}(prob)$\n",
    "\n",
    "$upper-mean = se* F_X^{-1}(prob)$\n",
    "\n",
    "$upper-mean = \\frac{\\sigma}{\\sqrt{n}}* F_X^{-1}(prob)$\n",
    "\n",
    "$\\sigma = \\frac{\\sqrt{n}*(upper-mean)}{F_X^{-1}(prob)}$\n",
    "\n",
    "find sd given lower\n",
    "\n",
    "$(mean \\ge lower) = prob$\n",
    "\n",
    "$(mean \\le lower) = 1-prob$\n",
    "\n",
    "let $Z \\approx N(0,1)$\n",
    "\n",
    "$(Z \\le (\\frac{lower-mean}{se})) = 1-prob$\n",
    "\n",
    "$\\frac{lower-mean}{se} = F_X^{-1}(1-prob)$\n",
    "\n",
    "$lower-mean = se* F_X^{-1}(1-prob)$\n",
    "\n",
    "$lower-mean = \\frac{\\sigma}{\\sqrt{n}}* F_X^{-1}(1-prob)$\n",
    "\n",
    "$\\sigma = \\frac{\\sqrt{n}*(lower-mean)}{F_X^{-1}(1-prob)}$\n",
    "\n",
    "\n",
    "\n"
   ]
  },
  {
   "attachments": {},
   "cell_type": "markdown",
   "metadata": {},
   "source": [
    "find sd,n,upper \n",
    "\n",
    "$(mean \\le upper) = prob$\n",
    "\n",
    "let $Z \\approx N(0,1)$\n",
    "\n",
    "$(Z \\le (\\frac{upper-mean}{se})) = prob$\n",
    "\n",
    "$\\frac{upper-mean}{se} = F_X^{-1}(prob)$\n",
    "\n",
    "$upper-mean = se* F_X^{-1}(prob)$\n",
    "\n",
    "$upper-mean = \\frac{\\sigma}{\\sqrt{n}}* F_X^{-1}(prob)$\n",
    "\n",
    "\n",
    "$\\sigma = \\frac{\\sqrt{n}*(upper-mean)}{F_X^{-1}(prob)}$\n",
    "\n",
    "$n = [\\frac{(F_X^{-1}(prob))*(\\sigma)}{(upper-mean)}]^2 $\n",
    "\n",
    "$upper = mean + \\frac{\\sigma}{\\sqrt{n}}* F_X^{-1}(prob)$\n",
    "\n",
    "find sd,n,lower\n",
    "\n",
    "$(mean \\ge lower) = prob$\n",
    "\n",
    "$(mean \\le lower) = 1-prob$\n",
    "\n",
    "let $Z \\approx N(0,1)$\n",
    "\n",
    "$(Z \\le (\\frac{lower-mean}{se})) = 1-prob$\n",
    "\n",
    "$\\frac{lower-mean}{se} = F_X^{-1}(1-prob)$\n",
    "\n",
    "$lower-mean = se* F_X^{-1}(1-prob)$\n",
    "\n",
    "$lower-mean = \\frac{\\sigma}{\\sqrt{n}}* F_X^{-1}(1-prob)$\n",
    "\n",
    "\n",
    "$\\sigma = \\frac{\\sqrt{n}*(lower-mean)}{F_X^{-1}(1-prob)}$\n",
    "\n",
    "$n = [\\frac{(F_X^{-1}(prob))*(\\sigma)}{(upper-mean)}]^2 $\n",
    "\n",
    "$lower = mean + \\frac{\\sigma}{\\sqrt{n}}* F_X^{-1}(1-prob)$\n",
    "\n"
   ]
  },
  {
   "cell_type": "code",
   "execution_count": 187,
   "metadata": {},
   "outputs": [
    {
     "name": "stdout",
     "output_type": "stream",
     "text": [
      "3a\n",
      "\n",
      "\n",
      "Solving for the mean:\n"
     ]
    },
    {
     "data": {
      "text/latex": [
       "$P(\\bar X \\le {7}) = 0.08545176011539873$"
      ],
      "text/plain": [
       "<IPython.core.display.Latex object>"
      ]
     },
     "metadata": {},
     "output_type": "display_data"
    },
    {
     "data": {
      "text/latex": [
       "$P(\\frac{\\bar X - \\mu}{\\sigma} \\le \\frac{{7}-\\mu}{\\sigma})  = 0.08545176011539873$"
      ],
      "text/plain": [
       "<IPython.core.display.Latex object>"
      ]
     },
     "metadata": {},
     "output_type": "display_data"
    },
    {
     "data": {
      "text/latex": [
       "Let $Z=\\frac{\\bar X - \\mu}{\\sigma}$, then $Z\\approx N(0,1)$. Substituting Z, we get"
      ],
      "text/plain": [
       "<IPython.core.display.Latex object>"
      ]
     },
     "metadata": {},
     "output_type": "display_data"
    },
    {
     "data": {
      "text/latex": [
       "$P(Z \\le \\frac{{7}-\\mu}{\\sigma})  = 0.08545176011539873$"
      ],
      "text/plain": [
       "<IPython.core.display.Latex object>"
      ]
     },
     "metadata": {},
     "output_type": "display_data"
    },
    {
     "name": "stdout",
     "output_type": "stream",
     "text": [
      "Taking the inverse of the cumulative distribution function, we get:\n"
     ]
    },
    {
     "data": {
      "text/latex": [
       "$\\frac{{7}-\\mu}{\\sigma} = $ norm.ppf($0.08545176011539873$)"
      ],
      "text/plain": [
       "<IPython.core.display.Latex object>"
      ]
     },
     "metadata": {},
     "output_type": "display_data"
    },
    {
     "name": "stdout",
     "output_type": "stream",
     "text": [
      "Solving for the mean, we get:\n"
     ]
    },
    {
     "data": {
      "text/latex": [
       "$\\mu={7}$ - norm.ppf($0.08545176011539873$)$\\times{4} \\approx 8.0$"
      ],
      "text/plain": [
       "<IPython.core.display.Latex object>"
      ]
     },
     "metadata": {},
     "output_type": "display_data"
    },
    {
     "name": "stdout",
     "output_type": "stream",
     "text": [
      "The mean is 8.0\n",
      "\n",
      "\n",
      "Solving for the standard deviation:\n"
     ]
    },
    {
     "data": {
      "text/latex": [
       "$P(\\bar X \\le {7}) = 0.08545176011539873$"
      ],
      "text/plain": [
       "<IPython.core.display.Latex object>"
      ]
     },
     "metadata": {},
     "output_type": "display_data"
    },
    {
     "data": {
      "text/latex": [
       "$P(\\frac{\\bar X - \\mu}{\\sigma} \\le \\frac{{7}-\\mu}{\\sigma})  = 0.08545176011539873$"
      ],
      "text/plain": [
       "<IPython.core.display.Latex object>"
      ]
     },
     "metadata": {},
     "output_type": "display_data"
    },
    {
     "data": {
      "text/latex": [
       "Let $Z=\\frac{\\bar X - \\mu}{\\sigma}$, then $Z\\approx N(0,1)$. Substituting Z, we get"
      ],
      "text/plain": [
       "<IPython.core.display.Latex object>"
      ]
     },
     "metadata": {},
     "output_type": "display_data"
    },
    {
     "data": {
      "text/latex": [
       "$P(Z \\le \\frac{{7}-\\mu}{\\sigma})  = 0.08545176011539873$"
      ],
      "text/plain": [
       "<IPython.core.display.Latex object>"
      ]
     },
     "metadata": {},
     "output_type": "display_data"
    },
    {
     "name": "stdout",
     "output_type": "stream",
     "text": [
      "Taking the inverse of the cumulative distribution function, we get:\n"
     ]
    },
    {
     "data": {
      "text/latex": [
       "$\\frac{{7}-\\mu}{\\sigma} = $ norm.ppf($0.08545176011539873$)"
      ],
      "text/plain": [
       "<IPython.core.display.Latex object>"
      ]
     },
     "metadata": {},
     "output_type": "display_data"
    },
    {
     "name": "stdout",
     "output_type": "stream",
     "text": [
      "Solving for the standard deviation (se), we get:\n"
     ]
    },
    {
     "data": {
      "text/latex": [
       "$\\frac{sd}{\\sqrt{n}}=\\frac{{7}-\\mu}{norm.ppf(0.08545176011539873)} \\approx 0.7302967433402214$"
      ],
      "text/plain": [
       "<IPython.core.display.Latex object>"
      ]
     },
     "metadata": {},
     "output_type": "display_data"
    },
    {
     "name": "stdout",
     "output_type": "stream",
     "text": [
      "Solving for the standard deviation of the sample, we get:\n"
     ]
    },
    {
     "data": {
      "text/latex": [
       "$sd=|\\frac{\\sqrt{30}\\cdot({7}-{8})}{norm.ppf(0.08545176011539873)}| \\approx 4.0 $"
      ],
      "text/plain": [
       "<IPython.core.display.Latex object>"
      ]
     },
     "metadata": {},
     "output_type": "display_data"
    },
    {
     "name": "stdout",
     "output_type": "stream",
     "text": [
      "The standard deviation is 4.0\n",
      "\n",
      "\n",
      "Solving for the sample size:\n"
     ]
    },
    {
     "data": {
      "text/latex": [
       "$P(\\bar X \\le {7}) = 0.08545176011539873$"
      ],
      "text/plain": [
       "<IPython.core.display.Latex object>"
      ]
     },
     "metadata": {},
     "output_type": "display_data"
    },
    {
     "data": {
      "text/latex": [
       "$P(\\frac{\\bar X - \\mu}{\\sigma} \\le \\frac{{7}-\\mu}{\\sigma})  = 0.08545176011539873$"
      ],
      "text/plain": [
       "<IPython.core.display.Latex object>"
      ]
     },
     "metadata": {},
     "output_type": "display_data"
    },
    {
     "data": {
      "text/latex": [
       "Let $Z=\\frac{\\bar X - \\mu}{\\sigma}$, then $Z\\approx N(0,1)$. Substituting Z, we get"
      ],
      "text/plain": [
       "<IPython.core.display.Latex object>"
      ]
     },
     "metadata": {},
     "output_type": "display_data"
    },
    {
     "data": {
      "text/latex": [
       "$P(Z \\le \\frac{{7}-\\mu}{\\sigma})  = 0.08545176011539873$"
      ],
      "text/plain": [
       "<IPython.core.display.Latex object>"
      ]
     },
     "metadata": {},
     "output_type": "display_data"
    },
    {
     "name": "stdout",
     "output_type": "stream",
     "text": [
      "Taking the inverse of the cumulative distribution function, we get:\n"
     ]
    },
    {
     "data": {
      "text/latex": [
       "$\\frac{{7}-\\mu}{\\sigma} = $ norm.ppf($0.08545176011539873$)"
      ],
      "text/plain": [
       "<IPython.core.display.Latex object>"
      ]
     },
     "metadata": {},
     "output_type": "display_data"
    },
    {
     "name": "stdout",
     "output_type": "stream",
     "text": [
      "Solving for the standard deviation (se), we get:\n"
     ]
    },
    {
     "data": {
      "text/latex": [
       "$\\frac{sd}{\\sqrt{n}}=\\frac{{7}-\\mu}{norm.ppf(0.08545176011539873)}  \\approx 0.7302967433402214$"
      ],
      "text/plain": [
       "<IPython.core.display.Latex object>"
      ]
     },
     "metadata": {},
     "output_type": "display_data"
    },
    {
     "name": "stdout",
     "output_type": "stream",
     "text": [
      "Solving for the sample size, we get:\n"
     ]
    },
    {
     "data": {
      "text/latex": [
       "n = $[\\frac{{4}*norm.ppf(0.08545176011539873)}{({7}-{8})}]^2 \\approx 30.0$"
      ],
      "text/plain": [
       "<IPython.core.display.Latex object>"
      ]
     },
     "metadata": {},
     "output_type": "display_data"
    },
    {
     "name": "stdout",
     "output_type": "stream",
     "text": [
      "The sample size is 30.0\n",
      "\n",
      "\n",
      "Solving for the upper bound:\n"
     ]
    },
    {
     "data": {
      "text/latex": [
       "$P(\\bar X \\le {upper}) = 0.08545176011539873$"
      ],
      "text/plain": [
       "<IPython.core.display.Latex object>"
      ]
     },
     "metadata": {},
     "output_type": "display_data"
    },
    {
     "data": {
      "text/latex": [
       "$P(\\frac{\\bar X - \\mu}{\\sigma} \\le \\frac{{upper}-\\mu}{\\sigma})  = 0.08545176011539873$"
      ],
      "text/plain": [
       "<IPython.core.display.Latex object>"
      ]
     },
     "metadata": {},
     "output_type": "display_data"
    },
    {
     "data": {
      "text/latex": [
       "Let $Z=\\frac{\\bar X - \\mu}{\\sigma}$, then $Z\\approx N(0,1)$. Substituting Z, we get"
      ],
      "text/plain": [
       "<IPython.core.display.Latex object>"
      ]
     },
     "metadata": {},
     "output_type": "display_data"
    },
    {
     "data": {
      "text/latex": [
       "$P(Z \\le \\frac{{upper}-\\mu}{\\sigma})  = 0.08545176011539873$"
      ],
      "text/plain": [
       "<IPython.core.display.Latex object>"
      ]
     },
     "metadata": {},
     "output_type": "display_data"
    },
    {
     "name": "stdout",
     "output_type": "stream",
     "text": [
      "Taking the inverse of the cumulative distribution function, we get:\n"
     ]
    },
    {
     "data": {
      "text/latex": [
       "$\\frac{{upper}-\\mu}{\\sigma} = $ norm.ppf($0.08545176011539873$)"
      ],
      "text/plain": [
       "<IPython.core.display.Latex object>"
      ]
     },
     "metadata": {},
     "output_type": "display_data"
    },
    {
     "name": "stdout",
     "output_type": "stream",
     "text": [
      "Solving for the upper bound we get:\n"
     ]
    },
    {
     "data": {
      "text/latex": [
       "$upper={8}+norm.ppf(0.08545176011539873)*\\frac{4}{\\sqrt{30}} \\approx 7.0$"
      ],
      "text/plain": [
       "<IPython.core.display.Latex object>"
      ]
     },
     "metadata": {},
     "output_type": "display_data"
    },
    {
     "name": "stdout",
     "output_type": "stream",
     "text": [
      "The upper bound is 7.0\n",
      "\n",
      "\n",
      "Solving for the probability that sample mean is less than 7:\n"
     ]
    },
    {
     "data": {
      "text/latex": [
       "$P(\\bar X \\le {7}) = $ norm.cdf($7$,$8$,$\\frac{4}{\\sqrt{30}} \\approx 0.7302967433402214$) "
      ],
      "text/plain": [
       "<IPython.core.display.Latex object>"
      ]
     },
     "metadata": {},
     "output_type": "display_data"
    },
    {
     "data": {
      "text/latex": [
       "$P(\\bar X \\le {7}) = 0.08545176011539873$"
      ],
      "text/plain": [
       "<IPython.core.display.Latex object>"
      ]
     },
     "metadata": {},
     "output_type": "display_data"
    },
    {
     "name": "stdout",
     "output_type": "stream",
     "text": [
      "The probability that the sample mean is less than 7 is 0.08545176011539873\n"
     ]
    }
   ],
   "source": [
    "def solution_standardization_mean(lower=None,upper=None,probability=None):\n",
    "    if lower is None and upper is not None:\n",
    "        print_latex(f\"$P(\\\\bar X \\\\le {{{upper}}}) = {probability}$\")\n",
    "        print_latex(f\"$P(\\\\frac{{\\\\bar X - \\\\mu}}{{\\\\sigma}} \\\\le \\\\frac{{{{{upper}}}-\\\\mu}}{{\\\\sigma}})  = {probability}$\")\n",
    "        print_latex(f\"Let $Z=\\\\frac{{\\\\bar X - \\\\mu}}{{\\\\sigma}}$, then $Z\\\\approx N(0,1)$. Substituting Z, we get\")\n",
    "        print_latex(f\"$P(Z \\\\le \\\\frac{{{{{upper}}}-\\\\mu}}{{\\\\sigma}})  = {probability}$\")\n",
    "        print(\"Taking the inverse of the cumulative distribution function, we get:\")\n",
    "        print_latex(f\"$\\\\frac{{{{{upper}}}-\\\\mu}}{{\\\\sigma}} = $ norm.ppf(${probability}$)\")\n",
    "    elif lower is not None and upper is None:    \n",
    "        print_latex(f\"$P(\\\\bar X \\\\ge {{{lower}}}) = {probability}$\")\n",
    "        print_latex(f\"$P(\\\\bar X \\\\le {{{lower}}}) = 1-{probability}$\")\n",
    "        print_latex(f\"$P(\\\\frac{{\\\\bar X - \\\\mu}}{{\\\\sigma}} \\\\le \\\\frac{{{{{lower}}}-\\\\mu}}{{\\\\sigma}})  = 1 - {probability}$\")\n",
    "        print_latex(f\"Let $Z=\\\\frac{{\\\\bar X - \\\\mu}}{{\\\\sigma}}$, then $Z\\\\approx N(0,1)$. Substituting Z, we get\")\n",
    "        print_latex(f\"$P(Z \\\\le \\\\frac{{{{{lower}}}-\\\\mu}}{{\\\\sigma}})  = 1 - {probability}$\")\n",
    "        print(\"Taking the inverse of the cumulative distribution function, we get:\")\n",
    "        print_latex(f\"$\\\\frac{{{{{lower}}}-\\\\mu}}{{\\\\sigma}} = $ norm.ppf($1 - {probability}$)\")\n",
    "\n",
    "                    \n",
    "def probability_mean(probability=None,mean=None,sd=None,n=None,lower=None,upper=None):\n",
    "    if mean is None:\n",
    "        if probability is not None and sd is not None and n is not None and (lower is not None or upper is not None):\n",
    "            if lower is None:\n",
    "                solution_standardization_mean(upper=upper,probability=probability)\n",
    "                print(\"Solving for the mean, we get:\")\n",
    "                print_latex(f\"$\\\\mu={{{upper}}}$ - norm.ppf(${probability}$)$\\\\times{{{sd}}} \\\\approx {upper-norm.ppf(probability,loc=0,scale=1)*sd/math.sqrt(n) }$\")\n",
    "                print(f\"The mean is {upper-norm.ppf(probability,loc=0,scale=1)*sd/math.sqrt(n) }\")\n",
    "            elif upper is None:\n",
    "                solution_standardization_mean(lower=lower,probability=probability)\n",
    "                print(\"Solving for the mean, we get:\")\n",
    "                print_latex(f\"$\\\\mu={{{lower}}}$ - norm.ppf(1 - ${probability}$)$\\\\times{{{sd}}} \\\\approx {lower-norm.ppf(1-probability,loc=0,scale=1)*sd/math.sqrt(n)}$\")\n",
    "                print(f\"The mean is {lower-norm.ppf(1-probability,loc=0,scale=1)*sd/math.sqrt(n)}\")\n",
    "            elif lower is not None and upper is not None:\n",
    "                print(f\"The mean cannot be calculated with both lower and upper bounds\")\n",
    "        else:\n",
    "            print(f\"To calculate the mean, please provide the probability, standard deviation, sample size, and either upper or lower bound\")\n",
    "    elif sd is None:\n",
    "        if probability is not None and mean is not None and n is not None and (lower is not None or upper is not None):\n",
    "            if lower is None and upper is not None:\n",
    "                solution_standardization_mean(upper=upper,probability=probability)\n",
    "                print(\"Solving for the standard deviation (se), we get:\")\n",
    "                print_latex(f\"$\\\\frac{{sd}}{{\\\\sqrt{{n}}}}=\\\\frac{{{{{upper}}}-\\\\mu}}{{norm.ppf({probability})}} \\\\approx {abs((upper - mean)/ (norm.ppf(probability))) }$\")\n",
    "                print(\"Solving for the standard deviation of the sample, we get:\")\n",
    "                print_latex(f\"$sd=|\\\\frac{{\\\\sqrt{{{n}}}\\cdot({{{upper}}}-{{{mean}}})}}{{norm.ppf({probability})}}| \\\\approx {abs((upper - mean)*math.sqrt(n) / (norm.ppf(probability))) } $\")\n",
    "                print(f\"The standard deviation is {abs((upper - mean)*math.sqrt(n) / (norm.ppf(probability))) }\")\n",
    "            elif upper is None:\n",
    "                solution_standardization_mean(lower=lower,probability=probability)\n",
    "                print(\"Solving for the standard deviation (se), we get:\")\n",
    "                print_latex(f\"$\\\\frac{{sd}}{{\\\\sqrt{{n}}}}=\\\\frac{{{{{lower}}}-\\\\mu}}{{norm.ppf(1-{probability})}}  \\\\approx {abs((lower - mean)/ (norm.ppf(probability))) }$\")\n",
    "                print(\"Solving for the standard deviation of the sample, we get:\")\n",
    "                print_latex(f\"$sd=|\\\\frac{{\\\\sqrt{{{n}}}\\cdot({{{lower}}}-{{{mean}}})}}{{norm.ppf(1-{probability})}}| \\\\approx {abs((lower - mean)*math.sqrt(n) / (norm.ppf(probability))) } $\")\n",
    "                print(f\"The standard deviation is {abs((mean - lower)*math.sqrt(n)/ (norm.ppf(1-probability)))}\")\n",
    "            elif lower is not None and upper is not None:\n",
    "                print(f\"Cannot calculate standard deviation with both lower and upper bounds\")\n",
    "        else:\n",
    "            print(f\"To calculate the standard deviation, please provide the probability, mean, sample size, and either upper or lower bound\")\n",
    "    elif n is None:\n",
    "        if probability is not None and mean is not None and sd is not None and (lower is not None or upper is not None):\n",
    "            if lower is None:\n",
    "                solution_standardization_mean(upper=upper,probability=probability)\n",
    "                print(\"Solving for the standard deviation (se), we get:\")\n",
    "                print_latex(f\"$\\\\frac{{sd}}{{\\\\sqrt{{n}}}}=\\\\frac{{{{{upper}}}-\\\\mu}}{{norm.ppf({probability})}}  \\\\approx {abs((upper - mean)/ (norm.ppf(probability))) }$\")\n",
    "                print(\"Solving for the sample size, we get:\")\n",
    "                print_latex(f\"n = $[\\\\frac{{{{{sd}}}*norm.ppf({probability})}}{{({{{upper}}}-{{{mean}}})}}]^2 \\\\approx {((sd*norm.ppf(probability))/(upper - mean))**2 }$\")\n",
    "                print(f\"The sample size is {((sd*norm.ppf(probability))/(upper - mean))**2 }\")\n",
    "            elif upper is None:\n",
    "                solution_standardization_mean(lower=lower,probability=probability)\n",
    "                print(\"Solving for the standard deviation (se), we get:\")\n",
    "                print_latex(f\"$\\\\frac{{sd}}{{\\\\sqrt{{n}}}}=\\\\frac{{{{{lower}}}-{{{mean}}}}}{{norm.ppf(1-{probability})}} \\\\approx {abs((lower - mean)/ (norm.ppf(probability))) }$\")\n",
    "                print(\"Solving for the sample size, we get:\")\n",
    "                print_latex(f\"n = $[\\\\frac{{{{{sd}}}*norm.ppf(1-{probability})}}{{({{{lower}}}-{{{mean}}})}}]^2 \\\\approx {((sd*norm.ppf(1-probability))/(mean - lower))**2 }$\")              \n",
    "                print(f\"The sample size is {((sd*norm.ppf(1-probability))/(mean - lower))**2 }\")\n",
    "            elif lower is not None and upper is not None:\n",
    "                print(f\"Cannot calculate sample size with both lower and upper bounds\")\n",
    "        else:\n",
    "            print(f\"To calculate the sample size, please provide the probability, mean, standard deviation, and either upper or lower bound\")    \n",
    "    elif probability is None:\n",
    "        if mean is not None and sd is not None and n is not None:\n",
    "            if lower is None and upper is None:\n",
    "                print(f\"To calculate the probability, lower bound or upper bound.\")\n",
    "            elif lower is not None and upper is None:\n",
    "                print_latex(f\"$P(\\\\bar X \\\\ge {{{lower}}}) = 1-P(\\\\bar X \\le {{{lower}}})$\")\n",
    "                print_latex(f\"$P(\\\\bar X \\\\ge {{{lower}}}) = 1- $ norm.cdf(${lower}$,${mean}$,$\\\\frac{{{sd}}}{{\\\\sqrt{{{n}}}}} \\\\approx {sd/math.sqrt(n)}$) \")\n",
    "                print_latex(f\"$P(\\\\bar X \\\\ge {{{lower}}}) = {1-norm.cdf(lower,loc=mean,scale=sd/math.sqrt(n))}$\")\n",
    "                print(f\"The probability that the sample mean is greater than {lower} is {1-norm.cdf(lower,loc=mean,scale=sd/math.sqrt(n)) }\")\n",
    "            elif lower is None and upper is not None:\n",
    "                print_latex(f\"$P(\\\\bar X \\\\le {{{upper}}}) = $ norm.cdf(${upper}$,${mean}$,$\\\\frac{{{sd}}}{{\\\\sqrt{{{n}}}}} \\\\approx {sd/math.sqrt(n)}$) \")\n",
    "                print_latex(f\"$P(\\\\bar X \\\\le {{{upper}}}) = {norm.cdf(upper,loc=mean,scale=sd/math.sqrt(n)) }$\")\n",
    "                print(f\"The probability that the sample mean is less than {upper} is {norm.cdf(upper,loc=mean,scale=sd/math.sqrt(n)) }\")\n",
    "            elif lower is not None and upper is not None:\n",
    "                print_latex(f\"$P({{{lower}}} \\\\le \\\\bar X \\\\le {{{upper}}}) = P(\\\\bar X \\\\le {{{upper}}}) - P(\\\\bar X \\\\le {{{lower}}})$\")\n",
    "                print_latex(f\"$P({{{lower}}} \\\\le \\\\bar X \\\\le {{{upper}}}) = $ norm.cdf(${upper}$,${mean}$,$\\\\frac{{{sd}}}{{\\\\sqrt{{{n}}}}} \\\\approx {sd/math.sqrt(n)}$) - norm.cdf(${lower}$,${mean}$,$\\\\frac{{{sd}}}{{\\\\sqrt{{{n}}}}} \\\\approx {sd/math.sqrt(n)}$) \")\n",
    "                print_latex(f\"$P({{{lower}}} \\\\le \\\\bar X \\\\le {{{upper}}}) = {norm.cdf(upper,loc=mean,scale=sd/math.sqrt(n))-norm.cdf(lower,loc=mean,scale=sd/math.sqrt(n))}$\")\n",
    "                print(f\"The probability that the sample mean is between {lower} and {upper} is {norm.cdf(upper,loc=mean,scale=sd/math.sqrt(n))-norm.cdf(lower,loc=mean,scale=sd/math.sqrt(n)) }\")\n",
    "        else:\n",
    "            print(\"To calculate the probability, please provide the mean, standard deviation, sample size, and lower bound or upper bound.\")\n",
    "            \n",
    "    elif lower is None and upper is not None:\n",
    "        if probability is not None and mean is not None and sd is not None and n is not None:\n",
    "            solution_standardization_mean(lower=\"lower\",probability=probability)\n",
    "            print(\"Solving for the lower bound we get:\")\n",
    "            print_latex(f\"$lower={{{mean}}}-norm.ppf({probability})*\\\\frac{{{sd}}}{{\\\\sqrt{{{n}}}}} \\\\approx {mean - norm.ppf(probability, loc=0, scale=1) * sd/math.sqrt(n) }$\")\n",
    "            print(f\"The lower bound is {mean + norm.ppf(1 - probability, loc=0, scale=1) * sd/math.sqrt(n) }\")\n",
    "        else:\n",
    "            print(\"To calculate the lower bound, please provide the probability, mean, standard deviation, and sample size.\")\n",
    "    elif lower is not None and upper is None:\n",
    "        if probability is not None and mean is not None and sd is not None and n is not None:\n",
    "            solution_standardization_mean(upper=\"upper\",probability=probability)\n",
    "            print(\"Solving for the upper bound we get:\")\n",
    "            print_latex(f\"$upper={{{mean}}}+norm.ppf({probability})*\\\\frac{{{sd}}}{{\\\\sqrt{{{n}}}}} \\\\approx {mean + norm.ppf(probability, loc=0, scale=1) * sd/math.sqrt(n) }$\")\n",
    "            print(f\"The upper bound is {mean + norm.ppf(probability, loc=0, scale=1) * sd/math.sqrt(n) }\")\n",
    "        else:\n",
    "            print(\"To calculate the upper bound, please provide the probability, mean, standard deviation, and sample size.\")\n",
    "    else:\n",
    "        print(\"Please provide any 3 quantities from (probability, mean, standard deviation, sample size) and either upper or lower bound.\")\n",
    "\n",
    "#3a\n",
    "mean=8\n",
    "sd=4\n",
    "n=30\n",
    "upper=7\n",
    "probability=0.08545176011539873\n",
    "print(\"3a\")\n",
    "print(\"\\n\\nSolving for the mean:\")\n",
    "probability_mean(probability=probability,sd=sd,n=n,upper=upper)\n",
    "print(\"\\n\\nSolving for the standard deviation:\")\n",
    "probability_mean(mean=mean,probability=probability,n=n,upper=upper)\n",
    "print(\"\\n\\nSolving for the sample size:\")\n",
    "probability_mean(mean=mean,sd=sd,probability=probability,upper=upper)\n",
    "print(\"\\n\\nSolving for the upper bound:\")\n",
    "probability_mean(mean=mean,sd=sd,n=n,probability=probability,lower=False)\n",
    "print(\"\\n\\nSolving for the probability that sample mean is less than 7:\")\n",
    "probability_mean(mean=mean,sd=sd,n=n,upper=upper)\n"
   ]
  },
  {
   "cell_type": "code",
   "execution_count": 188,
   "metadata": {},
   "outputs": [
    {
     "name": "stdout",
     "output_type": "stream",
     "text": [
      "3b\n",
      "\n",
      "\n",
      "Solving for the mean:\n"
     ]
    },
    {
     "data": {
      "text/latex": [
       "$P(\\bar X \\ge {7}) = 0.9145482398846012$"
      ],
      "text/plain": [
       "<IPython.core.display.Latex object>"
      ]
     },
     "metadata": {},
     "output_type": "display_data"
    },
    {
     "data": {
      "text/latex": [
       "$P(\\bar X \\le {7}) = 1-0.9145482398846012$"
      ],
      "text/plain": [
       "<IPython.core.display.Latex object>"
      ]
     },
     "metadata": {},
     "output_type": "display_data"
    },
    {
     "data": {
      "text/latex": [
       "$P(\\frac{\\bar X - \\mu}{\\sigma} \\le \\frac{{7}-\\mu}{\\sigma})  = 1 - 0.9145482398846012$"
      ],
      "text/plain": [
       "<IPython.core.display.Latex object>"
      ]
     },
     "metadata": {},
     "output_type": "display_data"
    },
    {
     "data": {
      "text/latex": [
       "Let $Z=\\frac{\\bar X - \\mu}{\\sigma}$, then $Z\\approx N(0,1)$. Substituting Z, we get"
      ],
      "text/plain": [
       "<IPython.core.display.Latex object>"
      ]
     },
     "metadata": {},
     "output_type": "display_data"
    },
    {
     "data": {
      "text/latex": [
       "$P(Z \\le \\frac{{7}-\\mu}{\\sigma})  = 1 - 0.9145482398846012$"
      ],
      "text/plain": [
       "<IPython.core.display.Latex object>"
      ]
     },
     "metadata": {},
     "output_type": "display_data"
    },
    {
     "name": "stdout",
     "output_type": "stream",
     "text": [
      "Taking the inverse of the cumulative distribution function, we get:\n"
     ]
    },
    {
     "data": {
      "text/latex": [
       "$\\frac{{7}-\\mu}{\\sigma} = $ norm.ppf($1 - 0.9145482398846012$)"
      ],
      "text/plain": [
       "<IPython.core.display.Latex object>"
      ]
     },
     "metadata": {},
     "output_type": "display_data"
    },
    {
     "name": "stdout",
     "output_type": "stream",
     "text": [
      "Solving for the mean, we get:\n"
     ]
    },
    {
     "data": {
      "text/latex": [
       "$\\mu={7}$ - norm.ppf(1 - $0.9145482398846012$)$\\times{4} \\approx 8.0$"
      ],
      "text/plain": [
       "<IPython.core.display.Latex object>"
      ]
     },
     "metadata": {},
     "output_type": "display_data"
    },
    {
     "name": "stdout",
     "output_type": "stream",
     "text": [
      "The mean is 8.0\n",
      "\n",
      "\n",
      "Solving for the standard deviation:\n"
     ]
    },
    {
     "data": {
      "text/latex": [
       "$P(\\bar X \\ge {7}) = 0.9145482398846012$"
      ],
      "text/plain": [
       "<IPython.core.display.Latex object>"
      ]
     },
     "metadata": {},
     "output_type": "display_data"
    },
    {
     "data": {
      "text/latex": [
       "$P(\\bar X \\le {7}) = 1-0.9145482398846012$"
      ],
      "text/plain": [
       "<IPython.core.display.Latex object>"
      ]
     },
     "metadata": {},
     "output_type": "display_data"
    },
    {
     "data": {
      "text/latex": [
       "$P(\\frac{\\bar X - \\mu}{\\sigma} \\le \\frac{{7}-\\mu}{\\sigma})  = 1 - 0.9145482398846012$"
      ],
      "text/plain": [
       "<IPython.core.display.Latex object>"
      ]
     },
     "metadata": {},
     "output_type": "display_data"
    },
    {
     "data": {
      "text/latex": [
       "Let $Z=\\frac{\\bar X - \\mu}{\\sigma}$, then $Z\\approx N(0,1)$. Substituting Z, we get"
      ],
      "text/plain": [
       "<IPython.core.display.Latex object>"
      ]
     },
     "metadata": {},
     "output_type": "display_data"
    },
    {
     "data": {
      "text/latex": [
       "$P(Z \\le \\frac{{7}-\\mu}{\\sigma})  = 1 - 0.9145482398846012$"
      ],
      "text/plain": [
       "<IPython.core.display.Latex object>"
      ]
     },
     "metadata": {},
     "output_type": "display_data"
    },
    {
     "name": "stdout",
     "output_type": "stream",
     "text": [
      "Taking the inverse of the cumulative distribution function, we get:\n"
     ]
    },
    {
     "data": {
      "text/latex": [
       "$\\frac{{7}-\\mu}{\\sigma} = $ norm.ppf($1 - 0.9145482398846012$)"
      ],
      "text/plain": [
       "<IPython.core.display.Latex object>"
      ]
     },
     "metadata": {},
     "output_type": "display_data"
    },
    {
     "name": "stdout",
     "output_type": "stream",
     "text": [
      "Solving for the standard deviation (se), we get:\n"
     ]
    },
    {
     "data": {
      "text/latex": [
       "$\\frac{sd}{\\sqrt{n}}=\\frac{{7}-\\mu}{norm.ppf(1-0.9145482398846012)}  \\approx 0.7302967433402215$"
      ],
      "text/plain": [
       "<IPython.core.display.Latex object>"
      ]
     },
     "metadata": {},
     "output_type": "display_data"
    },
    {
     "name": "stdout",
     "output_type": "stream",
     "text": [
      "Solving for the standard deviation of the sample, we get:\n"
     ]
    },
    {
     "data": {
      "text/latex": [
       "$sd=|\\frac{\\sqrt{30}\\cdot({7}-{8})}{norm.ppf(1-0.9145482398846012)}| \\approx 4.000000000000001 $"
      ],
      "text/plain": [
       "<IPython.core.display.Latex object>"
      ]
     },
     "metadata": {},
     "output_type": "display_data"
    },
    {
     "name": "stdout",
     "output_type": "stream",
     "text": [
      "The standard deviation is 4.000000000000001\n",
      "\n",
      "\n",
      "Solving for the sample size:\n"
     ]
    },
    {
     "data": {
      "text/latex": [
       "$P(\\bar X \\ge {7}) = 0.9145482398846012$"
      ],
      "text/plain": [
       "<IPython.core.display.Latex object>"
      ]
     },
     "metadata": {},
     "output_type": "display_data"
    },
    {
     "data": {
      "text/latex": [
       "$P(\\bar X \\le {7}) = 1-0.9145482398846012$"
      ],
      "text/plain": [
       "<IPython.core.display.Latex object>"
      ]
     },
     "metadata": {},
     "output_type": "display_data"
    },
    {
     "data": {
      "text/latex": [
       "$P(\\frac{\\bar X - \\mu}{\\sigma} \\le \\frac{{7}-\\mu}{\\sigma})  = 1 - 0.9145482398846012$"
      ],
      "text/plain": [
       "<IPython.core.display.Latex object>"
      ]
     },
     "metadata": {},
     "output_type": "display_data"
    },
    {
     "data": {
      "text/latex": [
       "Let $Z=\\frac{\\bar X - \\mu}{\\sigma}$, then $Z\\approx N(0,1)$. Substituting Z, we get"
      ],
      "text/plain": [
       "<IPython.core.display.Latex object>"
      ]
     },
     "metadata": {},
     "output_type": "display_data"
    },
    {
     "data": {
      "text/latex": [
       "$P(Z \\le \\frac{{7}-\\mu}{\\sigma})  = 1 - 0.9145482398846012$"
      ],
      "text/plain": [
       "<IPython.core.display.Latex object>"
      ]
     },
     "metadata": {},
     "output_type": "display_data"
    },
    {
     "name": "stdout",
     "output_type": "stream",
     "text": [
      "Taking the inverse of the cumulative distribution function, we get:\n"
     ]
    },
    {
     "data": {
      "text/latex": [
       "$\\frac{{7}-\\mu}{\\sigma} = $ norm.ppf($1 - 0.9145482398846012$)"
      ],
      "text/plain": [
       "<IPython.core.display.Latex object>"
      ]
     },
     "metadata": {},
     "output_type": "display_data"
    },
    {
     "name": "stdout",
     "output_type": "stream",
     "text": [
      "Solving for the standard deviation (se), we get:\n"
     ]
    },
    {
     "data": {
      "text/latex": [
       "$\\frac{sd}{\\sqrt{n}}=\\frac{{7}-{8}}{norm.ppf(1-0.9145482398846012)} \\approx 0.7302967433402215$"
      ],
      "text/plain": [
       "<IPython.core.display.Latex object>"
      ]
     },
     "metadata": {},
     "output_type": "display_data"
    },
    {
     "name": "stdout",
     "output_type": "stream",
     "text": [
      "Solving for the sample size, we get:\n"
     ]
    },
    {
     "data": {
      "text/latex": [
       "n = $[\\frac{{4}*norm.ppf(1-0.9145482398846012)}{({7}-{8})}]^2 \\approx 29.99999999999999$"
      ],
      "text/plain": [
       "<IPython.core.display.Latex object>"
      ]
     },
     "metadata": {},
     "output_type": "display_data"
    },
    {
     "name": "stdout",
     "output_type": "stream",
     "text": [
      "The sample size is 29.99999999999999\n",
      "\n",
      "\n",
      "Solving for the upper bound:\n"
     ]
    },
    {
     "data": {
      "text/latex": [
       "$P(\\bar X \\ge {lower}) = 0.9145482398846012$"
      ],
      "text/plain": [
       "<IPython.core.display.Latex object>"
      ]
     },
     "metadata": {},
     "output_type": "display_data"
    },
    {
     "data": {
      "text/latex": [
       "$P(\\bar X \\le {lower}) = 1-0.9145482398846012$"
      ],
      "text/plain": [
       "<IPython.core.display.Latex object>"
      ]
     },
     "metadata": {},
     "output_type": "display_data"
    },
    {
     "data": {
      "text/latex": [
       "$P(\\frac{\\bar X - \\mu}{\\sigma} \\le \\frac{{lower}-\\mu}{\\sigma})  = 1 - 0.9145482398846012$"
      ],
      "text/plain": [
       "<IPython.core.display.Latex object>"
      ]
     },
     "metadata": {},
     "output_type": "display_data"
    },
    {
     "data": {
      "text/latex": [
       "Let $Z=\\frac{\\bar X - \\mu}{\\sigma}$, then $Z\\approx N(0,1)$. Substituting Z, we get"
      ],
      "text/plain": [
       "<IPython.core.display.Latex object>"
      ]
     },
     "metadata": {},
     "output_type": "display_data"
    },
    {
     "data": {
      "text/latex": [
       "$P(Z \\le \\frac{{lower}-\\mu}{\\sigma})  = 1 - 0.9145482398846012$"
      ],
      "text/plain": [
       "<IPython.core.display.Latex object>"
      ]
     },
     "metadata": {},
     "output_type": "display_data"
    },
    {
     "name": "stdout",
     "output_type": "stream",
     "text": [
      "Taking the inverse of the cumulative distribution function, we get:\n"
     ]
    },
    {
     "data": {
      "text/latex": [
       "$\\frac{{lower}-\\mu}{\\sigma} = $ norm.ppf($1 - 0.9145482398846012$)"
      ],
      "text/plain": [
       "<IPython.core.display.Latex object>"
      ]
     },
     "metadata": {},
     "output_type": "display_data"
    },
    {
     "name": "stdout",
     "output_type": "stream",
     "text": [
      "Solving for the lower bound we get:\n"
     ]
    },
    {
     "data": {
      "text/latex": [
       "$lower={8}-norm.ppf(0.9145482398846012)*\\frac{4}{\\sqrt{30}} \\approx 7.0$"
      ],
      "text/plain": [
       "<IPython.core.display.Latex object>"
      ]
     },
     "metadata": {},
     "output_type": "display_data"
    },
    {
     "name": "stdout",
     "output_type": "stream",
     "text": [
      "The lower bound is 7.0\n",
      "\n",
      "\n",
      "Solving for the probability that sample mean is greater than 7:\n"
     ]
    },
    {
     "data": {
      "text/latex": [
       "$P(\\bar X \\ge {7}) = 1-P(\\bar X \\le {7})$"
      ],
      "text/plain": [
       "<IPython.core.display.Latex object>"
      ]
     },
     "metadata": {},
     "output_type": "display_data"
    },
    {
     "data": {
      "text/latex": [
       "$P(\\bar X \\ge {7}) = 1- $ norm.cdf($7$,$8$,$\\frac{4}{\\sqrt{30}} \\approx 0.7302967433402214$) "
      ],
      "text/plain": [
       "<IPython.core.display.Latex object>"
      ]
     },
     "metadata": {},
     "output_type": "display_data"
    },
    {
     "data": {
      "text/latex": [
       "$P(\\bar X \\ge {7}) = 0.9145482398846012$"
      ],
      "text/plain": [
       "<IPython.core.display.Latex object>"
      ]
     },
     "metadata": {},
     "output_type": "display_data"
    },
    {
     "name": "stdout",
     "output_type": "stream",
     "text": [
      "The probability that the sample mean is greater than 7 is 0.9145482398846012\n"
     ]
    }
   ],
   "source": [
    "#3b\n",
    "mean=8\n",
    "sd=4\n",
    "n=30\n",
    "lower=7\n",
    "probability=0.9145482398846012\n",
    "print(\"3b\")\n",
    "print(\"\\n\\nSolving for the mean:\")\n",
    "probability_mean(probability=probability,sd=sd,n=n,lower=lower)\n",
    "print(\"\\n\\nSolving for the standard deviation:\")\n",
    "probability_mean(mean=mean,probability=probability,n=n,lower=lower)\n",
    "print(\"\\n\\nSolving for the sample size:\")\n",
    "probability_mean(mean=mean,sd=sd,probability=probability,lower=lower)\n",
    "print(\"\\n\\nSolving for the upper bound:\")\n",
    "probability_mean(mean=mean,sd=sd,n=n,probability=probability,upper=False)\n",
    "print(\"\\n\\nSolving for the probability that sample mean is greater than 7:\")\n",
    "probability_mean(mean=mean,sd=sd,n=n,lower=lower)\n"
   ]
  },
  {
   "cell_type": "code",
   "execution_count": 189,
   "metadata": {},
   "outputs": [
    {
     "name": "stdout",
     "output_type": "stream",
     "text": [
      "3c\n"
     ]
    },
    {
     "data": {
      "text/latex": [
       "$P({7} \\le \\bar X \\le {9}) = P(\\bar X \\le {9}) - P(\\bar X \\le {7})$"
      ],
      "text/plain": [
       "<IPython.core.display.Latex object>"
      ]
     },
     "metadata": {},
     "output_type": "display_data"
    },
    {
     "data": {
      "text/latex": [
       "$P({7} \\le \\bar X \\le {9}) = $ norm.cdf($9$,$8$,$\\frac{4}{\\sqrt{30}} \\approx 0.7302967433402214$) - norm.cdf($7$,$8$,$\\frac{4}{\\sqrt{30}} \\approx 0.7302967433402214$) "
      ],
      "text/plain": [
       "<IPython.core.display.Latex object>"
      ]
     },
     "metadata": {},
     "output_type": "display_data"
    },
    {
     "data": {
      "text/latex": [
       "$P({7} \\le \\bar X \\le {9}) = 0.8290964797692024$"
      ],
      "text/plain": [
       "<IPython.core.display.Latex object>"
      ]
     },
     "metadata": {},
     "output_type": "display_data"
    },
    {
     "name": "stdout",
     "output_type": "stream",
     "text": [
      "The probability that the sample mean is between 7 and 9 is 0.8290964797692024\n"
     ]
    }
   ],
   "source": [
    "print(\"3c\")\n",
    "mean=8\n",
    "sd=4\n",
    "n=30\n",
    "lower=7\n",
    "upper=9\n",
    "probability=0.8290964797692024\n",
    "probability_mean(mean=mean,sd=sd,n=n,lower=lower,upper=upper)"
   ]
  },
  {
   "attachments": {},
   "cell_type": "markdown",
   "metadata": {},
   "source": [
    "Module 4.3: Sampling Distribution of the Sample Proportion\n",
    "\n",
    "$ SE = \\sqrt{\\frac{p(1-p)}{\\sqrt{n}}}$\n",
    "\n",
    "$ SE^2 \\cdot \\sqrt{n} = p\\cdot(1-p)$\n",
    "\n",
    "$ SE^2 \\cdot \\sqrt{n} = p-p^2$\n",
    "\n",
    "$ p^2 -p +SE^2 \\cdot \\sqrt{n} = 0 $\n",
    "\n",
    "$p = \\frac{1 \\pm \\sqrt{1-4\\left(SE^2 \\cdot \\sqrt{n}\\right)}}{2}$\n",
    "\n",
    "$ n = \\left(\\frac{p-p^2}{SE^2}\\right)^2$"
   ]
  },
  {
   "cell_type": "code",
   "execution_count": 190,
   "metadata": {},
   "outputs": [
    {
     "data": {
      "text/latex": [
       "Given the formula for the standard error of the proportion: $SE=\\sqrt{\\frac{ p(1-p) }{ n } }$. We substitute the values as follows:"
      ],
      "text/plain": [
       "<IPython.core.display.Latex object>"
      ]
     },
     "metadata": {},
     "output_type": "display_data"
    },
    {
     "data": {
      "text/latex": [
       "$SE=\\sqrt{\\frac{ 0.6(1-0.6) }{ 1000 } } \\approx 0.08711754349385725$ "
      ],
      "text/plain": [
       "<IPython.core.display.Latex object>"
      ]
     },
     "metadata": {},
     "output_type": "display_data"
    },
    {
     "data": {
      "text/latex": [
       "Given the formula for the standard error of the proportion: $SE=\\sqrt{\\frac{ p(1-p) }{ n } }$. We can rearrange as follows to isolate the proportion using the quadratic formula:"
      ],
      "text/plain": [
       "<IPython.core.display.Latex object>"
      ]
     },
     "metadata": {},
     "output_type": "display_data"
    },
    {
     "data": {
      "text/latex": [
       "$p = \\frac{1 \\pm \\sqrt{1-4\\left(SE^2 \\cdot \\sqrt{n}\\right)}}{2}$"
      ],
      "text/plain": [
       "<IPython.core.display.Latex object>"
      ]
     },
     "metadata": {},
     "output_type": "display_data"
    },
    {
     "name": "stdout",
     "output_type": "stream",
     "text": [
      "Substituting the values we get:\n"
     ]
    },
    {
     "data": {
      "text/latex": [
       "$p = \\frac{1 \\pm \\sqrt{1-4\\left(0.08711754349385725^2 \\cdot \\sqrt1000\\right)}}{2} \\approx 0.6000000000000002 $ or $1.2 $"
      ],
      "text/plain": [
       "<IPython.core.display.Latex object>"
      ]
     },
     "metadata": {},
     "output_type": "display_data"
    },
    {
     "data": {
      "text/latex": [
       "Given the formula for the standard error of the proportion: $SE=\\sqrt{\\frac{ p(1-p) }{ n } }$. We can rearrange as follows to isolate the sample size:"
      ],
      "text/plain": [
       "<IPython.core.display.Latex object>"
      ]
     },
     "metadata": {},
     "output_type": "display_data"
    },
    {
     "data": {
      "text/latex": [
       "$ n = \\left(\\frac{p-p^2}{SE^2}\\right)^2$"
      ],
      "text/plain": [
       "<IPython.core.display.Latex object>"
      ]
     },
     "metadata": {},
     "output_type": "display_data"
    },
    {
     "name": "stdout",
     "output_type": "stream",
     "text": [
      "Substituting the values we get:\n"
     ]
    },
    {
     "data": {
      "text/latex": [
       "$ n = \\left(\\frac{0.6-0.6^2}{0.08711754349385725^2}\\right)^2 \\approx 1000.0000000000002$"
      ],
      "text/plain": [
       "<IPython.core.display.Latex object>"
      ]
     },
     "metadata": {},
     "output_type": "display_data"
    }
   ],
   "source": [
    "def standard_error_proportion(se=None, proportion=None, n=None):\n",
    "    if se is None and proportion is not None and n is not None:\n",
    "        print_latex(f\"Given the formula for the standard error of the proportion: $SE=\\\\sqrt{{\\\\frac{{ p(1-p) }}{{ n }} }}$. We substitute the values as follows:\")\n",
    "        print_latex(f\"$SE=\\\\sqrt{{\\\\frac{{ {proportion}(1-{proportion}) }}{{ {n} }} }} \\\\approx {math.sqrt((proportion*(1-proportion))/(math.sqrt(n)))}$ \")\n",
    "    elif proportion is None and n is not None and se is not None:\n",
    "        print_latex(f\"Given the formula for the standard error of the proportion: $SE=\\\\sqrt{{\\\\frac{{ p(1-p) }}{{ n }} }}$. We can rearrange as follows to isolate the proportion using the quadratic formula:\")\n",
    "        print_latex(f\"$p = \\\\frac{{1 \\\\pm \\\\sqrt{{1-4\\\\left(SE^2 \\\\cdot \\\\sqrt{{n}}\\\\right)}}}}{{2}}$\")\n",
    "        print(\"Substituting the values we get:\")\n",
    "        print_latex(f\"$p = \\\\frac{{1 \\\\pm \\\\sqrt{{1-4\\\\left({se}^2 \\\\cdot \\\\sqrt{n}\\\\right)}}}}{{2}} \\\\approx {(1+math.sqrt(1-4*(math.sqrt(n)*(se**2))))/(2)} $ or ${(1+math.sqrt(1+4*(math.sqrt(n)*(se**2))))/(2)} $\")\n",
    "    elif n is None and se is not None and proportion is not None:\n",
    "        print_latex(f\"Given the formula for the standard error of the proportion: $SE=\\\\sqrt{{\\\\frac{{ p(1-p) }}{{ n }} }}$. We can rearrange as follows to isolate the sample size:\")\n",
    "        print_latex(f\"$ n = \\\\left(\\\\frac{{p-p^2}}{{SE^2}}\\\\right)^2$\")\n",
    "        print(\"Substituting the values we get:\")\n",
    "        print_latex(f\"$ n = \\\\left(\\\\frac{{{proportion}-{proportion}^2}}{{{se}^2}}\\\\right)^2 \\\\approx {((proportion-proportion**2)/(se**2))**2}$\")\n",
    "    else:\n",
    "        print(f\"Please provide two of the three values: se, proportion, n\")\n",
    "        \n",
    "\n",
    "se=0.0871\n",
    "n=1000\n",
    "proportion=0.6\n",
    "standard_error_proportion(proportion=0.6, n=1000)\n",
    "standard_error_proportion(se=0.08711754349385725, n=1000)\n",
    "standard_error_proportion(se=0.08711754349385725, proportion=0.6)"
   ]
  },
  {
   "attachments": {},
   "cell_type": "markdown",
   "metadata": {},
   "source": [
    "$P(\\hat p \\le upper) = prob$\n",
    "\n",
    "\n",
    "\n",
    "\n",
    "$P(\\hat p \\ge lower) = prob$\n",
    "\n",
    "\n",
    "$P(lower \\le \\hat p \\le upper) = prob$\n"
   ]
  },
  {
   "cell_type": "code",
   "execution_count": 191,
   "metadata": {},
   "outputs": [
    {
     "data": {
      "text/latex": [
       "$P({0.496} \\le X \\le {0.504}) = P(X \\le {0.504}) - P(X \\le {0.496})$"
      ],
      "text/plain": [
       "<IPython.core.display.Latex object>"
      ]
     },
     "metadata": {},
     "output_type": "display_data"
    },
    {
     "data": {
      "text/latex": [
       "$P({0.496} \\le X \\le {0.504}) = $ norm.cdf($0.504$,$0.498$,$0.002$) - norm.cdf($0.496$,$0.498$,$0.002$) "
      ],
      "text/plain": [
       "<IPython.core.display.Latex object>"
      ]
     },
     "metadata": {},
     "output_type": "display_data"
    },
    {
     "data": {
      "text/latex": [
       "$P({0.496} \\le X \\le {0.504}) = 0.839994848036913$"
      ],
      "text/plain": [
       "<IPython.core.display.Latex object>"
      ]
     },
     "metadata": {},
     "output_type": "display_data"
    },
    {
     "name": "stdout",
     "output_type": "stream",
     "text": [
      "The probability that the X is between 0.496 and 0.504 is 0.839994848036913\n"
     ]
    },
    {
     "data": {
      "text/latex": [
       "$P(\\hat p \\ge 0.9) = 1 - P(\\hat p \\le 0.9)$"
      ],
      "text/plain": [
       "<IPython.core.display.Latex object>"
      ]
     },
     "metadata": {},
     "output_type": "display_data"
    },
    {
     "data": {
      "text/latex": [
       "$P(\\hat p \\ge 0.9) = 1 - $ norm.cdf($ 0.9 $ ,loc=$0.839994848036913$,scale=$\\sqrt{ \\frac{ 0.839994848036913 \\cdot (1-0.839994848036913)} {150} } \\approx 0.029933649216041847$)"
      ],
      "text/plain": [
       "<IPython.core.display.Latex object>"
      ]
     },
     "metadata": {},
     "output_type": "display_data"
    },
    {
     "data": {
      "text/latex": [
       "$P(\\hat p \\ge 0.9) = 0.02250262962632188$"
      ],
      "text/plain": [
       "<IPython.core.display.Latex object>"
      ]
     },
     "metadata": {},
     "output_type": "display_data"
    },
    {
     "name": "stdout",
     "output_type": "stream",
     "text": [
      "The probability that the sample proportion is greater than 0.9 is 0.02250262962632188\n"
     ]
    }
   ],
   "source": [
    "\n",
    "from scipy.stats import norm\n",
    "import math\n",
    "\n",
    "def solution_standardization_proportion(lower=None, upper=None, probability=None):\n",
    "    if lower is None and upper is not None:\n",
    "        print_latex(f\"$P(\\hat p \\\\leq {upper}) = {probability}$\")\n",
    "        print_latex(f\"$P( \\\\frac{{{{\\hat p}} - p}}{{\\sqrt{{p*(1-p)/n}}}} \\\\leq \\\\frac{{{{upper}}-p}}{{\\sqrt{{p*(1-p)/n}}}}) = {probability}$\")\n",
    "        print_latex(f\"Let $Z = \\\\frac{{{{\\hat p}} - p}}{{\\sqrt{{p*(1-p)/n}}}}$, then $Z \\\\sim N(0, 1)$\")\n",
    "        print_latex(f\"$P(Z \\\\leq \\\\frac{{{{upper}}-p}}{{\\sqrt{{p*(1-p)/n}}}}) = {probability}$\")\n",
    "        print_latex(f\"Taking inverse of the cumulative distribution function, we get:\")\n",
    "        print_latex(f\"$\\\\frac{{{{upper}} - p}}{{\\sqrt{{p*(1-p)/n}}}} = $ norm.ppf(${probability}$)\")\n",
    "    elif lower is not None and upper is None:    \n",
    "        print_latex(f\"$P(\\hat p \\\\geq {lower}) = {probability}$\")\n",
    "        print_latex(f\"$P(\\hat p \\\\leq {lower}) = 1 - {probability}$\")\n",
    "        print_latex(f\"$P( \\\\frac{{{{\\hat p}} - p}}{{\\sqrt{{p*(1-p)/n}}}} \\\\leq \\\\frac{{{{lower}} - p}}{{\\sqrt{{p*(1-p)/n}}}}) = 1 - {probability}$\")\n",
    "        print_latex(f\"Let $Z = \\\\frac{{{{\\hat p}} - p}}{{\\sqrt{{p*(1-p)/n}}}}$, then $Z \\\\sim N(0, 1)$\")\n",
    "        print_latex(f\"$P(Z \\\\leq \\\\frac{{{{lower}} - p}}{{\\sqrt{{p*(1-p)/n}}}}) = 1 - {probability}$\")\n",
    "        print_latex(f\"Taking inverse of the cumulative distribution function, we get:\")\n",
    "        print_latex(f\"$\\\\frac{{{{lower}} - p}}{{\\sqrt{{p*(1-p)/n}}}} = $ norm.ppf($1 - {probability}$)\")\n",
    "\n",
    "def probability_proportion(probability=None,proportion=None,n=None,lower=None,upper=None):\n",
    "    if proportion is None:\n",
    "        if probability is not None and n is not None and (lower is not None or upper is not None):\n",
    "            if lower is None:\n",
    "                solution_standardization_proportion(upper=upper,probability=probability)\n",
    "                print(\"Solving for p, we get:\")\n",
    "                d=norm.ppf(probability)\n",
    "                d_latex=f\"norm.ppf({probability})\"\n",
    "                a=n+d**2\n",
    "                a_latex=f\"{n}+{d_latex}^2\"\n",
    "                b=-d**2-2*upper*n\n",
    "                b_latex=f\"-{d_latex}^2-2*({upper}*{n})\"\n",
    "                c=upper**2*n\n",
    "                c_latex=f\"{upper}^2*{n}\"\n",
    "                p1=(-b+math.sqrt(b**2-4*a*c))/(2*a)\n",
    "                p2=(-b-math.sqrt(b**2-4*a*c))/(2*a)\n",
    "                print_latex(f\"$p = \\\\frac{{-({b_latex}) + \\\\sqrt{{({b_latex})^2-4({a_latex})({c_latex})}} }}{{2\\\\cdot ({a_latex})}} \\\\approx {p1}$\")\n",
    "                print(f\"The proportion is {p1}\")\n",
    "            elif upper is None:\n",
    "                solution_standardization_proportion(lower=lower,probability=probability)\n",
    "                print(\"Solving for p, we get:\")\n",
    "                d=norm.ppf(1-probability)\n",
    "                d_latex=f\"norm.ppf(1-{probability})\"\n",
    "                a=n+d**2\n",
    "                a_latex=f\"{n}+{d_latex}^2\"\n",
    "                b=-d**2-2*lower*n\n",
    "                b_latex=f\"-{d_latex}^2-2*({lower}*{n})\"\n",
    "                c=lower**2*n\n",
    "                c_latex=f\"{lower}^2*{n}\"\n",
    "                p1=(-b+math.sqrt(b**2-4*a*c))/(2*a)\n",
    "                p2=(-b-math.sqrt(b**2-4*a*c))/(2*a)\n",
    "                print_latex(f\"$p = \\\\frac{{-({b_latex}) - \\\\sqrt{{({b_latex})^2-4({a_latex})({c_latex})}} }}{{2\\\\cdot ({a_latex})}} \\\\approx {p2}$\")\n",
    "                print(f\"The proportion is {p2}\")\n",
    "            elif lower is not None and upper is not None:\n",
    "                print(f\"The proportion cannot be calculated with both lower and upper bounds\")\n",
    "        else:\n",
    "            print(f\"To calculate the proportion, please provide the probability, sample size, and either upper or lower bound\")\n",
    "    elif n is None:\n",
    "        if probability is not None and proportion is not None and (lower is not None or upper is not None):\n",
    "            if lower is None:\n",
    "                solution_standardization_proportion(upper=upper,probability=probability)\n",
    "                print(\"Solving for n, we get:\")\n",
    "                d=norm.ppf(probability)\n",
    "                d_latex=f\"norm.ppf({probability})\"\n",
    "                print_latex(f\"$n = \\\\frac{{({d_latex})^2(p)(1-p)}}{{({upper}-p)^2}} \\\\approx {(d**2*proportion*(1-proportion))/((upper-proportion)**2)}$\")\n",
    "                print(f\"The sample size is {((proportion*(1-proportion))/((upper - proportion)/norm.ppf(probability))**2) :.0f}\")\n",
    "            elif upper is None:\n",
    "                solution_standardization_proportion(lower=lower,probability=probability)\n",
    "                print(\"Solving for n, we get:\")\n",
    "                d=norm.ppf(1-probability)\n",
    "                d_latex=f\"norm.ppf(1-{probability})\"\n",
    "                print_latex(f\"$n = \\\\frac{{({d_latex})^2(p)(1-p)}}{{({lower}-p)^2}} \\\\approx {(d**2*proportion*(1-proportion))/((lower-proportion)**2)}$\")\n",
    "                print(f\"The sample size is {((proportion*(1-proportion))/((lower - proportion)/norm.ppf(probability))**2) :.0f}\")\n",
    "            elif lower is not None and upper is not None:\n",
    "                print(f\"Cannot calculate sample size with both lower and upper bounds\")\n",
    "        else:\n",
    "            print(f\"To calculate the sample size, please provide the probability, proportion, and either upper or lower bound\")\n",
    "    elif probability is None:\n",
    "        if proportion is not None and n is not None:\n",
    "            if lower is None and upper is None:\n",
    "                print(f\"To calculate the probability, provide lower bound or upper bound.\")\n",
    "            elif lower is not None and upper is None:\n",
    "                print_latex(f\"$P(\\\\hat p \\\\ge {lower}) = 1 - P(\\\\hat p \\\\le {lower})$\")\n",
    "                print_latex(f\"$P(\\\\hat p \\\\ge {lower}) = 1 - $ norm.cdf($ {lower} $ ,loc=${proportion}$,scale=$\\\\sqrt{{ \\\\frac{{ {proportion} \\\\cdot (1-{proportion})}} {{{n}}} }} \\\\approx {math.sqrt((proportion*(1-proportion))/n)}$)\")\n",
    "                print_latex(f\"$P(\\\\hat p \\\\ge {lower}) = {1-norm.cdf(lower,loc=proportion,scale=math.sqrt((proportion*(1-proportion))/n)) }$\")\n",
    "                print(f\"The probability that the sample proportion is greater than {lower} is {1-norm.cdf(lower,loc=proportion,scale=math.sqrt((proportion*(1-proportion))/n)) }\")\n",
    "            elif lower is None and upper is not None:\n",
    "                print_latex(f\"$P(\\\\hat p \\\\le {upper}) = $ norm.cdf($ {upper} $ ,loc=${proportion}$,scale=$\\\\sqrt{{ \\\\frac{{ {proportion} \\\\cdot (1-{proportion})}} {{{n}}} }} \\\\approx {math.sqrt((proportion*(1-proportion))/n)}$)\")\n",
    "                print_latex(f\"$P(\\\\hat p \\\\le {upper}) = {norm.cdf(upper,loc=proportion,scale=math.sqrt((proportion*(1-proportion))/n)) }$\")\n",
    "                print(f\"The probability that the sample proportion is less than {upper} is {norm.cdf(upper,loc=proportion,scale=math.sqrt((proportion*(1-proportion))/n)) }\")\n",
    "            elif lower is not None and upper is not None:\n",
    "                print_latex(f\"$P({lower} \\le \\\\hat p \\le {upper}) = P(\\\\hat p \\le {upper} ) - P(\\\\hat p \\le {lower}) $\")\n",
    "                print_latex(f\"$P({lower} \\le \\\\hat p \\le {upper}) = $ norm.cdf ($ {upper} $ ,loc=${proportion}$,scale=$\\\\sqrt{{ \\\\frac{{ {proportion} \\\\cdot (1-{proportion})}} {{{n}}} }} \\\\approx {math.sqrt((proportion*(1-proportion))/n)}$) - norm.cdf($ {lower} $ ,loc=${proportion}$,scale=$\\\\sqrt{{ \\\\frac{{ {proportion} \\\\cdot (1-{proportion})}} {{{n}}} }} \\\\approx {math.sqrt((proportion*(1-proportion))/n)}$)\")\n",
    "                print_latex(f\"$P(\\\\hat p \\\\le {upper}) = {norm.cdf(upper,loc=proportion,scale=math.sqrt((proportion*(1-proportion))/n))-norm.cdf(lower,loc=proportion,scale=math.sqrt((proportion*(1-proportion))/n)) }$\")\n",
    "                print(f\"The probability that the sample proportion is between {lower} and {upper} is {norm.cdf(upper,loc=proportion,scale=math.sqrt((proportion*(1-proportion))/n))-norm.cdf(lower,loc=proportion,scale=math.sqrt((proportion*(1-proportion))/n)) }\")\n",
    "        else:\n",
    "            print(\"To calculate the probability, please provide the proportion, sample size, and lower bound or upper bound.\")\n",
    "    elif lower is None and upper is not None:\n",
    "        if probability is not None and proportion is not None and n is not None:\n",
    "            solution_standardization_proportion(lower=\"lower\",probability=probability)\n",
    "            print(\"Solving for the lower bound, we get:\")\n",
    "            print_latex(f\"$lower= {proportion} + $ norm.ppf( $ 1 - {probability} $) $* \\\\sqrt{{ \\\\frac{{ {proportion} \\\\cdot (1-{proportion})}} {{{n}}} }} \\\\approx {proportion + norm.ppf(1 - probability, loc=0, scale=1) * math.sqrt((proportion*(1-proportion))/n) }$\")\n",
    "            print(f\"The lower bound is {proportion + norm.ppf(1 - probability, loc=0, scale=1) * math.sqrt((proportion*(1-proportion))/n) }\")\n",
    "        else:\n",
    "            print(\"To calculate the lower bound, please provide the probability, proportion, and sample size.\")\n",
    "    elif lower is not None and upper is None:\n",
    "        if probability is not None and proportion is not None and n is not None:\n",
    "            solution_standardization_proportion(upper=\"upper\",probability=probability)\n",
    "            print(\"Solving for the upper bound, we get:\")\n",
    "            print_latex(f\"$upper= {proportion} + $ norm.ppf( $ {probability} $) $* \\\\sqrt{{ \\\\frac{{ {proportion} \\\\cdot (1-{proportion})}} {{{n}}} }} \\\\approx {proportion + norm.ppf(probability, loc=0, scale=1) * math.sqrt((proportion*(1-proportion))/n) }$\")\n",
    "            print(f\"The upper bound is {proportion + norm.ppf(probability, loc=0, scale=1) * math.sqrt((proportion*(1-proportion))/n) }\")\n",
    "        else:\n",
    "            print(\"To calculate the upper bound, please provide the probability, proportion, and sample size.\")\n",
    "    else:\n",
    "        print(\"Please provide any 3 quantities from (probability, proportion, sample size) and either upper or lower bound.\")\n",
    "\n",
    "\n",
    "\n",
    "\n",
    "\n",
    "# probability_proportion(proportion=0.3,n=64,lower=0.4)\n",
    "# probability_proportion(proportion=0.3,n=100,upper=25/100)\n",
    "# probability_proportion(proportion=0.7,n=120,upper=100/120)\n",
    "\n",
    "# probability_proportion(proportion=0.4,n=80,lower=0.44,upper=0.61)\n",
    "\n",
    "\n",
    "# probability_proportion(proportion=,n=80,lower=0.44)\n",
    "\n",
    "probability_population(mean=0.498,sd=0.002,lower=0.496,upper=0.504)\n",
    "\n",
    "probability_proportion(proportion=0.839994848036913,n=150,lower=0.9)"
   ]
  }
 ],
 "metadata": {
  "kernelspec": {
   "display_name": "Python 3",
   "language": "python",
   "name": "python3"
  },
  "language_info": {
   "codemirror_mode": {
    "name": "ipython",
    "version": 3
   },
   "file_extension": ".py",
   "mimetype": "text/x-python",
   "name": "python",
   "nbconvert_exporter": "python",
   "pygments_lexer": "ipython3",
   "version": "3.11.2"
  },
  "orig_nbformat": 4
 },
 "nbformat": 4,
 "nbformat_minor": 2
}
