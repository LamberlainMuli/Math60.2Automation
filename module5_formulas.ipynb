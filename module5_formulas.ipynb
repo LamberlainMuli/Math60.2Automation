{
 "cells": [
  {
   "attachments": {},
   "cell_type": "markdown",
   "metadata": {},
   "source": [
    "Module 5.1: Estimators and Point Estimation"
   ]
  },
  {
   "cell_type": "code",
   "execution_count": 1,
   "metadata": {},
   "outputs": [
    {
     "name": "stdout",
     "output_type": "stream",
     "text": [
      "1128.6\n",
      "41.92016221342661\n",
      "Sample A:  980\n",
      "Sample B:  975.8\n",
      "0.72\n"
     ]
    },
    {
     "data": {
      "text/latex": [
       "Given the formula for the standard error of the proportion: $SE=\\sqrt{\\frac{ p(1-p) }{ n } }$. We substitute the values as follows:"
      ],
      "text/plain": [
       "<IPython.core.display.Latex object>"
      ]
     },
     "metadata": {},
     "output_type": "display_data"
    },
    {
     "data": {
      "text/latex": [
       "$SE=\\sqrt{\\frac{ 0.72(1-0.72) }{ 100 } } \\approx 0.1419859147943908$ "
      ],
      "text/plain": [
       "<IPython.core.display.Latex object>"
      ]
     },
     "metadata": {},
     "output_type": "display_data"
    },
    {
     "data": {
      "text/latex": [
       "Given the formula for the standard error of the mean: $SE=\\frac{\\sigma}{\\sqrt{n}}$. We substitute the values as follows:"
      ],
      "text/plain": [
       "<IPython.core.display.Latex object>"
      ]
     },
     "metadata": {},
     "output_type": "display_data"
    },
    {
     "data": {
      "text/latex": [
       "$SE=\\frac{105}{\\sqrt{50}} \\approx 14.849242404917497$ "
      ],
      "text/plain": [
       "<IPython.core.display.Latex object>"
      ]
     },
     "metadata": {},
     "output_type": "display_data"
    },
    {
     "data": {
      "text/latex": [
       "Point estimate of the population mean is: $\\hat \\mu \\approx N(980,14.849242404917497)$"
      ],
      "text/plain": [
       "<IPython.core.display.Latex object>"
      ]
     },
     "metadata": {},
     "output_type": "display_data"
    },
    {
     "data": {
      "text/latex": [
       "Given the formula for the standard error of the proportion: $SE=\\sqrt{\\frac{ p(1-p) }{ n } }$. We substitute the values as follows:"
      ],
      "text/plain": [
       "<IPython.core.display.Latex object>"
      ]
     },
     "metadata": {},
     "output_type": "display_data"
    },
    {
     "data": {
      "text/latex": [
       "$SE=\\sqrt{\\frac{ 0.72(1-0.72) }{ 100 } } \\approx 0.1419859147943908$ "
      ],
      "text/plain": [
       "<IPython.core.display.Latex object>"
      ]
     },
     "metadata": {},
     "output_type": "display_data"
    },
    {
     "data": {
      "text/latex": [
       "Point estimate of the population proportion is: $\\hat p \\approx N(0.72,0.1419859147943908)$"
      ],
      "text/plain": [
       "<IPython.core.display.Latex object>"
      ]
     },
     "metadata": {},
     "output_type": "display_data"
    },
    {
     "name": "stdout",
     "output_type": "stream",
     "text": [
      "\n"
     ]
    }
   ],
   "source": [
    "import numpy as np\n",
    "from module4 import *\n",
    "def estimator_mean(sample):\n",
    "    return np.mean(sample)\n",
    "def estimator_proportion(sample):\n",
    "    return np.mean(sample)\n",
    "def estimator_sd(sample):\n",
    "    return np.std(sample,ddof=1)\n",
    "def estimate_mean(mean,n,sd):\n",
    "    se=standard_error_mean(sd=sd,n=n)\n",
    "    print_latex(f\"Point estimate of the population mean is: $\\\\hat \\\\mu \\\\approx N({mean},{se})$\")\n",
    "    return mean,se\n",
    "def estimate_proportion(n,p):\n",
    "    se=standard_error_proportion(n=n,proportion=p)\n",
    "    print_latex(f\"Point estimate of the population proportion is: $\\\\hat p \\\\approx N({p},{se})$\")\n",
    "    return p,se\n",
    "print(estimator_mean([1105, 1200, 1130, 1095, 1113]))\n",
    "print(estimator_sd([1105, 1200, 1130, 1095, 1113]))\n",
    "\n",
    "\n",
    "print(\"Sample A: \", 980)\n",
    "# estimate_mean(mean=980,sd=105,n=50)\n",
    "print(\"Sample B: \", 975.8)\n",
    "# estimate_mean(mean=975.8,sd=108,n=100)\n",
    "print(0.72)\n",
    "standard_error_proportion(n=100,proportion=0.72)\n",
    "\n",
    "estimate_mean(mean=980,n=50,sd=105)\n",
    "estimate_proportion(p=0.72,n=100)\n",
    "print()"
   ]
  },
  {
   "attachments": {},
   "cell_type": "markdown",
   "metadata": {},
   "source": [
    "Module 5.2: Confidence Intervals for Population Means"
   ]
  },
  {
   "cell_type": "code",
   "execution_count": 63,
   "metadata": {},
   "outputs": [
    {
     "name": "stdout",
     "output_type": "stream",
     "text": [
      "1(a)\n",
      "Calculating confidence interval...\n",
      "Calculating margin of error...\n"
     ]
    },
    {
     "data": {
      "text/latex": [
       "Given the formula for the standard error of the mean: $SE=\\frac{\\sigma}{\\sqrt{n}}$. We substitute the values as follows:"
      ],
      "text/plain": [
       "<IPython.core.display.Latex object>"
      ]
     },
     "metadata": {},
     "output_type": "display_data"
    },
    {
     "data": {
      "text/latex": [
       "$SE=\\frac{0.3}{\\sqrt{50}} \\approx 0.04242640687119285$ "
      ],
      "text/plain": [
       "<IPython.core.display.Latex object>"
      ]
     },
     "metadata": {},
     "output_type": "display_data"
    },
    {
     "name": "stdout",
     "output_type": "stream",
     "text": [
      "Calculating za...\n",
      "Calculating alpha...\n"
     ]
    },
    {
     "data": {
      "text/latex": [
       "From the formula $\\alpha = 1-$ confidence $ \\alpha $ is $ 0.050000000000000044$"
      ],
      "text/plain": [
       "<IPython.core.display.Latex object>"
      ]
     },
     "metadata": {},
     "output_type": "display_data"
    },
    {
     "data": {
      "text/latex": [
       "From the formula $Z_{\\alpha/2} = F_X^-1(alpha/2)$, we can simply substitute $\\alpha$"
      ],
      "text/plain": [
       "<IPython.core.display.Latex object>"
      ]
     },
     "metadata": {},
     "output_type": "display_data"
    },
    {
     "data": {
      "text/latex": [
       "$Z_{\\alpha/2} = F_X^-1(0.050000000000000044/2) \\approx 1.959963984540054$"
      ],
      "text/plain": [
       "<IPython.core.display.Latex object>"
      ]
     },
     "metadata": {},
     "output_type": "display_data"
    },
    {
     "data": {
      "text/latex": [
       "From the formula margin of error $ = Z_{\\alpha/2} \\times SE$, we simply substitute to get:"
      ],
      "text/plain": [
       "<IPython.core.display.Latex object>"
      ]
     },
     "metadata": {},
     "output_type": "display_data"
    },
    {
     "data": {
      "text/latex": [
       " margin of error $= 1.959963984540054 \\times 0.04242640687119285 \\approx 0.08315422946098067$"
      ],
      "text/plain": [
       "<IPython.core.display.Latex object>"
      ]
     },
     "metadata": {},
     "output_type": "display_data"
    },
    {
     "data": {
      "text/latex": [
       "To get the lower and upper bounds, we simply add and subtract the margin of error from the mean:"
      ],
      "text/plain": [
       "<IPython.core.display.Latex object>"
      ]
     },
     "metadata": {},
     "output_type": "display_data"
    },
    {
     "data": {
      "text/latex": [
       "Lower bound: $8.0-0.08315422946098067 \\approx 7.91684577053902$"
      ],
      "text/plain": [
       "<IPython.core.display.Latex object>"
      ]
     },
     "metadata": {},
     "output_type": "display_data"
    },
    {
     "data": {
      "text/latex": [
       "Upper bound: $8.0+0.08315422946098067 \\approx 8.08315422946098$"
      ],
      "text/plain": [
       "<IPython.core.display.Latex object>"
      ]
     },
     "metadata": {},
     "output_type": "display_data"
    },
    {
     "name": "stdout",
     "output_type": "stream",
     "text": [
      "We are 95.0% confident that the population mean is within (7.91684577053902,8.08315422946098)\n",
      "\n",
      "1(b)\n",
      "Calculating confidence interval...\n",
      "Calculating margin of error...\n"
     ]
    },
    {
     "data": {
      "text/latex": [
       "Given the formula for the standard error of the mean: $SE=\\frac{\\sigma}{\\sqrt{n}}$. We substitute the values as follows:"
      ],
      "text/plain": [
       "<IPython.core.display.Latex object>"
      ]
     },
     "metadata": {},
     "output_type": "display_data"
    },
    {
     "data": {
      "text/latex": [
       "$SE=\\frac{0.64}{\\sqrt{50}} \\approx 0.09050966799187808$ "
      ],
      "text/plain": [
       "<IPython.core.display.Latex object>"
      ]
     },
     "metadata": {},
     "output_type": "display_data"
    },
    {
     "name": "stdout",
     "output_type": "stream",
     "text": [
      "Calculating za...\n",
      "Calculating alpha...\n"
     ]
    },
    {
     "data": {
      "text/latex": [
       "From the formula $\\alpha = 1-$ confidence $ \\alpha $ is $ 0.010000000000000009$"
      ],
      "text/plain": [
       "<IPython.core.display.Latex object>"
      ]
     },
     "metadata": {},
     "output_type": "display_data"
    },
    {
     "data": {
      "text/latex": [
       "From the formula $Z_{\\alpha/2} = F_X^-1(alpha/2)$, we can simply substitute $\\alpha$"
      ],
      "text/plain": [
       "<IPython.core.display.Latex object>"
      ]
     },
     "metadata": {},
     "output_type": "display_data"
    },
    {
     "data": {
      "text/latex": [
       "$Z_{\\alpha/2} = F_X^-1(0.010000000000000009/2) \\approx 2.5758293035489004$"
      ],
      "text/plain": [
       "<IPython.core.display.Latex object>"
      ]
     },
     "metadata": {},
     "output_type": "display_data"
    },
    {
     "data": {
      "text/latex": [
       "From the formula margin of error $ = Z_{\\alpha/2} \\times SE$, we simply substitute to get:"
      ],
      "text/plain": [
       "<IPython.core.display.Latex object>"
      ]
     },
     "metadata": {},
     "output_type": "display_data"
    },
    {
     "data": {
      "text/latex": [
       " margin of error $= 2.5758293035489004 \\times 0.09050966799187808 \\approx 0.23313745506796152$"
      ],
      "text/plain": [
       "<IPython.core.display.Latex object>"
      ]
     },
     "metadata": {},
     "output_type": "display_data"
    },
    {
     "data": {
      "text/latex": [
       "To get the lower and upper bounds, we simply add and subtract the margin of error from the mean:"
      ],
      "text/plain": [
       "<IPython.core.display.Latex object>"
      ]
     },
     "metadata": {},
     "output_type": "display_data"
    },
    {
     "data": {
      "text/latex": [
       "Lower bound: $67.3-0.23313745506796152 \\approx 67.06686254493204$"
      ],
      "text/plain": [
       "<IPython.core.display.Latex object>"
      ]
     },
     "metadata": {},
     "output_type": "display_data"
    },
    {
     "data": {
      "text/latex": [
       "Upper bound: $67.3+0.23313745506796152 \\approx 67.53313745506796$"
      ],
      "text/plain": [
       "<IPython.core.display.Latex object>"
      ]
     },
     "metadata": {},
     "output_type": "display_data"
    },
    {
     "name": "stdout",
     "output_type": "stream",
     "text": [
      "We are 99.0% confident that the population mean is within (67.06686254493204,67.53313745506796)\n",
      "\n",
      "2\n",
      "Calculating confidence interval...\n",
      "Calculating margin of error...\n"
     ]
    },
    {
     "data": {
      "text/latex": [
       "Given the formula for the standard error of the mean: $SE=\\frac{\\sigma}{\\sqrt{n}}$. We substitute the values as follows:"
      ],
      "text/plain": [
       "<IPython.core.display.Latex object>"
      ]
     },
     "metadata": {},
     "output_type": "display_data"
    },
    {
     "data": {
      "text/latex": [
       "$SE=\\frac{0.0051}{\\sqrt{30}} \\approx 0.0009311283477587824$ "
      ],
      "text/plain": [
       "<IPython.core.display.Latex object>"
      ]
     },
     "metadata": {},
     "output_type": "display_data"
    },
    {
     "name": "stdout",
     "output_type": "stream",
     "text": [
      "Calculating za...\n",
      "Calculating alpha...\n"
     ]
    },
    {
     "data": {
      "text/latex": [
       "From the formula $\\alpha = 1-$ confidence $ \\alpha $ is $ 0.09999999999999998$"
      ],
      "text/plain": [
       "<IPython.core.display.Latex object>"
      ]
     },
     "metadata": {},
     "output_type": "display_data"
    },
    {
     "data": {
      "text/latex": [
       "From the formula $Z_{\\alpha/2} = F_X^-1(alpha/2)$, we can simply substitute $\\alpha$"
      ],
      "text/plain": [
       "<IPython.core.display.Latex object>"
      ]
     },
     "metadata": {},
     "output_type": "display_data"
    },
    {
     "data": {
      "text/latex": [
       "$Z_{\\alpha/2} = F_X^-1(0.09999999999999998/2) \\approx 1.6448536269514722$"
      ],
      "text/plain": [
       "<IPython.core.display.Latex object>"
      ]
     },
     "metadata": {},
     "output_type": "display_data"
    },
    {
     "data": {
      "text/latex": [
       "From the formula margin of error $ = Z_{\\alpha/2} \\times SE$, we simply substitute to get:"
      ],
      "text/plain": [
       "<IPython.core.display.Latex object>"
      ]
     },
     "metadata": {},
     "output_type": "display_data"
    },
    {
     "data": {
      "text/latex": [
       " margin of error $= 1.6448536269514722 \\times 0.0009311283477587824 \\approx 0.001531569839968365$"
      ],
      "text/plain": [
       "<IPython.core.display.Latex object>"
      ]
     },
     "metadata": {},
     "output_type": "display_data"
    },
    {
     "data": {
      "text/latex": [
       "To get the lower and upper bounds, we simply add and subtract the margin of error from the mean:"
      ],
      "text/plain": [
       "<IPython.core.display.Latex object>"
      ]
     },
     "metadata": {},
     "output_type": "display_data"
    },
    {
     "data": {
      "text/latex": [
       "Lower bound: $0.145-0.001531569839968365 \\approx 0.14346843016003163$"
      ],
      "text/plain": [
       "<IPython.core.display.Latex object>"
      ]
     },
     "metadata": {},
     "output_type": "display_data"
    },
    {
     "data": {
      "text/latex": [
       "Upper bound: $0.145+0.001531569839968365 \\approx 0.14653156983996835$"
      ],
      "text/plain": [
       "<IPython.core.display.Latex object>"
      ]
     },
     "metadata": {},
     "output_type": "display_data"
    },
    {
     "name": "stdout",
     "output_type": "stream",
     "text": [
      "We are 90.0% confident that the population mean is within (0.14346843016003163,0.14653156983996835)\n",
      "\n",
      "3(a)\n",
      "Calculating confidence interval...\n",
      "Calculating margin of error...\n"
     ]
    },
    {
     "data": {
      "text/latex": [
       "Given the formula for the standard error of the mean: $SE=\\frac{\\sigma}{\\sqrt{n}}$. We substitute the values as follows:"
      ],
      "text/plain": [
       "<IPython.core.display.Latex object>"
      ]
     },
     "metadata": {},
     "output_type": "display_data"
    },
    {
     "data": {
      "text/latex": [
       "$SE=\\frac{15}{\\sqrt{50}} \\approx 2.1213203435596424$ "
      ],
      "text/plain": [
       "<IPython.core.display.Latex object>"
      ]
     },
     "metadata": {},
     "output_type": "display_data"
    },
    {
     "name": "stdout",
     "output_type": "stream",
     "text": [
      "Calculating za...\n",
      "Calculating alpha...\n"
     ]
    },
    {
     "data": {
      "text/latex": [
       "From the formula $\\alpha = 1-$ confidence $ \\alpha $ is $ 0.050000000000000044$"
      ],
      "text/plain": [
       "<IPython.core.display.Latex object>"
      ]
     },
     "metadata": {},
     "output_type": "display_data"
    },
    {
     "data": {
      "text/latex": [
       "From the formula $Z_{\\alpha/2} = F_X^-1(alpha/2)$, we can simply substitute $\\alpha$"
      ],
      "text/plain": [
       "<IPython.core.display.Latex object>"
      ]
     },
     "metadata": {},
     "output_type": "display_data"
    },
    {
     "data": {
      "text/latex": [
       "$Z_{\\alpha/2} = F_X^-1(0.050000000000000044/2) \\approx 1.959963984540054$"
      ],
      "text/plain": [
       "<IPython.core.display.Latex object>"
      ]
     },
     "metadata": {},
     "output_type": "display_data"
    },
    {
     "data": {
      "text/latex": [
       "From the formula margin of error $ = Z_{\\alpha/2} \\times SE$, we simply substitute to get:"
      ],
      "text/plain": [
       "<IPython.core.display.Latex object>"
      ]
     },
     "metadata": {},
     "output_type": "display_data"
    },
    {
     "data": {
      "text/latex": [
       " margin of error $= 1.959963984540054 \\times 2.1213203435596424 \\approx 4.157711473049033$"
      ],
      "text/plain": [
       "<IPython.core.display.Latex object>"
      ]
     },
     "metadata": {},
     "output_type": "display_data"
    },
    {
     "data": {
      "text/latex": [
       "To get the lower and upper bounds, we simply add and subtract the margin of error from the mean:"
      ],
      "text/plain": [
       "<IPython.core.display.Latex object>"
      ]
     },
     "metadata": {},
     "output_type": "display_data"
    },
    {
     "data": {
      "text/latex": [
       "Lower bound: $107.9-4.157711473049033 \\approx 103.74228852695097$"
      ],
      "text/plain": [
       "<IPython.core.display.Latex object>"
      ]
     },
     "metadata": {},
     "output_type": "display_data"
    },
    {
     "data": {
      "text/latex": [
       "Upper bound: $107.9+4.157711473049033 \\approx 112.05771147304904$"
      ],
      "text/plain": [
       "<IPython.core.display.Latex object>"
      ]
     },
     "metadata": {},
     "output_type": "display_data"
    },
    {
     "name": "stdout",
     "output_type": "stream",
     "text": [
      "We are 95.0% confident that the population mean is within (103.74228852695097,112.05771147304904)\n",
      "\n",
      "3(b)\n",
      "Calculating confidence interval...\n",
      "Calculating margin of error...\n",
      "Please provide two of the three values: se, sd, n\n",
      "Calculating za...\n",
      "Calculating alpha...\n"
     ]
    },
    {
     "data": {
      "text/latex": [
       "From the formula $\\alpha = 1-$ confidence $ \\alpha $ is $ 0.050000000000000044$"
      ],
      "text/plain": [
       "<IPython.core.display.Latex object>"
      ]
     },
     "metadata": {},
     "output_type": "display_data"
    },
    {
     "data": {
      "text/latex": [
       "From the formula $Z_{\\alpha/2} = F_X^-1(alpha/2)$, we can simply substitute $\\alpha$"
      ],
      "text/plain": [
       "<IPython.core.display.Latex object>"
      ]
     },
     "metadata": {},
     "output_type": "display_data"
    },
    {
     "data": {
      "text/latex": [
       "$Z_{\\alpha/2} = F_X^-1(0.050000000000000044/2) \\approx 1.959963984540054$"
      ],
      "text/plain": [
       "<IPython.core.display.Latex object>"
      ]
     },
     "metadata": {},
     "output_type": "display_data"
    },
    {
     "name": "stdout",
     "output_type": "stream",
     "text": [
      "Please provide exactly two of the following: margin of error, se, za\n"
     ]
    },
    {
     "data": {
      "text/latex": [
       "To get the margin of error, we subtract the mean from the upper bound: $112.05771147304904-107.9 \\approx 4.157711473049034$"
      ],
      "text/plain": [
       "<IPython.core.display.Latex object>"
      ]
     },
     "metadata": {},
     "output_type": "display_data"
    },
    {
     "data": {
      "text/plain": [
       "(107.9, 4.157711473049034, 103.74228852695097, 112.05771147304904)"
      ]
     },
     "execution_count": 63,
     "metadata": {},
     "output_type": "execute_result"
    }
   ],
   "source": [
    "def get_alpha(alpha=None,confidence=None):\n",
    "    print(\"Calculating alpha...\")\n",
    "    if alpha is None and confidence is None:\n",
    "        print(\"Please provide a value for alpha or confidence\")\n",
    "    elif alpha is None:\n",
    "        print_latex(f\"From the formula $\\\\alpha = 1-$ confidence $ \\\\alpha $ is $ {1-confidence}$\")\n",
    "        return 1-confidence,confidence\n",
    "    elif confidence is None:\n",
    "        print_latex(f\"From the formula confidence $= 1-\\\\alpha$ confidence is ${1-alpha}$\")\n",
    "        return alpha,1-alpha\n",
    "    return None,None\n",
    "\n",
    "# print(\"Test 1: alpha=0.05\")\n",
    "# print(get_alpha(alpha=0.05))\n",
    "# print(\"Test 2: confidence=0.95\")\n",
    "# print(get_alpha(confidence=0.95))\n",
    "\n",
    "def get_z_alpha(za=None,alpha=None,confidence=None,half=False):\n",
    "    print(\"Calculating za...\")\n",
    "    alpha,confidence = get_alpha(alpha=alpha,confidence=confidence)\n",
    "    if alpha is None and za is None:\n",
    "        print(\"Please provide a value for alpha or za\")\n",
    "    elif za is None:\n",
    "        if half:\n",
    "            za_answer=norm.ppf(1-alpha/2)\n",
    "            print_latex(f\"From the formula $Z_{{\\\\alpha/2}} = F_X^-1(alpha/2)$, we can simply substitute $\\\\alpha$\")\n",
    "            print_latex(f\"$Z_{{\\\\alpha/2}} = F_X^-1({alpha}/2) \\\\approx {za_answer}$\")\n",
    "        else:\n",
    "            za_answer=norm.ppf(1-alpha)\n",
    "            print_latex(f\"From the formula $Z_{{\\\\alpha}} = F_X^-1(alpha)$, we can simply substitute $\\\\alpha$\")\n",
    "            print_latex(f\"$Z_{{\\\\alpha}} = F_X^-1({alpha}) \\\\approx {za_answer}$\")\n",
    "        return za_answer,alpha\n",
    "    elif alpha is None:\n",
    "        alpha_answer=norm.cdf(za)\n",
    "        print_latex(f\"From the formula $Z_{{\\\\alpha}} = F_X^-1(alpha)$, we can isolate $\\\\alpha$ by using the cdf\")\n",
    "        print_latex(f\"$\\\\alpha = F_X(Z_{{\\\\alpha}})$\")\n",
    "        print_latex(f\"$\\\\alpha = F_X({za}) \\\\approx {alpha_answer}$\")\n",
    "        return za,alpha_answer\n",
    "    else:\n",
    "        return za,alpha\n",
    "    return None,None\n",
    "    \n",
    "# print(\"Test 1: alpha=0.05\")\n",
    "# print(get_z_alpha(alpha=0.05))\n",
    "# print(\"Test 2: confidence=0.95\")\n",
    "# print(get_z_alpha(confidence=0.95))\n",
    "# print(\"Test 3: za=1.6448536269514722\")\n",
    "# print(get_z_alpha(za=1.6448536269514722))\n",
    "\n",
    "def get_margin_of_error_mean(moe_mean=None,se=None,sd=None,n=None,za=None,alpha=None,confidence=None):\n",
    "    print(\"Calculating margin of error...\")\n",
    "    se = standard_error_mean(se=se,sd=sd,n=n)\n",
    "    za,alpha = get_z_alpha(za=za,alpha=alpha,confidence=confidence,half=True)\n",
    "    if moe_mean is not None and [za,se,moe_mean].count(None)>1:\n",
    "        return moe_mean,za,se\n",
    "    elif [za,moe_mean,se].count(None)!=1:\n",
    "        print(\"Please provide exactly two of the following: margin of error, se, za\")\n",
    "        return None,None,None\n",
    "    elif moe_mean is None:\n",
    "        print_latex(\"From the formula margin of error $ = Z_{\\\\alpha/2} \\\\times SE$, we simply substitute to get:\")\n",
    "        print_latex(f\" margin of error $= {za} \\\\times {se} \\\\approx {za*se}$\")\n",
    "        return za*se,za,se\n",
    "    elif se is None:\n",
    "        print_latex(\"From the formula $MOE_{mean} = Z_{\\\\alpha/2} \\\\times SE$, we can isolate se by dividing both sides by $Z_{\\\\alpha/2}$\")\n",
    "        print_latex(\"SE = $\\\\frac{MOE_{mean}}{Z_{\\\\alpha/2}}$\")\n",
    "        print_latex(f\"SE = $\\\\frac{{{moe_mean}}}{{{za}}} \\\\approx {moe_mean/za}$\")\n",
    "        return moe_mean,za,moe_mean/za\n",
    "    elif za is None:\n",
    "        print_latex(\"From the formula $MOE_{mean} = Z_{\\\\alpha/2} \\\\times SE$, we can isolate $Z_{\\\\alpha/2}$ by dividing both sides by $SE$\")\n",
    "        print_latex(\"$Z_{\\\\alpha/2} = \\\\frac{MOE_{mean}}{SE}$\")\n",
    "        print_latex(f\"$Z_{{\\\\alpha/2}} = \\\\frac{{{moe_mean}}}{{{se}}} \\\\approx {moe_mean/se}$\")\n",
    "        return moe_mean,moe_mean/se,se\n",
    "    else:\n",
    "        return moe_mean,za,se\n",
    "\n",
    "# print(\"Test 1: moe_mean=0.5, se=0.25\")\n",
    "# print(get_margin_of_error_mean(moe_mean=0.5,se=0.25))\n",
    "# print(\"Test 2: moe_mean=0.5, za=2\")\n",
    "# print(get_margin_of_error_mean(moe_mean=0.5,za=2))\n",
    "# print(\"Test 3: se=0.25, za=2\")\n",
    "# print(get_margin_of_error_mean(se=0.25,za=2))\n",
    "\n",
    "\n",
    "def get_confidence_interval_mean(lower=None,upper=None,mean=None,moe_mean=None,se=None,sd=None,n=None,za=None,alpha=None,confidence=None):\n",
    "    print(\"Calculating confidence interval...\")\n",
    "    moe_mean,za,se=get_margin_of_error_mean(moe_mean=moe_mean,se=se,sd=sd,n=n,za=za,alpha=alpha,confidence=confidence)\n",
    "    if lower is None and upper is None:\n",
    "        # If no interval provided, require both mean and MOE\n",
    "        if mean is None or moe_mean is None:\n",
    "            print(\"Please provide both the mean and the margin of error, or a complete interval.\")\n",
    "            return None,None,None,None\n",
    "        else:\n",
    "            print_latex(f\"To get the lower and upper bounds, we simply add and subtract the margin of error from the mean:\")\n",
    "            print_latex(f\"Lower bound: ${mean}-{moe_mean} \\\\approx {mean-moe_mean}$\")\n",
    "            print_latex(f\"Upper bound: ${mean}+{moe_mean} \\\\approx {mean+moe_mean}$\")\n",
    "            print(f\"We are {confidence*100 if confidence else 'unkown'}% confident that the population mean is within ({mean-moe_mean},{mean+moe_mean})\")\n",
    "            return mean,moe_mean,mean-moe_mean,mean+moe_mean\n",
    "    else:\n",
    "        # If interval is provided, handle different scenarios\n",
    "        if mean is None and moe_mean is not None:\n",
    "            if lower is not None:\n",
    "                mean = lower + moe_mean\n",
    "                upper = lower + 2*moe_mean\n",
    "                print_latex(f\"To get the mean, we add the margin of error to the lower bound: ${lower}+{moe_mean} \\\\approx {mean}$\")\n",
    "            elif upper is not None:\n",
    "                mean = upper - moe_mean\n",
    "                lower = upper - 2*moe_mean\n",
    "                print_latex(f\"To get the mean, we subtract the margin of error from the upper bound: ${upper}-{moe_mean} \\\\approx {mean}$\")\n",
    "            return mean,moe_mean,lower,upper\n",
    "        elif mean is None and moe_mean is None:\n",
    "            if lower is not None and upper is not None:\n",
    "                mean = (lower + upper) / 2\n",
    "                moe_mean=upper-mean\n",
    "                print_latex(f\"To get the mean, we take the midpoint of the interval: $\\\\frac{{{upper}+{lower}}}{{2}} \\\\approx {mean}$\")\n",
    "                return mean,moe_mean,lower,upper\n",
    "            else:\n",
    "                print(\"Please provide: the mean or the margin of error or the remanining bound.\")\n",
    "                return None,None,None,None\n",
    "        elif moe_mean is None and mean is not None:\n",
    "            if upper is not None:\n",
    "                moe_mean = upper - mean\n",
    "                lower = mean - moe_mean\n",
    "                print_latex(f\"To get the margin of error, we subtract the mean from the upper bound: ${upper}-{mean} \\\\approx {moe_mean}$\")\n",
    "            elif lower is not None:\n",
    "                moe_mean = mean - lower\n",
    "                upper = mean + moe_mean\n",
    "                print_latex(f\"To get the margin of error, we subtract the lower bound from the mean: ${mean}-{lower} \\\\approx {moe_mean}$\")\n",
    "            return mean,moe_mean,lower,upper\n",
    "        else:\n",
    "            print(\"Please provide: the mean or the margin of error or the remanining bound.\")\n",
    "            return mean,moe_mean,lower,upper\n",
    "          \n",
    "# print(\"Test 1: interval=(0.5,0.7), mean=0.6, get MOE\")\n",
    "# print(get_confidence_interval_mean(lower=0.5, upper=0.7, mean=0.6))\n",
    "\n",
    "# print(\"Test 2: interval=(0.5,0.7), moe=0.1, get mean\")\n",
    "# print(get_confidence_interval_mean(lower=0.5, upper=0.7, moe_mean=0.1))\n",
    "\n",
    "# print(\"Test 3: interval=(0.5,0.7), get mean and MOE\")\n",
    "# print(get_confidence_interval_mean(lower=0.5, upper=0.7))\n",
    "\n",
    "# print(\"Test 4: mean=0.6, moe=0.1, get interval\")\n",
    "# print(get_confidence_interval_mean(mean=0.6, moe_mean=0.1))\n",
    "\n",
    "# print(\"Test 5: lower=0.5, mean=0.6, get MOE and upper\")\n",
    "# print(get_confidence_interval_mean(lower=0.5, mean=0.6))\n",
    "\n",
    "# print(\"Test 6: upper=0.7, mean=0.6, get MOE and lower\")\n",
    "# print(get_confidence_interval_mean(upper=0.7, mean=0.6))\n",
    "\n",
    "# print(\"Test 7: lower=0.5, moe=0.1, get mean and upper\")\n",
    "# print(get_confidence_interval_mean(lower=0.5, moe_mean=0.1))\n",
    "\n",
    "# print(\"Test 8: upper=0.7, moe=0.1, get mean and lower\")\n",
    "# print(get_confidence_interval_mean(upper=0.7, moe_mean=0.1))\n",
    "\n",
    "# print(\"Test 9: mean=0.6, get error message\")\n",
    "# print(get_confidence_interval_mean(mean=0.6))\n",
    "\n",
    "# print(\"Test 10: moe=0.1, get error message\")\n",
    "# print(get_confidence_interval_mean(moe_mean=0.1))\n",
    "\n",
    "# print(\"Test 11: lower=0.5, get error message\")\n",
    "# print(get_confidence_interval_mean(lower=0.5))\n",
    "\n",
    "# print(\"Test 12: upper=0.7, get error message\")\n",
    "# print(get_confidence_interval_mean(upper=0.7))\n",
    "\n",
    "# print(\"Test 13: lower=0.5, upper=0.7, mean=0.6, moe=0.1, no calculation needed\")\n",
    "# print(get_confidence_interval_mean(lower=0.5, upper=0.7, mean=0.6, moe_mean=0.1))\n",
    "\n",
    "print(\"1(a)\")\n",
    "get_confidence_interval_mean(confidence=0.95,n=50,mean=8.0,sd=0.3)\n",
    "print(\"\\n1(b)\")\n",
    "get_confidence_interval_mean(confidence=0.99,n=50,mean=67.3,sd=0.64)\n",
    "print(\"\\n2\")\n",
    "get_confidence_interval_mean(n=30,mean=0.145,sd=0.0051,confidence=0.9)\n",
    "print(\"\\n3(a)\")\n",
    "mean,moe,lower,upper=get_confidence_interval_mean(mean=107.9,sd=15,n=50,confidence=0.95)\n",
    "\n",
    "print(\"\\n3(b)\")\n",
    "get_confidence_interval_mean(lower=lower,upper=upper,mean=107.9,confidence=0.95)\n"
   ]
  },
  {
   "attachments": {},
   "cell_type": "markdown",
   "metadata": {},
   "source": [
    "$SE = \\sqrt{\\frac{\\sigma_1^2}{n_1} + \\frac{\\sigma_2^2}{n_2}}$\n",
    "\n",
    "$SE^2 = \\frac{\\sigma_1^2}{n_1} + \\frac{\\sigma_2^2}{n_2}$\n",
    "\n",
    "$\\sigma_1 = SE^2 \\cdot n_1 - \\frac{\\sigma_2^2 \\cdot n_1}{n_2}$\n",
    "\n",
    "$n_1 = \\frac{\\sigma_1^2}{SE^2 - \\frac{\\sigma_2^2}{n_2}}$\n",
    "\n",
    "$\\sigma_2 = SE^2 \\cdot n_2 - \\frac{\\sigma_1^2 \\cdot n_2}{n_1}$\n",
    "\n",
    "$n_2 = \\frac{\\sigma_2^2}{SE^2 - \\frac{\\sigma_1^2}{n_1}}$\n"
   ]
  },
  {
   "attachments": {},
   "cell_type": "markdown",
   "metadata": {},
   "source": [
    "$MOE = z_{\\alpha/2}SE$\n",
    "\n",
    "$z_{\\alpha/2} = MOE/SE$\n",
    "\n",
    "$SE = MOE/z_{\\alpha/2}$\n",
    "\n",
    "diff=$\\bar{x_1}-\\bar{x_2}$\n",
    "\n",
    "diff = upper-MOE\n",
    "diff = lower+MOE\n",
    "\n",
    "MOE = upper-diff\n",
    "MOE = lower+diff\n",
    "\n",
    "upper = diff + MOE\n",
    "lower = diff - MOE\n",
    "\n",
    "\n",
    "\n",
    "\n"
   ]
  },
  {
   "cell_type": "code",
   "execution_count": 100,
   "metadata": {},
   "outputs": [
    {
     "name": "stdout",
     "output_type": "stream",
     "text": [
      "Calculating margin of error...\n"
     ]
    },
    {
     "data": {
      "text/latex": [
       "We can substitute to the formula $SE = \\sqrt{\\frac{SD_1^2}{n_1}+\\frac{SD_2^2}{n_2}}$"
      ],
      "text/plain": [
       "<IPython.core.display.Latex object>"
      ]
     },
     "metadata": {},
     "output_type": "display_data"
    },
    {
     "data": {
      "text/latex": [
       "$SE = \\sqrt{\\frac{14.3^2}{40}+\\frac{18.8^2}{40}} \\approx 3.734735599744646$"
      ],
      "text/plain": [
       "<IPython.core.display.Latex object>"
      ]
     },
     "metadata": {},
     "output_type": "display_data"
    },
    {
     "name": "stdout",
     "output_type": "stream",
     "text": [
      "Calculating za...\n",
      "Calculating alpha...\n"
     ]
    },
    {
     "data": {
      "text/latex": [
       "From the formula $\\alpha = 1-$ confidence $ \\alpha $ is $ 0.010000000000000009$"
      ],
      "text/plain": [
       "<IPython.core.display.Latex object>"
      ]
     },
     "metadata": {},
     "output_type": "display_data"
    },
    {
     "data": {
      "text/latex": [
       "From the formula $Z_{\\alpha/2} = F_X^-1(alpha/2)$, we can simply substitute $\\alpha$"
      ],
      "text/plain": [
       "<IPython.core.display.Latex object>"
      ]
     },
     "metadata": {},
     "output_type": "display_data"
    },
    {
     "data": {
      "text/latex": [
       "$Z_{\\alpha/2} = F_X^-1(0.010000000000000009/2) \\approx 2.5758293035489004$"
      ],
      "text/plain": [
       "<IPython.core.display.Latex object>"
      ]
     },
     "metadata": {},
     "output_type": "display_data"
    },
    {
     "data": {
      "text/latex": [
       "From the formula margin of error $ = Z_{\\alpha/2} \\times SE$, we simply substitute to get:"
      ],
      "text/plain": [
       "<IPython.core.display.Latex object>"
      ]
     },
     "metadata": {},
     "output_type": "display_data"
    },
    {
     "data": {
      "text/latex": [
       " margin of error $= 2.5758293035489004 \\times 3.734735599744646 \\approx 9.620041398829537$"
      ],
      "text/plain": [
       "<IPython.core.display.Latex object>"
      ]
     },
     "metadata": {},
     "output_type": "display_data"
    },
    {
     "data": {
      "text/latex": [
       "$Diff = x_1 - x_2 = 220.2 - 236.8 = -16.600000000000023$"
      ],
      "text/plain": [
       "<IPython.core.display.Latex object>"
      ]
     },
     "metadata": {},
     "output_type": "display_data"
    },
    {
     "name": "stdout",
     "output_type": "stream",
     "text": [
      "-16.600000000000023 9.620041398829537 None None\n"
     ]
    },
    {
     "data": {
      "text/latex": [
       "$Lower = Diff - MOE = -16.600000000000023 - 9.620041398829537 = -26.220041398829558$"
      ],
      "text/plain": [
       "<IPython.core.display.Latex object>"
      ]
     },
     "metadata": {},
     "output_type": "display_data"
    },
    {
     "data": {
      "text/latex": [
       "$Upper = Diff + MOE = -16.600000000000023 + 9.620041398829537 = -6.979958601170486$"
      ],
      "text/plain": [
       "<IPython.core.display.Latex object>"
      ]
     },
     "metadata": {},
     "output_type": "display_data"
    },
    {
     "name": "stdout",
     "output_type": "stream",
     "text": [
      "We are 99.0% confident that the difference in population means is within (-26.220041398829558,-6.979958601170486)\n"
     ]
    },
    {
     "data": {
      "text/plain": [
       "(-16.600000000000023,\n",
       " 9.620041398829537,\n",
       " -26.220041398829558,\n",
       " -6.979958601170486)"
      ]
     },
     "execution_count": 100,
     "metadata": {},
     "output_type": "execute_result"
    }
   ],
   "source": [
    "\n",
    "def get_standard_error_two_means(se=None,sd_1=None,sd_2=None,n_1=None,n_2=None):\n",
    "    if se is not None and [se,sd_1,sd_2,n_1,n_2].count(None)>1:\n",
    "        return se,sd_1,sd_2,n_1,n_2\n",
    "    if [se,sd_1,sd_2,n_1,n_2].count(None)!=1:\n",
    "        print(\"Please provide exactly four of the following: se, sd_1, sd_2, n_1, n_2\")\n",
    "        return se,sd_1,sd_2,n_1,n_2\n",
    "    elif se==None:\n",
    "        se_answer=math.sqrt(sd_1**2/n_1+sd_2**2/n_2)\n",
    "        print_latex(f\"We can substitute to the formula $SE = \\\\sqrt{{\\\\frac{{SD_1^2}}{{n_1}}+\\\\frac{{SD_2^2}}{{n_2}}}}$\")\n",
    "        print_latex(f\"$SE = \\\\sqrt{{\\\\frac{{{sd_1}^2}}{{{n_1}}}+\\\\frac{{{sd_2}^2}}{{{n_2}}}}} \\\\approx {se_answer}$\")\n",
    "        return se_answer,sd_1,sd_2,n_1,n_2\n",
    "    elif sd_1==None:\n",
    "        sd_1_answer=np.sqrt(se**2 * n_1 - (sd_2**2 * n_1) / n_2)\n",
    "        print_latex(f\"We can substitute to the formula $SD_1 = \\\\sqrt{{SE^2 * n_1 - \\\\frac{{SD_2^2 * n_1}}{{n_2}}}}$\")\n",
    "        print_latex(f\"$SD_1 = \\\\sqrt{{{se}^2 * {n_1} - \\\\frac{{{sd_2}^2 * {n_1}}}{{{n_2}}}}} \\\\approx {sd_1_answer}$\")\n",
    "        return se,sd_1_answer,sd_2,n_1,n_2\n",
    "\n",
    "    elif n_1==None:\n",
    "        n_1_answer=(sd_1**2) / (se**2 - (sd_2**2 / n_2))\n",
    "        print_latex(f\"We can substitute to the formula $n_1 = \\\\frac{{SD_1}}{{SE^2 - \\\\frac{{SD_2^2}}{{n_2}}}}$\")\n",
    "        print_latex(f\"$n_1 = \\\\frac{{{sd_1}^2}}{{{se}^2 - \\\\frac{{{sd_2}^2}}{{{n_2}}}}} \\\\approx {n_1_answer}$\")\n",
    "        return se,sd_1,sd_2,n_1_answer,n_2\n",
    "\n",
    "    elif sd_2==None:\n",
    "        sd_2_answer=np.sqrt(se**2 * n_2 - (sd_1**2 * n_2) / n_1)\n",
    "        print_latex(f\"We can substitute to the formula $SD_2 = \\\\sqrt{{SE^2 * n_2 - \\\\frac{{SD_1^2 * n_2}}{{n_1}}}}$\")\n",
    "        print_latex(f\"$SD_2 = \\\\sqrt{{{se}^2 * {n_2} - \\\\frac{{{sd_1}^2 * {n_2}}}{{{n_1}}}}} \\\\approx {sd_2_answer}$\")\n",
    "        return se,sd_1,sd_2_answer,n_1,n_2\n",
    "    \n",
    "    elif n_2==None:\n",
    "        n_2_answer=(sd_2**2) / (se**2 - (sd_1**2 / n_1))\n",
    "        print_latex(f\"We can substitute to the formula $n_2 = \\\\frac{{SD_2}}{{SE^2 - \\\\frac{{SD_1^2}}{{n_1}}}}$\")\n",
    "        print_latex(f\"$n_2 = \\\\frac{{{sd_2}^2}}{{{se}^2 - \\\\frac{{{sd_1}^2}}{{{n_1}}}}} \\\\approx {n_2_answer}$\")\n",
    "        return se,sd_1,sd_2,n_1,n_2_answer\n",
    "\n",
    "# print(\"Test 1: get sd_1\")\n",
    "# print(get_standard_error_two_means(se=2584.3331828539444,sd_2=13330,n_1=50,n_2=50))\n",
    "# print(\"Test 2: get sd_2\")\n",
    "# print(get_standard_error_two_means(sd_1=12500,se=2584.3331828539444,n_1=50,n_2=50))\n",
    "# print(\"Test 3: get n_1\")\n",
    "# print(get_standard_error_two_means(sd_1=12500,sd_2=13330,se=2584.3331828539444,n_2=50))\n",
    "# print(\"Test 4: get n_2\")\n",
    "# print(get_standard_error_two_means(sd_1=12500,sd_2=13330,n_1=50,se=2584.3331828539444))\n",
    "# print(\"Test 5: get se\")\n",
    "# print(get_standard_error_two_means(sd_1=12500,sd_2=13330,n_1=50,n_2=50))\n",
    "\n",
    "\n",
    "\n",
    "def get_diff(diff=None, x_1=None, x_2=None):\n",
    "    if [diff, x_1, x_2].count(None) != 1:\n",
    "        print(\"Please provide exactly two of the following: diff, x_1, x_2\")\n",
    "        return diff, x_1, x_2\n",
    "    elif diff is None:\n",
    "        diff = x_1 - x_2\n",
    "        print_latex(f\"$Diff = x_1 - x_2 = {x_1} - {x_2} = {diff}$\")\n",
    "    elif x_1 is None:\n",
    "        x_1 = diff + x_2\n",
    "        print_latex(f\"$x_1 = Diff + x_2 = {diff} + {x_2} = {x_1}$\")\n",
    "    elif x_2 is None:\n",
    "        x_2 = x_1 - diff\n",
    "        print_latex(f\"$x_2 = x_1 - Diff = {x_1} - {diff} = {x_2}$\")\n",
    "    return diff, x_1, x_2\n",
    "\n",
    "# print(\"Test 1: get diff\")\n",
    "# print(get_diff(x_1=1,x_2=2))\n",
    "# print(\"Test 2: get x_1\")\n",
    "# print(get_diff(diff=-1,x_2=2))\n",
    "# print(\"Test 3: get x_2\")\n",
    "# print(get_diff(diff=-1,x_1=1))\n",
    "\n",
    "\n",
    "def get_margin_of_error_two_means(moe_two_means=None,se=None,sd_1=None,sd_2=None,n_1=None,n_2=None, za=None,alpha=None,confidence=None):\n",
    "    print(\"Calculating margin of error...\")\n",
    "    se,sd_1,sd_2,n_1,n_2 = get_standard_error_two_means(se=se, sd_1=sd_1, sd_2=sd_2, n_1=n_1, n_2=n_2)\n",
    "    za,alpha = get_z_alpha(za=za,alpha=alpha,confidence=confidence,half=True)\n",
    "    if moe_two_means is not None and [za, se, moe_two_means].count(None) > 1:\n",
    "        return moe_two_means,za,se\n",
    "    if [za, moe_two_means, se].count(None) != 1:\n",
    "        print(\"Please provide exactly two of the following: margin of error, se, za\")\n",
    "        return moe_two_means,za,se\n",
    "    elif moe_two_means is None:\n",
    "        print_latex(\"From the formula margin of error $ = Z_{\\\\alpha/2} \\\\times SE$, we simply substitute to get:\")\n",
    "        print_latex(f\" margin of error $= {za} \\\\times {se} \\\\approx {za*se}$\")\n",
    "        return za*se,za,se\n",
    "    elif se is None:\n",
    "        print_latex(\"From the formula $MOE = Z_{\\\\alpha/2} \\\\times SE$, we can isolate se by dividing both sides by $Z_{\\\\alpha/2}$\")\n",
    "        print_latex(\"SE = $\\\\frac{MOE}{Z_{\\\\alpha/2}}$\")\n",
    "        print_latex(f\"SE = $\\\\frac{{{moe_two_means}}}{{{za}}} \\\\approx {moe_two_means/za}$\")\n",
    "        return moe_two_means,za,moe_two_means/za\n",
    "    elif za is None:\n",
    "        print_latex(\"From the formula $MOE = Z_{\\\\alpha/2} \\\\times SE$, we can isolate $Z_{\\\\alpha/2}$ by dividing both sides by $SE$\")\n",
    "        print_latex(\"$Z_{\\\\alpha/2} = \\\\frac{MOE}{SE}$\")\n",
    "        print_latex(f\"$Z_{{\\\\alpha/2}} = \\\\frac{{{moe_two_means}}}{{{se}}} \\\\approx {moe_two_means/se}$\")\n",
    "        return moe_two_means,moe_two_means/se,se\n",
    "    else:\n",
    "        return moe_two_means,moe_two_means/se,se\n",
    "\n",
    "# print(\"Test 1: get moe_two_means\")\n",
    "# print(get_margin_of_error_two_means(se=20,za=2))\n",
    "# print(\"Test 2: get se\")\n",
    "# print(get_margin_of_error_two_means(moe_two_means=40,za=2))\n",
    "# print(\"Test 3: get za\")\n",
    "# print(get_margin_of_error_two_means(se=20,moe_two_means=40))\n",
    "\n",
    "\n",
    "def get_confidence_interval_difference_means(\n",
    "    diff=None,\n",
    "        mean_1=None,\n",
    "        mean_2=None,\n",
    "    lower=None,\n",
    "    upper=None,\n",
    "    moe_two_means=None,\n",
    "        se=None,\n",
    "            sd_1=None,\n",
    "            sd_2=None,\n",
    "            n_1=None,\n",
    "            n_2=None,\n",
    "        za=None,\n",
    "            confidence=None,\n",
    "            alpha=None\n",
    "    ):\n",
    "    moe_two_means,za,se=get_margin_of_error_two_means(\n",
    "        moe_two_means=moe_two_means,\n",
    "        se=se,sd_1=sd_1,sd_2=sd_2,n_1=n_1,n_2=n_2,\n",
    "        za=za,confidence=confidence,alpha=alpha)\n",
    "    \n",
    "    diff, x_1, x_2=get_diff(diff=diff, x_1=mean_1, x_2=mean_2)\n",
    "    print(diff,moe_two_means,lower,upper)\n",
    "    if lower is None and upper is None:\n",
    "        if diff is None or moe_two_means is None:\n",
    "            print(\"Please provide both the difference of the means and the margin of error, or a complete interval.\")\n",
    "            return diff, moe_two_means, lower, upper\n",
    "        else:\n",
    "            lower = diff - moe_two_means\n",
    "            upper = diff + moe_two_means\n",
    "            print_latex(f\"$Lower = Diff - MOE = {diff} - {moe_two_means} = {lower}$\")\n",
    "            print_latex(f\"$Upper = Diff + MOE = {diff} + {moe_two_means} = {upper}$\")\n",
    "            print(f\"We are {confidence*100 if confidence else 'unknown'}% confident that the difference in population means is within ({lower},{upper})\")\n",
    "            return diff, moe_two_means, lower, upper\n",
    "    else:\n",
    "        if diff is None and moe_two_means is not None:\n",
    "            if lower is not None:\n",
    "                diff = lower + moe_two_means\n",
    "                print_latex(f\"$Diff = Lower + MOE = {lower} + {moe_two_means} = {diff}$\")\n",
    "                if upper is None:\n",
    "                    upper = lower + 2*moe_two_means\n",
    "                    print_latex(f\"upper = Lower + 2*MOE = {lower} + 2*{moe_two_means} = {upper}$\")\n",
    "            elif upper is not None:\n",
    "                diff = upper - moe_two_means\n",
    "                print_latex(f\"$Diff = Upper - MOE = {upper} - {moe_two_means} = {diff}$\")\n",
    "                if lower is None:\n",
    "                    lower = upper - 2*moe_two_means\n",
    "                    print_latex(f\"lower = Upper - 2*MOE = {upper} - 2*{moe_two_means} = {lower}$\")\n",
    "            return diff, moe_two_means, lower, upper\n",
    "        elif diff is None and moe_two_means is None:\n",
    "            if lower is not None and upper is not None:\n",
    "                diff = (lower + upper) / 2\n",
    "                moe_two_means = upper - diff\n",
    "                return diff, moe_two_means, lower, upper\n",
    "            else:\n",
    "                print(\"Please provide: the difference or the margin of error or the remaining bound.\")\n",
    "                return diff, moe_two_means, lower, upper\n",
    "        elif moe_two_means is None and diff is not None:\n",
    "            if upper is not None:\n",
    "                moe_two_means = upper - diff\n",
    "                print_latex(f\"$MOE = Upper - Diff = {upper} - {diff} = {moe_two_means}$\")\n",
    "                if lower is None:\n",
    "                    lower = diff - moe_two_means\n",
    "                    print_latex(f\"lower = Diff - MOE = {diff} - {moe_two_means} = {lower}$\")\n",
    "            elif lower is not None:\n",
    "                moe_two_means = diff - lower\n",
    "                print_latex(f\"$MOE = Diff - Lower = {diff} - {lower} = {moe_two_means}$\")\n",
    "                if upper is None:\n",
    "                    upper = diff + moe_two_means\n",
    "                    print_latex(f\"upper = Diff + MOE = {diff} + {moe_two_means} = {upper}$\")\n",
    "            return diff, moe_two_means, lower, upper\n",
    "        else:\n",
    "            print(\"Please provide: the difference or the margin of error or the remaining bound.\")\n",
    "            return diff, moe_two_means, lower, upper\n",
    "        return diff, moe_two_means, lower, upper\n",
    "        \n",
    "    \n",
    "# print(\"Test 1: lower=1, upper=3, diff=2, get MOE\")\n",
    "# print(get_confidence_interval_difference_means(lower=1, upper=3, diff=2))\n",
    "\n",
    "# print(\"Test 2: lower=1, upper=3, moe_two_means=1, get diff\")\n",
    "# print(get_confidence_interval_difference_means(lower=1, upper=3, moe_two_means=1))\n",
    "\n",
    "# print(\"Test 3: lower=1, upper=3, get diff and MOE\")\n",
    "# print(get_confidence_interval_difference_means(lower=1, upper=3))\n",
    "\n",
    "# print(\"Test 4: diff=2, moe_two_means=1, get interval\")\n",
    "# print(get_confidence_interval_difference_means(diff=2, moe_two_means=1))\n",
    "\n",
    "# print(\"Test 5: lower=1, diff=2, get MOE and upper\")\n",
    "# print(get_confidence_interval_difference_means(lower=1, diff=2))\n",
    "\n",
    "# print(\"Test 6: upper=3, diff=2, get MOE and lower\")\n",
    "# print(get_confidence_interval_difference_means(upper=3, diff=2))\n",
    "\n",
    "# print(\"Test 7: lower=1, moe_two_means=1, get diff and upper\")\n",
    "# print(get_confidence_interval_difference_means(lower=1, moe_two_means=1))\n",
    "\n",
    "# print( \"Test 8: upper=3, moe_two_means=1, get diff and lower\")\n",
    "# print(get_confidence_interval_difference_means(upper=3, moe_two_means=1))\n",
    "\n",
    "# print( \"Test 9: diff=2, get error message\")\n",
    "# print(get_confidence_interval_difference_means(diff=2))\n",
    "\n",
    "# print( \"Test 10: moe_two_means=1, get error message\")\n",
    "# print(get_confidence_interval_difference_means(moe_two_means=1))\n",
    "\n",
    "# print( \"Test 11: lower=1, get error message\")\n",
    "# print(get_confidence_interval_difference_means(lower=1))\n",
    "\n",
    "# print( \"Test 12: upper=3, get error message\")\n",
    "# print(get_confidence_interval_difference_means(upper=3))\n",
    "\n",
    "# print( \"Test 13: lower=1, upper=3, diff=2, moe_two_means=1, no calculation needed\")\n",
    "# print(get_confidence_interval_difference_means(lower=1, upper=3, diff=2, moe_two_means=1))\n",
    "\n",
    "get_confidence_interval_difference_means(mean_1=220.2,sd_1=14.3,n_1=40,mean_2=236.8,sd_2=18.8,n_2=40,confidence=0.99)\n",
    "        \n"
   ]
  }
 ],
 "metadata": {
  "kernelspec": {
   "display_name": "Python 3",
   "language": "python",
   "name": "python3"
  },
  "language_info": {
   "codemirror_mode": {
    "name": "ipython",
    "version": 3
   },
   "file_extension": ".py",
   "mimetype": "text/x-python",
   "name": "python",
   "nbconvert_exporter": "python",
   "pygments_lexer": "ipython3",
   "version": "3.11.3"
  },
  "orig_nbformat": 4
 },
 "nbformat": 4,
 "nbformat_minor": 2
}
