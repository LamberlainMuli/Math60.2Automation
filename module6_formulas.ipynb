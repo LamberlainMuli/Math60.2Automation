{
 "cells": [
  {
   "cell_type": "code",
   "execution_count": 11,
   "metadata": {},
   "outputs": [
    {
     "name": "stdout",
     "output_type": "stream",
     "text": [
      "Example 1\n"
     ]
    },
    {
     "data": {
      "text/latex": [
       "$P(Z\\ge {z}) = 1 - P(Z\\le {z}) = 1-norm.cdf(1.15) = 0.12507193563715036$"
      ],
      "text/plain": [
       "<IPython.core.display.Latex object>"
      ]
     },
     "metadata": {},
     "output_type": "display_data"
    },
    {
     "name": "stdout",
     "output_type": "stream",
     "text": [
      "the test statistic is 1.1500 and the p-value is 0.1251.\n",
      "Since, 0.12507193563715036 > 0.05, we fail to reject the null hypothesis that .\n",
      "For z = 1.15 and alternative = 'right', p-value = 0.1251 and we fail to reject the null hypothesis.\n"
     ]
    },
    {
     "data": {
      "text/latex": [
       "$P(Z\\le -{z})+ P(Z\\ge {z}) = 2*(1-norm.cdf(|2.78|)) = 0.005435889845402553$"
      ],
      "text/plain": [
       "<IPython.core.display.Latex object>"
      ]
     },
     "metadata": {},
     "output_type": "display_data"
    },
    {
     "name": "stdout",
     "output_type": "stream",
     "text": [
      "the test statistic is 2.7800 and the p-value is 0.0054.\n",
      "Since, 0.005435889845402553 < 0.05, we reject the null hypothesis that .\n",
      "For z = 2.78 and alternative = 'two-sided', p-value = 0.0054 and we reject the null hypothesis.\n"
     ]
    },
    {
     "data": {
      "text/latex": [
       "$P(Z\\le {z}) = norm.cdf(-1.81) = 0.03514789358403879$"
      ],
      "text/plain": [
       "<IPython.core.display.Latex object>"
      ]
     },
     "metadata": {},
     "output_type": "display_data"
    },
    {
     "name": "stdout",
     "output_type": "stream",
     "text": [
      "the test statistic is -1.8100 and the p-value is 0.0351.\n",
      "Since, 0.03514789358403879 < 0.05, we reject the null hypothesis that .\n",
      "For z = -1.81 and alternative = 'left', p-value = 0.0351 and we reject the null hypothesis.\n",
      "\n",
      "Example 2\n"
     ]
    },
    {
     "data": {
      "text/latex": [
       "Given the formula for the standard error of the mean: $SE=\\frac{\\sigma}{\\sqrt{n}}$. We substitute the values as follows:"
      ],
      "text/plain": [
       "<IPython.core.display.Latex object>"
      ]
     },
     "metadata": {},
     "output_type": "display_data"
    },
    {
     "data": {
      "text/latex": [
       "$SE=\\frac{0.4}{\\sqrt{30}} \\approx 0.07302967433402215$ "
      ],
      "text/plain": [
       "<IPython.core.display.Latex object>"
      ]
     },
     "metadata": {},
     "output_type": "display_data"
    },
    {
     "name": "stdout",
     "output_type": "stream",
     "text": [
      "Given the formula for test statistic:\n"
     ]
    },
    {
     "data": {
      "text/latex": [
       "$z = \\frac{\\bar{x} - \\mu}{SE}$"
      ],
      "text/plain": [
       "<IPython.core.display.Latex object>"
      ]
     },
     "metadata": {},
     "output_type": "display_data"
    },
    {
     "name": "stdout",
     "output_type": "stream",
     "text": [
      "We can calculate the test statistic as:\n"
     ]
    },
    {
     "data": {
      "text/latex": [
       "$z = \\frac{6.10 - 6.00}{0.07302967433402215} = 1.3693063937629104$"
      ],
      "text/plain": [
       "<IPython.core.display.Latex object>"
      ]
     },
     "metadata": {},
     "output_type": "display_data"
    },
    {
     "data": {
      "text/latex": [
       "$P(Z\\le -{z})+ P(Z\\ge {z}) = 2*(1-norm.cdf(|1.3693063937629104|)) = 0.1709035202307989$"
      ],
      "text/plain": [
       "<IPython.core.display.Latex object>"
      ]
     },
     "metadata": {},
     "output_type": "display_data"
    },
    {
     "name": "stdout",
     "output_type": "stream",
     "text": [
      "the test statistic is 1.3693 and the p-value is 0.1709.\n",
      "Since, 0.1709035202307989 > 0.1, we fail to reject the null hypothesis that it will take an average of 6 days for us to complete the assignment.\n",
      "\n",
      "Example 3\n"
     ]
    },
    {
     "data": {
      "text/latex": [
       "Given the formula for the standard error of the mean: $SE=\\frac{\\sigma}{\\sqrt{n}}$. We substitute the values as follows:"
      ],
      "text/plain": [
       "<IPython.core.display.Latex object>"
      ]
     },
     "metadata": {},
     "output_type": "display_data"
    },
    {
     "data": {
      "text/latex": [
       "$SE=\\frac{0.6}{\\sqrt{50}} \\approx 0.0848528137423857$ "
      ],
      "text/plain": [
       "<IPython.core.display.Latex object>"
      ]
     },
     "metadata": {},
     "output_type": "display_data"
    },
    {
     "name": "stdout",
     "output_type": "stream",
     "text": [
      "Given the formula for test statistic:\n"
     ]
    },
    {
     "data": {
      "text/latex": [
       "$z = \\frac{\\bar{x} - \\mu}{SE}$"
      ],
      "text/plain": [
       "<IPython.core.display.Latex object>"
      ]
     },
     "metadata": {},
     "output_type": "display_data"
    },
    {
     "name": "stdout",
     "output_type": "stream",
     "text": [
      "We can calculate the test statistic as:\n"
     ]
    },
    {
     "data": {
      "text/latex": [
       "$z = \\frac{36.70 - 37.00}{0.0848528137423857} = -3.5355339059327044$"
      ],
      "text/plain": [
       "<IPython.core.display.Latex object>"
      ]
     },
     "metadata": {},
     "output_type": "display_data"
    },
    {
     "data": {
      "text/latex": [
       "$P(Z\\le {z}) = norm.cdf(-3.5355339059327044) = 0.00020347600872250467$"
      ],
      "text/plain": [
       "<IPython.core.display.Latex object>"
      ]
     },
     "metadata": {},
     "output_type": "display_data"
    },
    {
     "name": "stdout",
     "output_type": "stream",
     "text": [
      "the test statistic is -3.5355 and the p-value is 0.0002.\n",
      "Since, 0.00020347600872250467 < 0.05, we reject the null hypothesis that those who are 30 years old have an average body temperature that is lower than the commonly accepted average human temperature of 37 degrees Celsius.\n"
     ]
    },
    {
     "data": {
      "text/plain": [
       "(0.00020347600872250467, 'reject the null hypothesis')"
      ]
     },
     "execution_count": 11,
     "metadata": {},
     "output_type": "execute_result"
    }
   ],
   "source": [
    "from scipy.stats import norm\n",
    "from module4 import *\n",
    "from module5 import *\n",
    "\n",
    "def test_hypothesis(z, alternative, alpha,null=\"\"):\n",
    "    if alternative == 'left':\n",
    "        # Left-tailed test\n",
    "        print_latex(f\"$P(Z\\\\le {{z}}) = norm.cdf({z}) = {norm.cdf(z)}$\")\n",
    "        p_value = norm.cdf(z)\n",
    "    elif alternative == 'right':\n",
    "        # Right-tailed test\n",
    "        print_latex(f\"$P(Z\\\\ge {{z}}) = 1 - P(Z\\\\le {{z}}) = 1-norm.cdf({z}) = {1 - norm.cdf(z)}$\")\n",
    "        p_value = 1 - norm.cdf(z)\n",
    "    elif alternative == 'two-sided':\n",
    "        # Two-tailed test\n",
    "        print_latex(f\"$P(Z\\\\le -{{z}})+ P(Z\\\\ge {{z}}) = 2*(1-norm.cdf(|{z}|)) = {2*(1 - norm.cdf(abs(z)))}$\")\n",
    "        p_value = 2*(1 - norm.cdf(abs(z)))\n",
    "    else:\n",
    "        return \"Invalid alternative hypothesis. It should be 'less', 'greater' or 'two-sided'\"\n",
    "    print(f\"the test statistic is {z:.4f} and the p-value is {p_value:.4f}.\")\n",
    "    if p_value < alpha:\n",
    "        decision = \"reject the null hypothesis\"\n",
    "        print(f\"Since, {p_value} < {alpha}, we reject the null hypothesis that {null}.\")\n",
    "    elif p_value == alpha:\n",
    "        decision = \"reject the null hypothesis\"\n",
    "        print(f\"Since, {p_value} = {alpha}, we reject the null hypothesis that {null}.\")\n",
    "    else:\n",
    "        decision = \"fail to reject the null hypothesis\"\n",
    "        print(f\"Since, {p_value} > {alpha}, we fail to reject the null hypothesis that {null}.\")\n",
    "\n",
    "    return p_value, decision\n",
    "\n",
    "def get_test_statistic(x, u, se):\n",
    "    print(\"Given the formula for test statistic:\")\n",
    "    print_latex(\"$z = \\\\frac{\\\\bar{x} - \\\\mu}{SE}$\")\n",
    "    print(\"We can calculate the test statistic as:\")\n",
    "    print_latex(f\"$z = \\\\frac{{{x:.2f} - {u:.2f}}}{{{se}}} = {(x-u)/(se)}$\")\n",
    "    return (x - u) / se\n",
    "\n",
    "print(\"Example 1\")\n",
    "z_values = [1.15, 2.78, -1.81]\n",
    "alternatives = ['right', 'two-sided', 'left']\n",
    "\n",
    "for z, alternative in zip(z_values, alternatives):\n",
    "    p_value, decision = test_hypothesis(z, alternative, alpha=0.05)\n",
    "    print(f\"For z = {z} and alternative = '{alternative}', p-value = {p_value:.4f} and we {decision}.\")\n",
    "\n",
    "\n",
    "print(\"\\nExample 2\")\n",
    "\n",
    "test_hypothesis(get_test_statistic(x=6.1, u=6, se=get_standard_error_mean(n=30,sd=0.4)), 'two-sided', alpha=0.10,null=\"it will take an average of 6 days for us to complete the assignment\")\n",
    "\n",
    "\n",
    "print(\"\\nExample 3\")\n",
    "z = (36.7 - 37) / (0.6 / (50 ** 0.5))\n",
    "\n",
    "test_hypothesis(get_test_statistic(x=36.7, u=37, se=get_standard_error_mean(n=50,sd=0.6)), 'left', alpha=0.05,null=\"those who are 30 years old have an average body temperature that is lower than the commonly accepted average human temperature of 37 degrees Celsius\")\n"
   ]
  },
  {
   "cell_type": "code",
   "execution_count": 12,
   "metadata": {},
   "outputs": [
    {
     "data": {
      "text/latex": [
       "$H_0: \\mu_1 - \\mu_2 = 0$"
      ],
      "text/plain": [
       "<IPython.core.display.Latex object>"
      ]
     },
     "metadata": {},
     "output_type": "display_data"
    },
    {
     "data": {
      "text/latex": [
       "$H_A: \\mu_1 - \\mu_2 \\neq 0$"
      ],
      "text/plain": [
       "<IPython.core.display.Latex object>"
      ]
     },
     "metadata": {},
     "output_type": "display_data"
    },
    {
     "data": {
      "text/latex": [
       "We can substitute to the formula $SE = \\sqrt{\\frac{SD_1^2}{n_1}+\\frac{SD_2^2}{n_2}}$"
      ],
      "text/plain": [
       "<IPython.core.display.Latex object>"
      ]
     },
     "metadata": {},
     "output_type": "display_data"
    },
    {
     "data": {
      "text/latex": [
       "$SE = \\sqrt{\\frac{0.6^2}{100}+\\frac{0.7^2}{100}} \\approx 0.09219544457292887$"
      ],
      "text/plain": [
       "<IPython.core.display.Latex object>"
      ]
     },
     "metadata": {},
     "output_type": "display_data"
    },
    {
     "name": "stdout",
     "output_type": "stream",
     "text": [
      "Given the formula for test statistic:\n"
     ]
    },
    {
     "data": {
      "text/latex": [
       "$z = \\frac{\\bar{x} - \\mu}{SE}$"
      ],
      "text/plain": [
       "<IPython.core.display.Latex object>"
      ]
     },
     "metadata": {},
     "output_type": "display_data"
    },
    {
     "name": "stdout",
     "output_type": "stream",
     "text": [
      "We can calculate the test statistic as:\n"
     ]
    },
    {
     "data": {
      "text/latex": [
       "$z = \\frac{0.16 - 0.00}{0.09219544457292887} = 1.7354436625492509$"
      ],
      "text/plain": [
       "<IPython.core.display.Latex object>"
      ]
     },
     "metadata": {},
     "output_type": "display_data"
    },
    {
     "data": {
      "text/latex": [
       "$P(Z\\le -{z})+ P(Z\\ge {z}) = 2*(1-norm.cdf(|1.7354436625492509|)) = 0.08266225205671818$"
      ],
      "text/plain": [
       "<IPython.core.display.Latex object>"
      ]
     },
     "metadata": {},
     "output_type": "display_data"
    },
    {
     "name": "stdout",
     "output_type": "stream",
     "text": [
      "the test statistic is 1.7354 and the p-value is 0.0827.\n",
      "Since, 0.08266225205671818 > 0.05, we fail to reject the null hypothesis that there is no difference between means.\n"
     ]
    },
    {
     "data": {
      "text/plain": [
       "(0.08266225205671818, 'fail to reject the null hypothesis')"
      ]
     },
     "execution_count": 12,
     "metadata": {},
     "output_type": "execute_result"
    }
   ],
   "source": [
    "x1,s1,n1=2.7,0.6,100\n",
    "x2,s2,n2=2.54,0.7,100\n",
    "def print_hypothesis(about=\"\",u=0,alternative=\"\\\\neq\"):\n",
    "    if about==\"mean\":\n",
    "        print_latex(f\"$H_0: \\\\mu = {u}$\")\n",
    "        print_latex(f\"$H_A: \\\\mu {alternative} {u}$\")\n",
    "    elif about==\"two means\":\n",
    "        print_latex(f\"$H_0: \\\\mu_1 - \\\\mu_2 = {u}$\")\n",
    "        print_latex(f\"$H_A: \\\\mu_1 - \\\\mu_2 {alternative} {u}$\")\n",
    "    elif about==\"proportion\":\n",
    "        print_latex(f\"$H_0: p = {u}$\")\n",
    "        print_latex(f\"$H_A: p {alternative} {u}$\")\n",
    "    elif about==\"two proportions\":\n",
    "        print_latex(f\"$H_0: p_1 - p_2 = {u}$\")\n",
    "        print_latex(f\"$H_A: p_1 - p_2 {alternative} {u}$\")\n",
    "    else:\n",
    "        print(\"Invalid hypothesis\")\n",
    "\n",
    "\n",
    "print_hypothesis(about=\"two means\",u=0,alternative=\"\\\\neq\")\n",
    "\n",
    "\n",
    "test_hypothesis(get_test_statistic(x=x1-x2,u=0,se=get_standard_error_two_means(sd_1=s1,sd_2=s2,n_1=n1,n_2=n2)[0]), alternative='two-sided', alpha=0.05,null=\"there is no difference between means\")\n",
    "\n"
   ]
  },
  {
   "cell_type": "code",
   "execution_count": 13,
   "metadata": {},
   "outputs": [
    {
     "data": {
      "text/latex": [
       "$H_0: p = 0.2$"
      ],
      "text/plain": [
       "<IPython.core.display.Latex object>"
      ]
     },
     "metadata": {},
     "output_type": "display_data"
    },
    {
     "data": {
      "text/latex": [
       "$H_A: p < 0.2$"
      ],
      "text/plain": [
       "<IPython.core.display.Latex object>"
      ]
     },
     "metadata": {},
     "output_type": "display_data"
    },
    {
     "data": {
      "text/latex": [
       "Given the formula for the standard error of the p: $SE=\\sqrt{\\frac{ p(1-p) }{ n } }$. We substitute the values as follows:"
      ],
      "text/plain": [
       "<IPython.core.display.Latex object>"
      ]
     },
     "metadata": {},
     "output_type": "display_data"
    },
    {
     "data": {
      "text/latex": [
       "$SE=\\sqrt{\\frac{ 0.2(1-0.2) }{ 100 } } \\approx 0.04$ "
      ],
      "text/plain": [
       "<IPython.core.display.Latex object>"
      ]
     },
     "metadata": {},
     "output_type": "display_data"
    },
    {
     "name": "stdout",
     "output_type": "stream",
     "text": [
      "Given the formula for test statistic:\n"
     ]
    },
    {
     "data": {
      "text/latex": [
       "$z = \\frac{\\bar{x} - \\mu}{SE}$"
      ],
      "text/plain": [
       "<IPython.core.display.Latex object>"
      ]
     },
     "metadata": {},
     "output_type": "display_data"
    },
    {
     "name": "stdout",
     "output_type": "stream",
     "text": [
      "We can calculate the test statistic as:\n"
     ]
    },
    {
     "data": {
      "text/latex": [
       "$z = \\frac{0.15 - 0.20}{0.04} = -1.2500000000000004$"
      ],
      "text/plain": [
       "<IPython.core.display.Latex object>"
      ]
     },
     "metadata": {},
     "output_type": "display_data"
    },
    {
     "data": {
      "text/latex": [
       "$P(Z\\le {z}) = norm.cdf(-1.2500000000000004) = 0.10564977366685518$"
      ],
      "text/plain": [
       "<IPython.core.display.Latex object>"
      ]
     },
     "metadata": {},
     "output_type": "display_data"
    },
    {
     "name": "stdout",
     "output_type": "stream",
     "text": [
      "the test statistic is -1.2500 and the p-value is 0.1056.\n",
      "Since, 0.10564977366685518 > 0.1, we fail to reject the null hypothesis that  20% of adults over 40yrs old participate in fitness activities at least twice a week.\n"
     ]
    },
    {
     "data": {
      "text/plain": [
       "(0.10564977366685518, 'fail to reject the null hypothesis')"
      ]
     },
     "execution_count": 13,
     "metadata": {},
     "output_type": "execute_result"
    }
   ],
   "source": [
    "p=0.2\n",
    "n=100\n",
    "phat=15/100\n",
    "print_hypothesis(about=\"proportion\",alternative=\"<\",u=p)\n",
    "test_hypothesis(get_test_statistic(x=phat,u=p,se=get_standard_error_proportion(p=p,n=n)),alternative=\"left\",alpha=0.10,null=\" 20% of adults over 40yrs old participate in fitness activities at least twice a week\")\n"
   ]
  },
  {
   "cell_type": "code",
   "execution_count": 14,
   "metadata": {},
   "outputs": [
    {
     "data": {
      "text/latex": [
       "$H_0: p_1 - p_2 = 0$"
      ],
      "text/plain": [
       "<IPython.core.display.Latex object>"
      ]
     },
     "metadata": {},
     "output_type": "display_data"
    },
    {
     "data": {
      "text/latex": [
       "$H_A: p_1 - p_2 > 0$"
      ],
      "text/plain": [
       "<IPython.core.display.Latex object>"
      ]
     },
     "metadata": {},
     "output_type": "display_data"
    },
    {
     "name": "stdout",
     "output_type": "stream",
     "text": [
      "Given the formula for standard error of difference in proportions:\n"
     ]
    },
    {
     "data": {
      "text/latex": [
       "$SE = \\sqrt{\\frac{p_1(1-p_1)}{n_1} + \\frac{p_2(1-p_2)}{n_2}}$"
      ],
      "text/plain": [
       "<IPython.core.display.Latex object>"
      ]
     },
     "metadata": {},
     "output_type": "display_data"
    },
    {
     "name": "stdout",
     "output_type": "stream",
     "text": [
      "It can be shown that the standard error of difference in proportions under the null hypothesis is:\n"
     ]
    },
    {
     "data": {
      "text/latex": [
       "$SE = \\sqrt{p(1-p) \\left( \\frac{1}{n_1} + \\frac{1}{n_2} \\right)}$"
      ],
      "text/plain": [
       "<IPython.core.display.Latex object>"
      ]
     },
     "metadata": {},
     "output_type": "display_data"
    },
    {
     "name": "stdout",
     "output_type": "stream",
     "text": [
      "where p is the pooled proportion:\n"
     ]
    },
    {
     "data": {
      "text/latex": [
       "$p = \\frac{p_1n_1 + p_2n_2}{n_1 + n_2}$"
      ],
      "text/plain": [
       "<IPython.core.display.Latex object>"
      ]
     },
     "metadata": {},
     "output_type": "display_data"
    },
    {
     "data": {
      "text/latex": [
       "$p = \\frac{0.052 \\times 1000 + 0.023 \\times 1000}{1000 + 1000} = 0.0375$"
      ],
      "text/plain": [
       "<IPython.core.display.Latex object>"
      ]
     },
     "metadata": {},
     "output_type": "display_data"
    },
    {
     "data": {
      "text/latex": [
       "$SE = \\sqrt{0.0375 \\times (1 - 0.0375) \\left( \\frac{1}{1000} + \\frac{1}{1000} \\right)} = 0.0085$"
      ],
      "text/plain": [
       "<IPython.core.display.Latex object>"
      ]
     },
     "metadata": {},
     "output_type": "display_data"
    },
    {
     "name": "stdout",
     "output_type": "stream",
     "text": [
      "Given the formula for test statistic:\n"
     ]
    },
    {
     "data": {
      "text/latex": [
       "$z = \\frac{\\bar{x} - \\mu}{SE}$"
      ],
      "text/plain": [
       "<IPython.core.display.Latex object>"
      ]
     },
     "metadata": {},
     "output_type": "display_data"
    },
    {
     "name": "stdout",
     "output_type": "stream",
     "text": [
      "We can calculate the test statistic as:\n"
     ]
    },
    {
     "data": {
      "text/latex": [
       "$z = \\frac{0.03 - 0.00}{0.008496322733983213} = 3.413241340751698$"
      ],
      "text/plain": [
       "<IPython.core.display.Latex object>"
      ]
     },
     "metadata": {},
     "output_type": "display_data"
    },
    {
     "data": {
      "text/latex": [
       "$P(Z\\ge {z}) = 1 - P(Z\\le {z}) = 1-norm.cdf(3.413241340751698) = 0.00032097532545860563$"
      ],
      "text/plain": [
       "<IPython.core.display.Latex object>"
      ]
     },
     "metadata": {},
     "output_type": "display_data"
    },
    {
     "name": "stdout",
     "output_type": "stream",
     "text": [
      "the test statistic is 3.4132 and the p-value is 0.0003.\n",
      "Since, 0.00032097532545860563 < 0.05, we reject the null hypothesis that the are no difference in the proportion of men and women who were admitted to the hospital due to heart disease.\n"
     ]
    },
    {
     "data": {
      "text/plain": [
       "(0.00032097532545860563, 'reject the null hypothesis')"
      ]
     },
     "execution_count": 14,
     "metadata": {},
     "output_type": "execute_result"
    }
   ],
   "source": [
    "def get_standard_error_two_proportions(p_1=None, p_2=None, p=None, n_1=None, n_2=None,hypothesis=True):\n",
    "    print(\"Given the formula for standard error of difference in proportions:\")\n",
    "    print_latex(\"$SE = \\\\sqrt{\\\\frac{p_1(1-p_1)}{n_1} + \\\\frac{p_2(1-p_2)}{n_2}}$\")\n",
    "    if hypothesis:\n",
    "        print(\"It can be shown that the standard error of difference in proportions under the null hypothesis is:\")\n",
    "        print_latex(\"$SE = \\\\sqrt{p(1-p) \\\\left( \\\\frac{1}{n_1} + \\\\frac{1}{n_2} \\\\right)}$\")\n",
    "        print(\"where p is the pooled proportion:\")\n",
    "        print_latex(\"$p = \\\\frac{p_1n_1 + p_2n_2}{n_1 + n_2}$\")\n",
    "        if p==None:\n",
    "            p = (p_1 * n_1 + p_2 * n_2) / (n_1 + n_2)\n",
    "            print_latex(f\"$p = \\\\frac{{{p_1} \\\\times {n_1} + {p_2} \\\\times {n_2}}}{{{n_1} + {n_2}}} = {p:.4f}$\")\n",
    "        else:\n",
    "            print_latex(f\"$p = {p:.4f}$\")\n",
    "        se = (p * (1 - p) * (1 / n_1 + 1 / n_2)) ** 0.5\n",
    "        print_latex(f\"$SE = \\\\sqrt{{{p} \\\\times (1 - {p}) \\\\left( \\\\frac{{1}}{{{n_1}}} + \\\\frac{{1}}{{{n_2}}} \\\\right)}} = {se:.4f}$\")\n",
    "        return se\n",
    "    else:\n",
    "        p = None\n",
    "        se = (p_1 * (1 - p_1) / n_1 + p_2 * (1 - p_2) / n_2) ** 0.5\n",
    "        print(\"Solving for SE we get:\")\n",
    "        print_latex(f\"$SE = \\\\sqrt{{\\\\frac{{{p_1} \\\\times (1 - {p_1})}}{{{n_1}}} + \\\\frac{{{p_2} \\\\times (1 - {p_2})}}{{{n_2}}}}} = {se:.4f}$\")\n",
    "        return se\n",
    "\n",
    "p1,n1=52/1000,1000\n",
    "p2,n2=23/1000,1000\n",
    "print_hypothesis(about=\"two proportions\",u=0,alternative=\">\")\n",
    "test_hypothesis(z=get_test_statistic(x=p1-p2,u=0,se=get_standard_error_two_proportions(p_1=p1,p_2=p2,n_1=n1,n_2=n2,hypothesis=True)),alpha=0.05,alternative=\"right\",null=\"the are no difference in the proportion of men and women who were admitted to the hospital due to heart disease\")\n"
   ]
  },
  {
   "cell_type": "code",
   "execution_count": 15,
   "metadata": {},
   "outputs": [
    {
     "data": {
      "text/latex": [
       "$H_0: \\mu = 300$"
      ],
      "text/plain": [
       "<IPython.core.display.Latex object>"
      ]
     },
     "metadata": {},
     "output_type": "display_data"
    },
    {
     "data": {
      "text/latex": [
       "$H_A: \\mu \\neq 300$"
      ],
      "text/plain": [
       "<IPython.core.display.Latex object>"
      ]
     },
     "metadata": {},
     "output_type": "display_data"
    },
    {
     "data": {
      "text/latex": [
       "Given the formula for the standard error of the mean: $SE=\\frac{\\sigma}{\\sqrt{n}}$. We substitute the values as follows:"
      ],
      "text/plain": [
       "<IPython.core.display.Latex object>"
      ]
     },
     "metadata": {},
     "output_type": "display_data"
    },
    {
     "data": {
      "text/latex": [
       "$SE=\\frac{20}{\\sqrt{50}} \\approx 2.82842712474619$ "
      ],
      "text/plain": [
       "<IPython.core.display.Latex object>"
      ]
     },
     "metadata": {},
     "output_type": "display_data"
    },
    {
     "name": "stdout",
     "output_type": "stream",
     "text": [
      "Given the formula for test statistic:\n"
     ]
    },
    {
     "data": {
      "text/latex": [
       "$z = \\frac{\\bar{x} - \\mu}{SE}$"
      ],
      "text/plain": [
       "<IPython.core.display.Latex object>"
      ]
     },
     "metadata": {},
     "output_type": "display_data"
    },
    {
     "name": "stdout",
     "output_type": "stream",
     "text": [
      "We can calculate the test statistic as:\n"
     ]
    },
    {
     "data": {
      "text/latex": [
       "$z = \\frac{292.00 - 300.00}{2.82842712474619} = -2.8284271247461903$"
      ],
      "text/plain": [
       "<IPython.core.display.Latex object>"
      ]
     },
     "metadata": {},
     "output_type": "display_data"
    },
    {
     "data": {
      "text/latex": [
       "$P(Z\\le -{z})+ P(Z\\ge {z}) = 2*(1-norm.cdf(|-2.8284271247461903|)) = 0.004677734981047177$"
      ],
      "text/plain": [
       "<IPython.core.display.Latex object>"
      ]
     },
     "metadata": {},
     "output_type": "display_data"
    },
    {
     "name": "stdout",
     "output_type": "stream",
     "text": [
      "the test statistic is -2.8284 and the p-value is 0.0047.\n",
      "Since, 0.004677734981047177 < 0.05, we reject the null hypothesis that the mean run time is 300 minutes.\n"
     ]
    },
    {
     "data": {
      "text/plain": [
       "(0.004677734981047177, 'reject the null hypothesis')"
      ]
     },
     "execution_count": 15,
     "metadata": {},
     "output_type": "execute_result"
    }
   ],
   "source": [
    "u,x1,n1,sd=300,292,50,20\n",
    "print_hypothesis(about=\"mean\",u=u,alternative=\"\\\\neq\")\n",
    "test_hypothesis(z=get_test_statistic(x=x1,u=u,se=get_standard_error_mean(n=n1,sd=sd)),alpha=0.05,alternative=\"two-sided\",null=\"the mean run time is 300 minutes\")"
   ]
  },
  {
   "cell_type": "code",
   "execution_count": 16,
   "metadata": {},
   "outputs": [
    {
     "data": {
      "text/latex": [
       "$H_0: \\mu_1 - \\mu_2 = 0$"
      ],
      "text/plain": [
       "<IPython.core.display.Latex object>"
      ]
     },
     "metadata": {},
     "output_type": "display_data"
    },
    {
     "data": {
      "text/latex": [
       "$H_A: \\mu_1 - \\mu_2 \\neq 0$"
      ],
      "text/plain": [
       "<IPython.core.display.Latex object>"
      ]
     },
     "metadata": {},
     "output_type": "display_data"
    },
    {
     "data": {
      "text/latex": [
       "We can substitute to the formula $SE = \\sqrt{\\frac{SD_1^2}{n_1}+\\frac{SD_2^2}{n_2}}$"
      ],
      "text/plain": [
       "<IPython.core.display.Latex object>"
      ]
     },
     "metadata": {},
     "output_type": "display_data"
    },
    {
     "data": {
      "text/latex": [
       "$SE = \\sqrt{\\frac{10^2}{30}+\\frac{15^2}{25}} \\approx 3.5118845842842465$"
      ],
      "text/plain": [
       "<IPython.core.display.Latex object>"
      ]
     },
     "metadata": {},
     "output_type": "display_data"
    },
    {
     "name": "stdout",
     "output_type": "stream",
     "text": [
      "Given the formula for test statistic:\n"
     ]
    },
    {
     "data": {
      "text/latex": [
       "$z = \\frac{\\bar{x} - \\mu}{SE}$"
      ],
      "text/plain": [
       "<IPython.core.display.Latex object>"
      ]
     },
     "metadata": {},
     "output_type": "display_data"
    },
    {
     "name": "stdout",
     "output_type": "stream",
     "text": [
      "We can calculate the test statistic as:\n"
     ]
    },
    {
     "data": {
      "text/latex": [
       "$z = \\frac{-7.00 - 0.00}{3.5118845842842465} = -1.9932317910802477$"
      ],
      "text/plain": [
       "<IPython.core.display.Latex object>"
      ]
     },
     "metadata": {},
     "output_type": "display_data"
    },
    {
     "data": {
      "text/latex": [
       "$P(Z\\le -{z})+ P(Z\\ge {z}) = 2*(1-norm.cdf(|-1.9932317910802477|)) = 0.0462360714437442$"
      ],
      "text/plain": [
       "<IPython.core.display.Latex object>"
      ]
     },
     "metadata": {},
     "output_type": "display_data"
    },
    {
     "name": "stdout",
     "output_type": "stream",
     "text": [
      "the test statistic is -1.9932 and the p-value is 0.0462.\n",
      "Since, 0.0462360714437442 < 0.1, we reject the null hypothesis that there is no difference in the mean scores of the two groups.\n"
     ]
    },
    {
     "data": {
      "text/plain": [
       "(0.0462360714437442, 'reject the null hypothesis')"
      ]
     },
     "execution_count": 16,
     "metadata": {},
     "output_type": "execute_result"
    }
   ],
   "source": [
    "n1,n2=30,25\n",
    "x1,sd1=78,10\n",
    "x2,sd2=85,15\n",
    "alpha=0.1\n",
    "print_hypothesis(about=\"two means\",u=0,alternative=\"\\\\neq\")\n",
    "test_hypothesis(z=get_test_statistic(x=x1-x2,u=0,se=get_standard_error_two_means(sd_1=sd1,sd_2=sd2,n_1=n1,n_2=n2)[0]),alpha=alpha,alternative=\"two-sided\",null=\"there is no difference in the mean scores of the two groups\")"
   ]
  },
  {
   "cell_type": "code",
   "execution_count": 19,
   "metadata": {},
   "outputs": [
    {
     "data": {
      "text/latex": [
       "$H_0: \\mu = 33$"
      ],
      "text/plain": [
       "<IPython.core.display.Latex object>"
      ]
     },
     "metadata": {},
     "output_type": "display_data"
    },
    {
     "data": {
      "text/latex": [
       "$H_A: \\mu > 33$"
      ],
      "text/plain": [
       "<IPython.core.display.Latex object>"
      ]
     },
     "metadata": {},
     "output_type": "display_data"
    },
    {
     "data": {
      "text/latex": [
       "Given the formula for the standard error of the mean: $SE=\\frac{\\sigma}{\\sqrt{n}}$. We substitute the values as follows:"
      ],
      "text/plain": [
       "<IPython.core.display.Latex object>"
      ]
     },
     "metadata": {},
     "output_type": "display_data"
    },
    {
     "data": {
      "text/latex": [
       "$SE=\\frac{5.9}{\\sqrt{120}} \\approx 0.5385938482134134$ "
      ],
      "text/plain": [
       "<IPython.core.display.Latex object>"
      ]
     },
     "metadata": {},
     "output_type": "display_data"
    },
    {
     "name": "stdout",
     "output_type": "stream",
     "text": [
      "Given the formula for test statistic:\n"
     ]
    },
    {
     "data": {
      "text/latex": [
       "$z = \\frac{\\bar{x} - \\mu}{SE}$"
      ],
      "text/plain": [
       "<IPython.core.display.Latex object>"
      ]
     },
     "metadata": {},
     "output_type": "display_data"
    },
    {
     "name": "stdout",
     "output_type": "stream",
     "text": [
      "We can calculate the test statistic as:\n"
     ]
    },
    {
     "data": {
      "text/latex": [
       "$z = \\frac{34.10 - 33.00}{0.5385938482134134} = 2.0423552991718084$"
      ],
      "text/plain": [
       "<IPython.core.display.Latex object>"
      ]
     },
     "metadata": {},
     "output_type": "display_data"
    },
    {
     "data": {
      "text/latex": [
       "$P(Z\\ge {z}) = 1 - P(Z\\le {z}) = 1-norm.cdf(2.0423552991718084) = 0.02055815020592089$"
      ],
      "text/plain": [
       "<IPython.core.display.Latex object>"
      ]
     },
     "metadata": {},
     "output_type": "display_data"
    },
    {
     "name": "stdout",
     "output_type": "stream",
     "text": [
      "the test statistic is 2.0424 and the p-value is 0.0206.\n",
      "Since, 0.02055815020592089 > 0.01, we fail to reject the null hypothesis that the mean lead concentration in Section A is not higher than 33ppm.\n"
     ]
    },
    {
     "data": {
      "text/plain": [
       "(0.02055815020592089, 'fail to reject the null hypothesis')"
      ]
     },
     "execution_count": 19,
     "metadata": {},
     "output_type": "execute_result"
    }
   ],
   "source": [
    "x1,x2=34.1,36\n",
    "sd1,sd2=5.9,6\n",
    "n1,n2=120,120\n",
    "u_a=33\n",
    "alpha=0.01\n",
    "\n",
    "print_hypothesis(about=\"mean\",alternative=\">\",u=u_a)\n",
    "test_hypothesis(z=get_test_statistic(x=x1,u=u_a,se=get_standard_error_mean(n=n1,sd=sd1)),alternative=\"right\",alpha=alpha,null=\"the mean lead concentration in Section A is not higher than 33ppm\")\n",
    "\n"
   ]
  },
  {
   "cell_type": "code",
   "execution_count": 23,
   "metadata": {},
   "outputs": [
    {
     "data": {
      "text/latex": [
       "$H_0: \\mu_1 - \\mu_2 = 5$"
      ],
      "text/plain": [
       "<IPython.core.display.Latex object>"
      ]
     },
     "metadata": {},
     "output_type": "display_data"
    },
    {
     "data": {
      "text/latex": [
       "$H_A: \\mu_1 - \\mu_2 > 5$"
      ],
      "text/plain": [
       "<IPython.core.display.Latex object>"
      ]
     },
     "metadata": {},
     "output_type": "display_data"
    },
    {
     "data": {
      "text/latex": [
       "We can substitute to the formula $SE = \\sqrt{\\frac{SD_1^2}{n_1}+\\frac{SD_2^2}{n_2}}$"
      ],
      "text/plain": [
       "<IPython.core.display.Latex object>"
      ]
     },
     "metadata": {},
     "output_type": "display_data"
    },
    {
     "data": {
      "text/latex": [
       "$SE = \\sqrt{\\frac{5.9^2}{120}+\\frac{6^2}{120}} \\approx 0.7681688182511272$"
      ],
      "text/plain": [
       "<IPython.core.display.Latex object>"
      ]
     },
     "metadata": {},
     "output_type": "display_data"
    },
    {
     "name": "stdout",
     "output_type": "stream",
     "text": [
      "Given the formula for test statistic:\n"
     ]
    },
    {
     "data": {
      "text/latex": [
       "$z = \\frac{\\bar{x} - \\mu}{SE}$"
      ],
      "text/plain": [
       "<IPython.core.display.Latex object>"
      ]
     },
     "metadata": {},
     "output_type": "display_data"
    },
    {
     "name": "stdout",
     "output_type": "stream",
     "text": [
      "We can calculate the test statistic as:\n"
     ]
    },
    {
     "data": {
      "text/latex": [
       "$z = \\frac{1.90 - 5.00}{0.7681688182511272} = -4.03557125249851$"
      ],
      "text/plain": [
       "<IPython.core.display.Latex object>"
      ]
     },
     "metadata": {},
     "output_type": "display_data"
    },
    {
     "data": {
      "text/latex": [
       "$P(Z\\ge {z}) = 1 - P(Z\\le {z}) = 1-norm.cdf(-4.03557125249851) = 0.9999727651971948$"
      ],
      "text/plain": [
       "<IPython.core.display.Latex object>"
      ]
     },
     "metadata": {},
     "output_type": "display_data"
    },
    {
     "name": "stdout",
     "output_type": "stream",
     "text": [
      "the test statistic is -4.0356 and the p-value is 1.0000.\n",
      "Since, 0.9999727651971948 > 0.05, we fail to reject the null hypothesis that the difference between the mean lead concentration between the two sections is more than 5ppm.\n"
     ]
    },
    {
     "data": {
      "text/plain": [
       "(0.9999727651971948, 'fail to reject the null hypothesis')"
      ]
     },
     "execution_count": 23,
     "metadata": {},
     "output_type": "execute_result"
    }
   ],
   "source": [
    "alpha=0.05\n",
    "print_hypothesis(about=\"two means\",alternative=\">\",u=5)\n",
    "test_hypothesis(z=get_test_statistic(x=abs(x1-x2),u=5,se=get_standard_error_two_means(sd_1=sd1,sd_2=sd2,n_1=n1,n_2=n2)[0]),alternative=\"right\",alpha=alpha,null=\"the difference between the mean lead concentration between the two sections is more than 5ppm\")\n"
   ]
  },
  {
   "cell_type": "code",
   "execution_count": 25,
   "metadata": {},
   "outputs": [
    {
     "data": {
      "text/latex": [
       "$H_0: p = 0.8$"
      ],
      "text/plain": [
       "<IPython.core.display.Latex object>"
      ]
     },
     "metadata": {},
     "output_type": "display_data"
    },
    {
     "data": {
      "text/latex": [
       "$H_A: p < 0.8$"
      ],
      "text/plain": [
       "<IPython.core.display.Latex object>"
      ]
     },
     "metadata": {},
     "output_type": "display_data"
    },
    {
     "data": {
      "text/latex": [
       "Given the formula for the standard error of the p: $SE=\\sqrt{\\frac{ p(1-p) }{ n } }$. We substitute the values as follows:"
      ],
      "text/plain": [
       "<IPython.core.display.Latex object>"
      ]
     },
     "metadata": {},
     "output_type": "display_data"
    },
    {
     "data": {
      "text/latex": [
       "$SE=\\sqrt{\\frac{ 0.8(1-0.8) }{ 50 } } \\approx 0.0565685424949238$ "
      ],
      "text/plain": [
       "<IPython.core.display.Latex object>"
      ]
     },
     "metadata": {},
     "output_type": "display_data"
    },
    {
     "name": "stdout",
     "output_type": "stream",
     "text": [
      "Given the formula for test statistic:\n"
     ]
    },
    {
     "data": {
      "text/latex": [
       "$z = \\frac{\\bar{x} - \\mu}{SE}$"
      ],
      "text/plain": [
       "<IPython.core.display.Latex object>"
      ]
     },
     "metadata": {},
     "output_type": "display_data"
    },
    {
     "name": "stdout",
     "output_type": "stream",
     "text": [
      "We can calculate the test statistic as:\n"
     ]
    },
    {
     "data": {
      "text/latex": [
       "$z = \\frac{0.74 - 0.80}{0.0565685424949238} = -1.0606601717798223$"
      ],
      "text/plain": [
       "<IPython.core.display.Latex object>"
      ]
     },
     "metadata": {},
     "output_type": "display_data"
    },
    {
     "data": {
      "text/latex": [
       "$P(Z\\le {z}) = norm.cdf(-1.0606601717798223) = 0.14442218317324224$"
      ],
      "text/plain": [
       "<IPython.core.display.Latex object>"
      ]
     },
     "metadata": {},
     "output_type": "display_data"
    },
    {
     "name": "stdout",
     "output_type": "stream",
     "text": [
      "the test statistic is -1.0607 and the p-value is 0.1444.\n",
      "Since, 0.14442218317324224 > 0.05, we fail to reject the null hypothesis that drug-dose level will induce sleep for at least 80% of people suffering from insomnia.\n"
     ]
    },
    {
     "data": {
      "text/plain": [
       "(0.14442218317324224, 'fail to reject the null hypothesis')"
      ]
     },
     "execution_count": 25,
     "metadata": {},
     "output_type": "execute_result"
    }
   ],
   "source": [
    "p=0.8\n",
    "n=50\n",
    "phat=37/50\n",
    "alpha=0.05\n",
    "print_hypothesis(about=\"proportion\",alternative=\"<\",u=p)\n",
    "test_hypothesis(z=get_test_statistic(x=phat,u=p,se=get_standard_error_proportion(p=p,n=n)),alternative=\"left\",alpha=alpha,null=\"drug-dose level will induce sleep for at least 80% of people suffering from insomnia\")\n",
    "\n"
   ]
  },
  {
   "cell_type": "code",
   "execution_count": 26,
   "metadata": {},
   "outputs": [
    {
     "data": {
      "text/latex": [
       "$H_0: p_1 - p_2 = 0$"
      ],
      "text/plain": [
       "<IPython.core.display.Latex object>"
      ]
     },
     "metadata": {},
     "output_type": "display_data"
    },
    {
     "data": {
      "text/latex": [
       "$H_A: p_1 - p_2 \\neq 0$"
      ],
      "text/plain": [
       "<IPython.core.display.Latex object>"
      ]
     },
     "metadata": {},
     "output_type": "display_data"
    },
    {
     "name": "stdout",
     "output_type": "stream",
     "text": [
      "Given the formula for standard error of difference in proportions:\n"
     ]
    },
    {
     "data": {
      "text/latex": [
       "$SE = \\sqrt{\\frac{p_1(1-p_1)}{n_1} + \\frac{p_2(1-p_2)}{n_2}}$"
      ],
      "text/plain": [
       "<IPython.core.display.Latex object>"
      ]
     },
     "metadata": {},
     "output_type": "display_data"
    },
    {
     "name": "stdout",
     "output_type": "stream",
     "text": [
      "It can be shown that the standard error of difference in proportions under the null hypothesis is:\n"
     ]
    },
    {
     "data": {
      "text/latex": [
       "$SE = \\sqrt{p(1-p) \\left( \\frac{1}{n_1} + \\frac{1}{n_2} \\right)}$"
      ],
      "text/plain": [
       "<IPython.core.display.Latex object>"
      ]
     },
     "metadata": {},
     "output_type": "display_data"
    },
    {
     "name": "stdout",
     "output_type": "stream",
     "text": [
      "where p is the pooled proportion:\n"
     ]
    },
    {
     "data": {
      "text/latex": [
       "$p = \\frac{p_1n_1 + p_2n_2}{n_1 + n_2}$"
      ],
      "text/plain": [
       "<IPython.core.display.Latex object>"
      ]
     },
     "metadata": {},
     "output_type": "display_data"
    },
    {
     "data": {
      "text/latex": [
       "$p = \\frac{0.08 \\times 200 + 0.04 \\times 200}{200 + 200} = 0.0600$"
      ],
      "text/plain": [
       "<IPython.core.display.Latex object>"
      ]
     },
     "metadata": {},
     "output_type": "display_data"
    },
    {
     "data": {
      "text/latex": [
       "$SE = \\sqrt{0.06 \\times (1 - 0.06) \\left( \\frac{1}{200} + \\frac{1}{200} \\right)} = 0.0237$"
      ],
      "text/plain": [
       "<IPython.core.display.Latex object>"
      ]
     },
     "metadata": {},
     "output_type": "display_data"
    },
    {
     "name": "stdout",
     "output_type": "stream",
     "text": [
      "Given the formula for test statistic:\n"
     ]
    },
    {
     "data": {
      "text/latex": [
       "$z = \\frac{\\bar{x} - \\mu}{SE}$"
      ],
      "text/plain": [
       "<IPython.core.display.Latex object>"
      ]
     },
     "metadata": {},
     "output_type": "display_data"
    },
    {
     "name": "stdout",
     "output_type": "stream",
     "text": [
      "We can calculate the test statistic as:\n"
     ]
    },
    {
     "data": {
      "text/latex": [
       "$z = \\frac{0.04 - 0.00}{0.023748684174075833} = 1.684303842133038$"
      ],
      "text/plain": [
       "<IPython.core.display.Latex object>"
      ]
     },
     "metadata": {},
     "output_type": "display_data"
    },
    {
     "data": {
      "text/latex": [
       "$P(Z\\le -{z})+ P(Z\\ge {z}) = 2*(1-norm.cdf(|1.684303842133038|)) = 0.0921229632576519$"
      ],
      "text/plain": [
       "<IPython.core.display.Latex object>"
      ]
     },
     "metadata": {},
     "output_type": "display_data"
    },
    {
     "name": "stdout",
     "output_type": "stream",
     "text": [
      "the test statistic is 1.6843 and the p-value is 0.0921.\n",
      "Since, 0.0921229632576519 > 0.05, we fail to reject the null hypothesis that there is no difference in the performance of the machine types.\n"
     ]
    },
    {
     "data": {
      "text/plain": [
       "(0.0921229632576519, 'fail to reject the null hypothesis')"
      ]
     },
     "execution_count": 26,
     "metadata": {},
     "output_type": "execute_result"
    }
   ],
   "source": [
    "n1,n2=200,200\n",
    "p1,p2=16/200,8/200\n",
    "alpha=0.05\n",
    "print_hypothesis(about=\"two proportions\",alternative=\"\\\\neq\",u=0)\n",
    "test_hypothesis(z=get_test_statistic(x=p1-p2,u=0,se=get_standard_error_two_proportions(p_1=p1,p_2=p2,n_1=n1,n_2=n2,hypothesis=True)),alternative=\"two-sided\",alpha=alpha,null=\"there is no difference in the performance of the machine types\")"
   ]
  }
 ],
 "metadata": {
  "kernelspec": {
   "display_name": "Python 3",
   "language": "python",
   "name": "python3"
  },
  "language_info": {
   "codemirror_mode": {
    "name": "ipython",
    "version": 3
   },
   "file_extension": ".py",
   "mimetype": "text/x-python",
   "name": "python",
   "nbconvert_exporter": "python",
   "pygments_lexer": "ipython3",
   "version": "3.11.3"
  },
  "orig_nbformat": 4
 },
 "nbformat": 4,
 "nbformat_minor": 2
}
