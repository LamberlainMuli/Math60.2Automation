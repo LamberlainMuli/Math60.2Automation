{
 "cells": [
  {
   "attachments": {},
   "cell_type": "markdown",
   "metadata": {},
   "source": [
    "1. stratified random sampling\n",
    "\n",
    "2. systematic sampling"
   ]
  },
  {
   "cell_type": "code",
   "execution_count": 1,
   "metadata": {},
   "outputs": [
    {
     "name": "stdout",
     "output_type": "stream",
     "text": [
      "3.\n",
      "a. simple random sampling\n",
      "b.\n"
     ]
    },
    {
     "data": {
      "text/latex": [
       "the sample size $n$ must be larger, with $n$ at least $30$ before the sampling distribution of $\\bar{X}$ becomes approximately normal."
      ],
      "text/plain": [
       "<IPython.core.display.Latex object>"
      ]
     },
     "metadata": {},
     "output_type": "display_data"
    },
    {
     "data": {
      "text/latex": [
       "In this case since $n \\ge 30$, the sampling distribution of $\\bar{X}$ becomes approximately normal."
      ],
      "text/plain": [
       "<IPython.core.display.Latex object>"
      ]
     },
     "metadata": {},
     "output_type": "display_data"
    },
    {
     "data": {
      "text/latex": [
       "Given the formula for the standard error of the mean: $SE=\\frac{\\sigma}{\\sqrt{n}}$. We substitute the values as follows:"
      ],
      "text/plain": [
       "<IPython.core.display.Latex object>"
      ]
     },
     "metadata": {},
     "output_type": "display_data"
    },
    {
     "data": {
      "text/latex": [
       "$SE=\\frac{820}{\\sqrt{60}} \\approx 105.86154479633606$ "
      ],
      "text/plain": [
       "<IPython.core.display.Latex object>"
      ]
     },
     "metadata": {},
     "output_type": "display_data"
    },
    {
     "name": "stdout",
     "output_type": "stream",
     "text": [
      "c.\n"
     ]
    },
    {
     "data": {
      "text/latex": [
       "$P(\\bar X \\ge {1100}) = 1-P(\\bar X \\le {1100})$"
      ],
      "text/plain": [
       "<IPython.core.display.Latex object>"
      ]
     },
     "metadata": {},
     "output_type": "display_data"
    },
    {
     "data": {
      "text/latex": [
       "$P(\\bar X \\ge {1100}) = 1- $ norm.cdf($1100$,$1000$,$\\frac{820}{\\sqrt{60}} \\approx 105.86154479633606$) "
      ],
      "text/plain": [
       "<IPython.core.display.Latex object>"
      ]
     },
     "metadata": {},
     "output_type": "display_data"
    },
    {
     "data": {
      "text/latex": [
       "$P(\\bar X \\ge {1100}) = 0.17242388120340046$"
      ],
      "text/plain": [
       "<IPython.core.display.Latex object>"
      ]
     },
     "metadata": {},
     "output_type": "display_data"
    },
    {
     "name": "stdout",
     "output_type": "stream",
     "text": [
      "The probability that the sample mean is greater than 1100 is 0.17242388120340046\n"
     ]
    },
    {
     "data": {
      "text/plain": [
       "0.17242388120340046"
      ]
     },
     "execution_count": 1,
     "metadata": {},
     "output_type": "execute_result"
    }
   ],
   "source": [
    "from module4 import *\n",
    "print(\"3.\")\n",
    "print(\"a. simple random sampling\")\n",
    "print(\"b.\")\n",
    "test_clt_mean(sample_size=60)\n",
    "standard_error_mean(sd=820,n=60)\n",
    "print(\"c.\")\n",
    "probability_mean(mean=1000,sd=820,n=60,lower=1100)"
   ]
  },
  {
   "cell_type": "code",
   "execution_count": 2,
   "metadata": {},
   "outputs": [
    {
     "name": "stdout",
     "output_type": "stream",
     "text": [
      "4.\n"
     ]
    },
    {
     "data": {
      "text/latex": [
       "Since the sampled population is normally distributed, the sampling distribution of $\\bar{X}$ will also be normal, no matter what sample size you choose"
      ],
      "text/plain": [
       "<IPython.core.display.Latex object>"
      ]
     },
     "metadata": {},
     "output_type": "display_data"
    },
    {
     "data": {
      "text/latex": [
       "$P(\\bar X \\ge {20250}) = 1-P(\\bar X \\le {20250})$"
      ],
      "text/plain": [
       "<IPython.core.display.Latex object>"
      ]
     },
     "metadata": {},
     "output_type": "display_data"
    },
    {
     "data": {
      "text/latex": [
       "$P(\\bar X \\ge {20250}) = 1- $ norm.cdf($20250$,$20000$,$\\frac{2500}{\\sqrt{64}} \\approx 312.5$) "
      ],
      "text/plain": [
       "<IPython.core.display.Latex object>"
      ]
     },
     "metadata": {},
     "output_type": "display_data"
    },
    {
     "data": {
      "text/latex": [
       "$P(\\bar X \\ge {20250}) = 0.21185539858339664$"
      ],
      "text/plain": [
       "<IPython.core.display.Latex object>"
      ]
     },
     "metadata": {},
     "output_type": "display_data"
    },
    {
     "name": "stdout",
     "output_type": "stream",
     "text": [
      "The probability that the sample mean is greater than 20250 is 0.21185539858339664\n"
     ]
    },
    {
     "data": {
      "text/latex": [
       "$P(\\bar X \\le {18500}) = $ norm.cdf($18500$,$20000$,$\\frac{2500}{\\sqrt{64}} \\approx 312.5$) "
      ],
      "text/plain": [
       "<IPython.core.display.Latex object>"
      ]
     },
     "metadata": {},
     "output_type": "display_data"
    },
    {
     "data": {
      "text/latex": [
       "$P(\\bar X \\le {18500}) = 7.93328151975595e-07$"
      ],
      "text/plain": [
       "<IPython.core.display.Latex object>"
      ]
     },
     "metadata": {},
     "output_type": "display_data"
    },
    {
     "name": "stdout",
     "output_type": "stream",
     "text": [
      "The probability that the sample mean is less than 18500 is 7.93328151975595e-07\n",
      "0.2118561919115486\n"
     ]
    }
   ],
   "source": [
    "print(\"4.\")\n",
    "mean=20000\n",
    "sd=2500\n",
    "n=64\n",
    "test_clt_mean(sample_size=64)\n",
    "print(probability_mean(mean=mean,sd=sd,n=n,lower=20250)+probability_mean(mean=mean,sd=sd,n=n,upper=18500))\n",
    "\n"
   ]
  },
  {
   "cell_type": "code",
   "execution_count": 3,
   "metadata": {},
   "outputs": [
    {
     "name": "stdout",
     "output_type": "stream",
     "text": [
      "5.\n"
     ]
    },
    {
     "data": {
      "text/latex": [
       "the sample size $n$ must be larger, with $n$ at least $30$ before the sampling distribution of $\\bar{X}$ becomes approximately normal."
      ],
      "text/plain": [
       "<IPython.core.display.Latex object>"
      ]
     },
     "metadata": {},
     "output_type": "display_data"
    },
    {
     "data": {
      "text/latex": [
       "In this case since $n \\ge 30$, the sampling distribution of $\\bar{X}$ becomes approximately normal."
      ],
      "text/plain": [
       "<IPython.core.display.Latex object>"
      ]
     },
     "metadata": {},
     "output_type": "display_data"
    },
    {
     "data": {
      "text/latex": [
       "$P(\\bar X \\ge {8.333333333333334}) = 1-P(\\bar X \\le {8.333333333333334})$"
      ],
      "text/plain": [
       "<IPython.core.display.Latex object>"
      ]
     },
     "metadata": {},
     "output_type": "display_data"
    },
    {
     "data": {
      "text/latex": [
       "$P(\\bar X \\ge {8.333333333333334}) = 1- $ norm.cdf($8.333333333333334$,$8.5$,$\\frac{2.5}{\\sqrt{30}} \\approx 0.45643546458763845$) "
      ],
      "text/plain": [
       "<IPython.core.display.Latex object>"
      ]
     },
     "metadata": {},
     "output_type": "display_data"
    },
    {
     "data": {
      "text/latex": [
       "$P(\\bar X \\ge {8.333333333333334}) = 0.6424996726559549$"
      ],
      "text/plain": [
       "<IPython.core.display.Latex object>"
      ]
     },
     "metadata": {},
     "output_type": "display_data"
    },
    {
     "name": "stdout",
     "output_type": "stream",
     "text": [
      "The probability that the sample mean is greater than 8.333333333333334 is 0.6424996726559549\n"
     ]
    },
    {
     "data": {
      "text/plain": [
       "0.6424996726559549"
      ]
     },
     "execution_count": 3,
     "metadata": {},
     "output_type": "execute_result"
    }
   ],
   "source": [
    "print(\"5.\")\n",
    "mean5=8.5\n",
    "sd5=2.5\n",
    "n5=30\n",
    "test_clt_mean(sample_size=30)\n",
    "probability_mean(mean=mean5,sd=sd5,n=n5,lower=250/n5)"
   ]
  },
  {
   "cell_type": "code",
   "execution_count": 4,
   "metadata": {},
   "outputs": [
    {
     "name": "stdout",
     "output_type": "stream",
     "text": [
      "6.\n"
     ]
    },
    {
     "data": {
      "text/latex": [
       "the sample size $n$ must be larger, with $n$ at least $30$ before the sampling distribution of $\\bar{X}$ becomes approximately normal."
      ],
      "text/plain": [
       "<IPython.core.display.Latex object>"
      ]
     },
     "metadata": {},
     "output_type": "display_data"
    },
    {
     "data": {
      "text/latex": [
       "In this case since $n < 30$, the sampling distribution of $\\bar{X}$ does not become approximately normal."
      ],
      "text/plain": [
       "<IPython.core.display.Latex object>"
      ]
     },
     "metadata": {},
     "output_type": "display_data"
    },
    {
     "data": {
      "text/latex": [
       "$P(\\bar X \\le {458.3333333333333}) = $ norm.cdf($458.3333333333333$,$450$,$\\frac{22}{\\sqrt{24}} \\approx 4.4907311951024935$) "
      ],
      "text/plain": [
       "<IPython.core.display.Latex object>"
      ]
     },
     "metadata": {},
     "output_type": "display_data"
    },
    {
     "data": {
      "text/latex": [
       "$P(\\bar X \\le {458.3333333333333}) = 0.968249983934984$"
      ],
      "text/plain": [
       "<IPython.core.display.Latex object>"
      ]
     },
     "metadata": {},
     "output_type": "display_data"
    },
    {
     "name": "stdout",
     "output_type": "stream",
     "text": [
      "The probability that the sample mean is less than 458.3333333333333 is 0.968249983934984\n"
     ]
    },
    {
     "data": {
      "text/plain": [
       "0.968249983934984"
      ]
     },
     "execution_count": 4,
     "metadata": {},
     "output_type": "execute_result"
    }
   ],
   "source": [
    "print(\"6.\")\n",
    "mean6=450\n",
    "sd6=22\n",
    "n6=24\n",
    "test_clt_mean(sample_size=24)\n",
    "probability_mean(mean=mean6,sd=sd6,n=n6,upper=11000/24)"
   ]
  },
  {
   "cell_type": "code",
   "execution_count": 5,
   "metadata": {},
   "outputs": [
    {
     "name": "stdout",
     "output_type": "stream",
     "text": [
      "7.\n"
     ]
    },
    {
     "data": {
      "text/latex": [
       "$P(\\bar X \\ge {70}) = 0.01$"
      ],
      "text/plain": [
       "<IPython.core.display.Latex object>"
      ]
     },
     "metadata": {},
     "output_type": "display_data"
    },
    {
     "data": {
      "text/latex": [
       "$P(\\bar X \\le {70}) = 1-0.01$"
      ],
      "text/plain": [
       "<IPython.core.display.Latex object>"
      ]
     },
     "metadata": {},
     "output_type": "display_data"
    },
    {
     "data": {
      "text/latex": [
       "$P(\\frac{\\bar X - \\mu}{\\sigma} \\le \\frac{{70}-\\mu}{\\sigma})  = 1 - 0.01$"
      ],
      "text/plain": [
       "<IPython.core.display.Latex object>"
      ]
     },
     "metadata": {},
     "output_type": "display_data"
    },
    {
     "data": {
      "text/latex": [
       "Let $Z=\\frac{\\bar X - \\mu}{\\sigma}$, then $Z\\approx N(0,1)$. Substituting Z, we get"
      ],
      "text/plain": [
       "<IPython.core.display.Latex object>"
      ]
     },
     "metadata": {},
     "output_type": "display_data"
    },
    {
     "data": {
      "text/latex": [
       "$P(Z \\le \\frac{{70}-\\mu}{\\sigma})  = 1 - 0.01$"
      ],
      "text/plain": [
       "<IPython.core.display.Latex object>"
      ]
     },
     "metadata": {},
     "output_type": "display_data"
    },
    {
     "name": "stdout",
     "output_type": "stream",
     "text": [
      "Taking the inverse of the cumulative distribution function, we get:\n"
     ]
    },
    {
     "data": {
      "text/latex": [
       "$\\frac{{70}-\\mu}{\\sigma} = $ norm.ppf($1 - 0.01$)"
      ],
      "text/plain": [
       "<IPython.core.display.Latex object>"
      ]
     },
     "metadata": {},
     "output_type": "display_data"
    },
    {
     "name": "stdout",
     "output_type": "stream",
     "text": [
      "Solving for the standard deviation (se), we get:\n"
     ]
    },
    {
     "data": {
      "text/latex": [
       "$\\frac{sd}{\\sqrt{n}}=\\frac{{70}-{67}}{norm.ppf(1-0.01)} \\approx 1.2895749743519798$"
      ],
      "text/plain": [
       "<IPython.core.display.Latex object>"
      ]
     },
     "metadata": {},
     "output_type": "display_data"
    },
    {
     "name": "stdout",
     "output_type": "stream",
     "text": [
      "Solving for the sample size, we get:\n"
     ]
    },
    {
     "data": {
      "text/latex": [
       "n = $[\\frac{{16}*norm.ppf(1-0.01)}{({70}-{67})}]^2 \\approx 153.93833048332345$"
      ],
      "text/plain": [
       "<IPython.core.display.Latex object>"
      ]
     },
     "metadata": {},
     "output_type": "display_data"
    },
    {
     "name": "stdout",
     "output_type": "stream",
     "text": [
      "The sample size is 153.93833048332345\n"
     ]
    },
    {
     "data": {
      "text/plain": [
       "153.93833048332345"
      ]
     },
     "execution_count": 5,
     "metadata": {},
     "output_type": "execute_result"
    }
   ],
   "source": [
    "print(\"7.\")\n",
    "mean7=67\n",
    "sd7=16\n",
    "lower=70\n",
    "probability_mean(mean=mean7,sd=sd7,lower=lower,probability=0.01)"
   ]
  },
  {
   "cell_type": "code",
   "execution_count": 6,
   "metadata": {},
   "outputs": [
    {
     "name": "stdout",
     "output_type": "stream",
     "text": [
      "8.\n",
      "a.\n"
     ]
    },
    {
     "data": {
      "text/latex": [
       "$P(\\hat p \\le 0.49) = $ norm.cdf($ 0.49 $ ,loc=$0.72$,scale=$\\sqrt{ \\frac{ 0.72 \\cdot (1-0.72)} {50} } \\approx 0.06349803146555018$)"
      ],
      "text/plain": [
       "<IPython.core.display.Latex object>"
      ]
     },
     "metadata": {},
     "output_type": "display_data"
    },
    {
     "data": {
      "text/latex": [
       "$P(\\hat p \\le 0.49) = 0.0001460769232165913$"
      ],
      "text/plain": [
       "<IPython.core.display.Latex object>"
      ]
     },
     "metadata": {},
     "output_type": "display_data"
    },
    {
     "name": "stdout",
     "output_type": "stream",
     "text": [
      "The probability that the sample proportion is less than 0.49 is 0.0001460769232165913\n",
      "b.\n"
     ]
    },
    {
     "data": {
      "text/latex": [
       "$P(\\hat p \\ge 0.125) = 1 - P(\\hat p \\le 0.125)$"
      ],
      "text/plain": [
       "<IPython.core.display.Latex object>"
      ]
     },
     "metadata": {},
     "output_type": "display_data"
    },
    {
     "data": {
      "text/latex": [
       "$P(\\hat p \\ge 0.125) = 1 - $ norm.cdf($ 0.125 $ ,loc=$0.16$,scale=$\\sqrt{ \\frac{ 0.16 \\cdot (1-0.16)} {80} } \\approx 0.04098780306383839$)"
      ],
      "text/plain": [
       "<IPython.core.display.Latex object>"
      ]
     },
     "metadata": {},
     "output_type": "display_data"
    },
    {
     "data": {
      "text/latex": [
       "$P(\\hat p \\ge 0.125) = 0.8034232811629985$"
      ],
      "text/plain": [
       "<IPython.core.display.Latex object>"
      ]
     },
     "metadata": {},
     "output_type": "display_data"
    },
    {
     "name": "stdout",
     "output_type": "stream",
     "text": [
      "The probability that the sample proportion is greater than 0.125 is 0.8034232811629985\n",
      "c.\n"
     ]
    },
    {
     "data": {
      "text/latex": [
       "$P(\\hat p \\geq 0.1) = 0.95$"
      ],
      "text/plain": [
       "<IPython.core.display.Latex object>"
      ]
     },
     "metadata": {},
     "output_type": "display_data"
    },
    {
     "data": {
      "text/latex": [
       "$P(\\hat p \\leq 0.1) = 1 - 0.95$"
      ],
      "text/plain": [
       "<IPython.core.display.Latex object>"
      ]
     },
     "metadata": {},
     "output_type": "display_data"
    },
    {
     "data": {
      "text/latex": [
       "$P( \\frac{{\\hat p} - p}{\\sqrt{p*(1-p)/n}} \\leq \\frac{{lower} - p}{\\sqrt{p*(1-p)/n}}) = 1 - 0.95$"
      ],
      "text/plain": [
       "<IPython.core.display.Latex object>"
      ]
     },
     "metadata": {},
     "output_type": "display_data"
    },
    {
     "data": {
      "text/latex": [
       "Let $Z = \\frac{{\\hat p} - p}{\\sqrt{p*(1-p)/n}}$, then $Z \\sim N(0, 1)$"
      ],
      "text/plain": [
       "<IPython.core.display.Latex object>"
      ]
     },
     "metadata": {},
     "output_type": "display_data"
    },
    {
     "data": {
      "text/latex": [
       "$P(Z \\leq \\frac{{lower} - p}{\\sqrt{p*(1-p)/n}}) = 1 - 0.95$"
      ],
      "text/plain": [
       "<IPython.core.display.Latex object>"
      ]
     },
     "metadata": {},
     "output_type": "display_data"
    },
    {
     "data": {
      "text/latex": [
       "Taking inverse of the cumulative distribution function, we get:"
      ],
      "text/plain": [
       "<IPython.core.display.Latex object>"
      ]
     },
     "metadata": {},
     "output_type": "display_data"
    },
    {
     "data": {
      "text/latex": [
       "$\\frac{{lower} - p}{\\sqrt{p*(1-p)/n}} = $ norm.ppf($1 - 0.95$)"
      ],
      "text/plain": [
       "<IPython.core.display.Latex object>"
      ]
     },
     "metadata": {},
     "output_type": "display_data"
    },
    {
     "name": "stdout",
     "output_type": "stream",
     "text": [
      "Solving for n, we get:\n"
     ]
    },
    {
     "data": {
      "text/latex": [
       "$n = \\frac{(norm.ppf(1-0.95))^2(p)(1-p)}{(0.1-p)^2} \\approx 714.2634718811897$"
      ],
      "text/plain": [
       "<IPython.core.display.Latex object>"
      ]
     },
     "metadata": {},
     "output_type": "display_data"
    },
    {
     "name": "stdout",
     "output_type": "stream",
     "text": [
      "The sample size is 714\n"
     ]
    },
    {
     "data": {
      "text/plain": [
       "714.2634718811896"
      ]
     },
     "execution_count": 6,
     "metadata": {},
     "output_type": "execute_result"
    }
   ],
   "source": [
    "print(\"8.\")\n",
    "p8_rare=0.12\n",
    "p8_normal=0.72\n",
    "p8_nothing=0.16\n",
    "print(\"a.\")\n",
    "probability_proportion(proportion=p8_normal,n=50,upper=0.49)\n",
    "print(\"b.\")\n",
    "probability_proportion(proportion=p8_nothing,n=80,lower=10/80)\n",
    "print(\"c.\")\n",
    "probability_proportion(proportion=p8_rare,probability=0.95,lower=0.1)"
   ]
  },
  {
   "cell_type": "code",
   "execution_count": 7,
   "metadata": {},
   "outputs": [
    {
     "name": "stdout",
     "output_type": "stream",
     "text": [
      "9.\n",
      "a.\n"
     ]
    },
    {
     "data": {
      "text/latex": [
       "$P(\\hat p \\ge 0.85) = 1 - P(\\hat p \\le 0.85)$"
      ],
      "text/plain": [
       "<IPython.core.display.Latex object>"
      ]
     },
     "metadata": {},
     "output_type": "display_data"
    },
    {
     "data": {
      "text/latex": [
       "$P(\\hat p \\ge 0.85) = 1 - $ norm.cdf($ 0.85 $ ,loc=$0.83$,scale=$\\sqrt{ \\frac{ 0.83 \\cdot (1-0.83)} {360} } \\approx 0.0197975868338655$)"
      ],
      "text/plain": [
       "<IPython.core.display.Latex object>"
      ]
     },
     "metadata": {},
     "output_type": "display_data"
    },
    {
     "data": {
      "text/latex": [
       "$P(\\hat p \\ge 0.85) = 0.15619395972852068$"
      ],
      "text/plain": [
       "<IPython.core.display.Latex object>"
      ]
     },
     "metadata": {},
     "output_type": "display_data"
    },
    {
     "name": "stdout",
     "output_type": "stream",
     "text": [
      "The probability that the sample proportion is greater than 0.85 is 0.15619395972852068\n",
      "0.17399274257883446\n"
     ]
    }
   ],
   "source": [
    "print(\"9.\")\n",
    "p9=0.83\n",
    "print(\"a.\")\n",
    "probability_proportion(proportion=p9,n=360,lower=0.85)\n",
    "\n",
    "from scipy.stats import binom\n",
    "\n",
    "print(1-binom.cdf(305,360,0.83))"
   ]
  }
 ],
 "metadata": {
  "kernelspec": {
   "display_name": "Python 3",
   "language": "python",
   "name": "python3"
  },
  "language_info": {
   "codemirror_mode": {
    "name": "ipython",
    "version": 3
   },
   "file_extension": ".py",
   "mimetype": "text/x-python",
   "name": "python",
   "nbconvert_exporter": "python",
   "pygments_lexer": "ipython3",
   "version": "3.11.3"
  },
  "orig_nbformat": 4
 },
 "nbformat": 4,
 "nbformat_minor": 2
}
