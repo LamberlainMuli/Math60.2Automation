{
 "cells": [
  {
   "cell_type": "code",
   "execution_count": 1,
   "metadata": {},
   "outputs": [
    {
     "name": "stdout",
     "output_type": "stream",
     "text": [
      "F=2.3362, p=0.1044\n",
      "Since, 0.1044 > 0.05, we fail to reject the null hypothesis that all means are equal.\n",
      "Participants in the A group had a mean of 69.83 and a standard deviation of 4.45.\n",
      "Participants in the B group had a mean of 67.33 and a standard deviation of 4.80.\n",
      "Participants in the C group had a mean of 71.00 and a standard deviation of 0.63.\n",
      "Participants in the D group had a mean of 72.33 and a standard deviation of 1.75.\n",
      "\n",
      "Since we have failed to reject the null hypothesis in the ANOVA test, there's no need to perform the LSD test.\n"
     ]
    }
   ],
   "source": [
    "from module4 import *\n",
    "from module5 import *\n",
    "from module6 import *\n",
    "from module7 import *\n",
    "\n",
    "levels={}\n",
    "levels['A']=[76,74,69,69,67,64]\n",
    "levels['B']=[74,69,68,69,64,60]\n",
    "levels['C']=[72,71,71,71,71,70]\n",
    "levels['D']=[75,73,73,72,71,70]\n",
    "\n",
    "F,p,*extra = get_anova(levels,alpha=0.05)\n"
   ]
  },
  {
   "cell_type": "code",
   "execution_count": 2,
   "metadata": {},
   "outputs": [
    {
     "name": "stdout",
     "output_type": "stream",
     "text": [
      "F=20.4513, p=0.0000\n",
      "Since, 0.0000 < 0.02, we reject the null hypothesis that all means are equal.\n",
      "Participants in the 1 group had a mean of 0.89 and a standard deviation of 0.01.\n",
      "Participants in the 2 group had a mean of 0.88 and a standard deviation of 0.01.\n",
      "Participants in the 3 group had a mean of 0.84 and a standard deviation of 0.02.\n",
      "\n",
      "Since we have rejected the null hypothesis in the ANOVA test, let's perform the LSD test.\n",
      "t-critical value for alpha=0.02, df=27 is 2.4727\n",
      "Mean Square Error = 0.0003\n",
      "10 10 0.88848 0.87568 0.00025674788888888886 0.01771873962863707\n",
      "\n",
      "Currently comparing 1 vs 2...\n",
      "\n",
      "Using the formula for confidence interval:\n"
     ]
    },
    {
     "data": {
      "text/latex": [
       "$\\bar{x}_A - \\bar{x}_B \\pm t_{\\alpha/2,df} \\sqrt{\\frac{MSE}{n_A} + \\frac{MSE}{n_B}}$"
      ],
      "text/plain": [
       "<IPython.core.display.Latex object>"
      ]
     },
     "metadata": {},
     "output_type": "display_data"
    },
    {
     "name": "stdout",
     "output_type": "stream",
     "text": [
      "Substituting the values we have:\n"
     ]
    },
    {
     "data": {
      "text/latex": [
       "$\\bar{x}_A - \\bar{x}_B \\pm 2.4727 \\sqrt{\\frac{0.0003}{10} + \\frac{0.0003}{10}}$"
      ],
      "text/plain": [
       "<IPython.core.display.Latex object>"
      ]
     },
     "metadata": {},
     "output_type": "display_data"
    },
    {
     "name": "stdout",
     "output_type": "stream",
     "text": [
      "LSD = 0.01771873962863707\n",
      "The confidence intervals are:\n"
     ]
    },
    {
     "data": {
      "text/latex": [
       "Lower: 0.0128 - 0.0177 = -0.0049"
      ],
      "text/plain": [
       "<IPython.core.display.Latex object>"
      ]
     },
     "metadata": {},
     "output_type": "display_data"
    },
    {
     "data": {
      "text/latex": [
       "Upper: 0.0128 + 0.0177 = 0.0305"
      ],
      "text/plain": [
       "<IPython.core.display.Latex object>"
      ]
     },
     "metadata": {},
     "output_type": "display_data"
    },
    {
     "name": "stdout",
     "output_type": "stream",
     "text": [
      "10 10 0.88848 0.84397 0.00025674788888888886 0.01771873962863707\n",
      "\n",
      "Currently comparing 1 vs 3...\n",
      "\n",
      "Using the formula for confidence interval:\n"
     ]
    },
    {
     "data": {
      "text/latex": [
       "$\\bar{x}_A - \\bar{x}_B \\pm t_{\\alpha/2,df} \\sqrt{\\frac{MSE}{n_A} + \\frac{MSE}{n_B}}$"
      ],
      "text/plain": [
       "<IPython.core.display.Latex object>"
      ]
     },
     "metadata": {},
     "output_type": "display_data"
    },
    {
     "name": "stdout",
     "output_type": "stream",
     "text": [
      "Substituting the values we have:\n"
     ]
    },
    {
     "data": {
      "text/latex": [
       "$\\bar{x}_A - \\bar{x}_B \\pm 2.4727 \\sqrt{\\frac{0.0003}{10} + \\frac{0.0003}{10}}$"
      ],
      "text/plain": [
       "<IPython.core.display.Latex object>"
      ]
     },
     "metadata": {},
     "output_type": "display_data"
    },
    {
     "name": "stdout",
     "output_type": "stream",
     "text": [
      "LSD = 0.01771873962863707\n",
      "The confidence intervals are:\n"
     ]
    },
    {
     "data": {
      "text/latex": [
       "Lower: 0.0445 - 0.0177 = 0.0268"
      ],
      "text/plain": [
       "<IPython.core.display.Latex object>"
      ]
     },
     "metadata": {},
     "output_type": "display_data"
    },
    {
     "data": {
      "text/latex": [
       "Upper: 0.0445 + 0.0177 = 0.0622"
      ],
      "text/plain": [
       "<IPython.core.display.Latex object>"
      ]
     },
     "metadata": {},
     "output_type": "display_data"
    },
    {
     "name": "stdout",
     "output_type": "stream",
     "text": [
      "10 10 0.87568 0.84397 0.00025674788888888886 0.01771873962863707\n",
      "\n",
      "Currently comparing 2 vs 3...\n",
      "\n",
      "Using the formula for confidence interval:\n"
     ]
    },
    {
     "data": {
      "text/latex": [
       "$\\bar{x}_A - \\bar{x}_B \\pm t_{\\alpha/2,df} \\sqrt{\\frac{MSE}{n_A} + \\frac{MSE}{n_B}}$"
      ],
      "text/plain": [
       "<IPython.core.display.Latex object>"
      ]
     },
     "metadata": {},
     "output_type": "display_data"
    },
    {
     "name": "stdout",
     "output_type": "stream",
     "text": [
      "Substituting the values we have:\n"
     ]
    },
    {
     "data": {
      "text/latex": [
       "$\\bar{x}_A - \\bar{x}_B \\pm 2.4727 \\sqrt{\\frac{0.0003}{10} + \\frac{0.0003}{10}}$"
      ],
      "text/plain": [
       "<IPython.core.display.Latex object>"
      ]
     },
     "metadata": {},
     "output_type": "display_data"
    },
    {
     "name": "stdout",
     "output_type": "stream",
     "text": [
      "LSD = 0.01771873962863707\n",
      "The confidence intervals are:\n"
     ]
    },
    {
     "data": {
      "text/latex": [
       "Lower: 0.0317 - 0.0177 = 0.0140"
      ],
      "text/plain": [
       "<IPython.core.display.Latex object>"
      ]
     },
     "metadata": {},
     "output_type": "display_data"
    },
    {
     "data": {
      "text/latex": [
       "Upper: 0.0317 + 0.0177 = 0.0494"
      ],
      "text/plain": [
       "<IPython.core.display.Latex object>"
      ]
     },
     "metadata": {},
     "output_type": "display_data"
    },
    {
     "name": "stdout",
     "output_type": "stream",
     "text": [
      "\n",
      "Here are the results of the LSD test for all pairs of groups:\n",
      "   Group A  Group B       LSD  |xA-xB|                 Conclusion\n",
      "0        1        2  0.017719  0.01280  no significant difference\n",
      "1        1        3  0.017719  0.04451     significant difference\n",
      "2        2        3  0.017719  0.03171     significant difference\n",
      "F=20.4513, p=0.0000\n",
      "Since, 0.0000 < 0.05, we reject the null hypothesis that all means are equal.\n",
      "Participants in the 1 group had a mean of 0.89 and a standard deviation of 0.01.\n",
      "Participants in the 2 group had a mean of 0.88 and a standard deviation of 0.01.\n",
      "Participants in the 3 group had a mean of 0.84 and a standard deviation of 0.02.\n",
      "\n",
      "Since we have rejected the null hypothesis in the ANOVA test, let's perform the LSD test.\n",
      "t-critical value for alpha=0.05, df=27 is 2.0518\n",
      "Mean Square Error = 0.0003\n",
      "10 10 0.88848 0.87568 0.00025674788888888886 0.014703134267602329\n",
      "\n",
      "Currently comparing 1 vs 2...\n",
      "\n",
      "Using the formula for confidence interval:\n"
     ]
    },
    {
     "data": {
      "text/latex": [
       "$\\bar{x}_A - \\bar{x}_B \\pm t_{\\alpha/2,df} \\sqrt{\\frac{MSE}{n_A} + \\frac{MSE}{n_B}}$"
      ],
      "text/plain": [
       "<IPython.core.display.Latex object>"
      ]
     },
     "metadata": {},
     "output_type": "display_data"
    },
    {
     "name": "stdout",
     "output_type": "stream",
     "text": [
      "Substituting the values we have:\n"
     ]
    },
    {
     "data": {
      "text/latex": [
       "$\\bar{x}_A - \\bar{x}_B \\pm 2.0518 \\sqrt{\\frac{0.0003}{10} + \\frac{0.0003}{10}}$"
      ],
      "text/plain": [
       "<IPython.core.display.Latex object>"
      ]
     },
     "metadata": {},
     "output_type": "display_data"
    },
    {
     "name": "stdout",
     "output_type": "stream",
     "text": [
      "LSD = 0.014703134267602329\n",
      "The confidence intervals are:\n"
     ]
    },
    {
     "data": {
      "text/latex": [
       "Lower: 0.0128 - 0.0147 = -0.0019"
      ],
      "text/plain": [
       "<IPython.core.display.Latex object>"
      ]
     },
     "metadata": {},
     "output_type": "display_data"
    },
    {
     "data": {
      "text/latex": [
       "Upper: 0.0128 + 0.0147 = 0.0275"
      ],
      "text/plain": [
       "<IPython.core.display.Latex object>"
      ]
     },
     "metadata": {},
     "output_type": "display_data"
    },
    {
     "name": "stdout",
     "output_type": "stream",
     "text": [
      "10 10 0.88848 0.84397 0.00025674788888888886 0.014703134267602329\n",
      "\n",
      "Currently comparing 1 vs 3...\n",
      "\n",
      "Using the formula for confidence interval:\n"
     ]
    },
    {
     "data": {
      "text/latex": [
       "$\\bar{x}_A - \\bar{x}_B \\pm t_{\\alpha/2,df} \\sqrt{\\frac{MSE}{n_A} + \\frac{MSE}{n_B}}$"
      ],
      "text/plain": [
       "<IPython.core.display.Latex object>"
      ]
     },
     "metadata": {},
     "output_type": "display_data"
    },
    {
     "name": "stdout",
     "output_type": "stream",
     "text": [
      "Substituting the values we have:\n"
     ]
    },
    {
     "data": {
      "text/latex": [
       "$\\bar{x}_A - \\bar{x}_B \\pm 2.0518 \\sqrt{\\frac{0.0003}{10} + \\frac{0.0003}{10}}$"
      ],
      "text/plain": [
       "<IPython.core.display.Latex object>"
      ]
     },
     "metadata": {},
     "output_type": "display_data"
    },
    {
     "name": "stdout",
     "output_type": "stream",
     "text": [
      "LSD = 0.014703134267602329\n",
      "The confidence intervals are:\n"
     ]
    },
    {
     "data": {
      "text/latex": [
       "Lower: 0.0445 - 0.0147 = 0.0298"
      ],
      "text/plain": [
       "<IPython.core.display.Latex object>"
      ]
     },
     "metadata": {},
     "output_type": "display_data"
    },
    {
     "data": {
      "text/latex": [
       "Upper: 0.0445 + 0.0147 = 0.0592"
      ],
      "text/plain": [
       "<IPython.core.display.Latex object>"
      ]
     },
     "metadata": {},
     "output_type": "display_data"
    },
    {
     "name": "stdout",
     "output_type": "stream",
     "text": [
      "10 10 0.87568 0.84397 0.00025674788888888886 0.014703134267602329\n",
      "\n",
      "Currently comparing 2 vs 3...\n",
      "\n",
      "Using the formula for confidence interval:\n"
     ]
    },
    {
     "data": {
      "text/latex": [
       "$\\bar{x}_A - \\bar{x}_B \\pm t_{\\alpha/2,df} \\sqrt{\\frac{MSE}{n_A} + \\frac{MSE}{n_B}}$"
      ],
      "text/plain": [
       "<IPython.core.display.Latex object>"
      ]
     },
     "metadata": {},
     "output_type": "display_data"
    },
    {
     "name": "stdout",
     "output_type": "stream",
     "text": [
      "Substituting the values we have:\n"
     ]
    },
    {
     "data": {
      "text/latex": [
       "$\\bar{x}_A - \\bar{x}_B \\pm 2.0518 \\sqrt{\\frac{0.0003}{10} + \\frac{0.0003}{10}}$"
      ],
      "text/plain": [
       "<IPython.core.display.Latex object>"
      ]
     },
     "metadata": {},
     "output_type": "display_data"
    },
    {
     "name": "stdout",
     "output_type": "stream",
     "text": [
      "LSD = 0.014703134267602329\n",
      "The confidence intervals are:\n"
     ]
    },
    {
     "data": {
      "text/latex": [
       "Lower: 0.0317 - 0.0147 = 0.0170"
      ],
      "text/plain": [
       "<IPython.core.display.Latex object>"
      ]
     },
     "metadata": {},
     "output_type": "display_data"
    },
    {
     "data": {
      "text/latex": [
       "Upper: 0.0317 + 0.0147 = 0.0464"
      ],
      "text/plain": [
       "<IPython.core.display.Latex object>"
      ]
     },
     "metadata": {},
     "output_type": "display_data"
    },
    {
     "name": "stdout",
     "output_type": "stream",
     "text": [
      "\n",
      "Here are the results of the LSD test for all pairs of groups:\n",
      "   Group A  Group B       LSD  |xA-xB|                 Conclusion\n",
      "0        1        2  0.014703  0.01280  no significant difference\n",
      "1        1        3  0.014703  0.04451     significant difference\n",
      "2        2        3  0.014703  0.03171     significant difference\n"
     ]
    }
   ],
   "source": [
    "data=pd.read_excel('seeds.xlsx')\n",
    "data_dict = {class_: data[data['Class'] == class_] for class_ in data['Class'].unique()}\n",
    "\n",
    "# for class_, df in data_dict.items():\n",
    "#     print(f\"Class {class_}:\")\n",
    "#     print(df.head())\n",
    "#     print(\"\\n\")\n",
    "\n",
    "levels={}\n",
    "for class_, df in data_dict.items():\n",
    "    levels[class_]=df['Compactness']\n",
    "\n",
    "F,p,*extra=get_anova(levels,alpha=0.02)\n",
    "\n",
    "F,p,*extra=get_anova(levels,alpha=0.05)\n"
   ]
  },
  {
   "cell_type": "code",
   "execution_count": 3,
   "metadata": {},
   "outputs": [
    {
     "name": "stdout",
     "output_type": "stream",
     "text": [
      "F=0.8655, p=0.4678\n",
      "Since, 0.4678 > 0.05, we fail to reject the null hypothesis that all means are equal.\n",
      "Participants in the 10-19 group had a mean of 30.90 and a standard deviation of 5.20.\n",
      "Participants in the 20-39 group had a mean of 27.50 and a standard deviation of 4.88.\n",
      "Participants in the 40-59 group had a mean of 29.50 and a standard deviation of 4.70.\n",
      "Participants in the 60-69 group had a mean of 28.20 and a standard deviation of 5.57.\n",
      "\n",
      "Since we have failed to reject the null hypothesis in the ANOVA test, there's no need to perform the LSD test.\n"
     ]
    }
   ],
   "source": [
    "levels={}\n",
    "levels['10-19']=[29,33,26,27,39,35,33,29,36,22]\n",
    "levels['20-39']=[24,27,33,31,21,28,24,34,21,32]\n",
    "levels['40-59']=[37,25,22,33,28,26,30,34,27,33]\n",
    "levels['60-69']=[28,29,34,36,21,20,25,24,33,32]\n",
    "\n",
    "F,p,*extra=get_anova(levels,alpha=0.05)\n"
   ]
  }
 ],
 "metadata": {
  "kernelspec": {
   "display_name": "Python 3",
   "language": "python",
   "name": "python3"
  },
  "language_info": {
   "codemirror_mode": {
    "name": "ipython",
    "version": 3
   },
   "file_extension": ".py",
   "mimetype": "text/x-python",
   "name": "python",
   "nbconvert_exporter": "python",
   "pygments_lexer": "ipython3",
   "version": "3.11.4"
  },
  "orig_nbformat": 4
 },
 "nbformat": 4,
 "nbformat_minor": 2
}
