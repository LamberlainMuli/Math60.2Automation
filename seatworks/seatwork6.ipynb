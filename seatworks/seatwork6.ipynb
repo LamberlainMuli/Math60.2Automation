{
 "cells": [
  {
   "cell_type": "code",
   "execution_count": 1,
   "metadata": {},
   "outputs": [
    {
     "data": {
      "text/latex": [
       "$H_0: \\mu = 880$"
      ],
      "text/plain": [
       "<IPython.core.display.Latex object>"
      ]
     },
     "metadata": {},
     "output_type": "display_data"
    },
    {
     "data": {
      "text/latex": [
       "$H_A: \\mu \\neq 880$"
      ],
      "text/plain": [
       "<IPython.core.display.Latex object>"
      ]
     },
     "metadata": {},
     "output_type": "display_data"
    },
    {
     "data": {
      "text/latex": [
       "Given the formula for the standard error of the mean: $SE=\\frac{\\sigma}{\\sqrt{n}}$. We substitute the values as follows:"
      ],
      "text/plain": [
       "<IPython.core.display.Latex object>"
      ]
     },
     "metadata": {},
     "output_type": "display_data"
    },
    {
     "data": {
      "text/latex": [
       "$SE=\\frac{21}{\\sqrt{50}} \\approx 2.9698484809834995$ "
      ],
      "text/plain": [
       "<IPython.core.display.Latex object>"
      ]
     },
     "metadata": {},
     "output_type": "display_data"
    },
    {
     "name": "stdout",
     "output_type": "stream",
     "text": [
      "Given the formula for test statistic:\n"
     ]
    },
    {
     "data": {
      "text/latex": [
       "$z = \\frac{\\bar{x} - \\mu}{SE}$"
      ],
      "text/plain": [
       "<IPython.core.display.Latex object>"
      ]
     },
     "metadata": {},
     "output_type": "display_data"
    },
    {
     "name": "stdout",
     "output_type": "stream",
     "text": [
      "We can calculate the test statistic as:\n"
     ]
    },
    {
     "data": {
      "text/latex": [
       "$z = \\frac{871.00 - 880.00}{2.9698484809834995} = -3.0304576336566322$"
      ],
      "text/plain": [
       "<IPython.core.display.Latex object>"
      ]
     },
     "metadata": {},
     "output_type": "display_data"
    },
    {
     "data": {
      "text/latex": [
       "$P(Z\\le -{z})+ P(Z\\ge {z}) = 2*(1-norm.cdf(|-3.0304576336566322|)) = 0.0024418344202767894$"
      ],
      "text/plain": [
       "<IPython.core.display.Latex object>"
      ]
     },
     "metadata": {},
     "output_type": "display_data"
    },
    {
     "name": "stdout",
     "output_type": "stream",
     "text": [
      "the test statistic is -3.0305 and the p-value is 0.0024.\n",
      "Since, 0.0024418344202767894 < 0.05, we reject the null hypothesis that the daily yield for a local chemical plant still averages at 880 tons.\n"
     ]
    },
    {
     "data": {
      "text/plain": [
       "(0.0024418344202767894, 'reject the null hypothesis')"
      ]
     },
     "execution_count": 1,
     "metadata": {},
     "output_type": "execute_result"
    }
   ],
   "source": [
    "from module4 import *\n",
    "from module5 import *\n",
    "from module6 import *\n",
    "\n",
    "u=880\n",
    "n=50\n",
    "x,sd=871,21\n",
    "alpha=0.05\n",
    "print_hypothesis(about=\"mean\",u=u)\n",
    "test_hypothesis(z=get_test_statistic(x=x,u=u,se=get_standard_error_mean(n=n,sd=sd)),alternative=\"two-sided\",alpha=alpha,null=\"the daily yield for a local chemical plant still averages at 880 tons\")"
   ]
  },
  {
   "cell_type": "code",
   "execution_count": 3,
   "metadata": {},
   "outputs": [
    {
     "data": {
      "text/latex": [
       "$H_0: p = 0.2$"
      ],
      "text/plain": [
       "<IPython.core.display.Latex object>"
      ]
     },
     "metadata": {},
     "output_type": "display_data"
    },
    {
     "data": {
      "text/latex": [
       "$H_A: p > 0.2$"
      ],
      "text/plain": [
       "<IPython.core.display.Latex object>"
      ]
     },
     "metadata": {},
     "output_type": "display_data"
    },
    {
     "data": {
      "text/latex": [
       "Given the formula for the standard error of the p: $SE=\\sqrt{\\frac{ p(1-p) }{ n } }$. We substitute the values as follows:"
      ],
      "text/plain": [
       "<IPython.core.display.Latex object>"
      ]
     },
     "metadata": {},
     "output_type": "display_data"
    },
    {
     "data": {
      "text/latex": [
       "$SE=\\sqrt{\\frac{ 0.2(1-0.2) }{ 400 } } \\approx 0.02$ "
      ],
      "text/plain": [
       "<IPython.core.display.Latex object>"
      ]
     },
     "metadata": {},
     "output_type": "display_data"
    },
    {
     "name": "stdout",
     "output_type": "stream",
     "text": [
      "Given the formula for test statistic:\n"
     ]
    },
    {
     "data": {
      "text/latex": [
       "$z = \\frac{\\bar{x} - \\mu}{SE}$"
      ],
      "text/plain": [
       "<IPython.core.display.Latex object>"
      ]
     },
     "metadata": {},
     "output_type": "display_data"
    },
    {
     "name": "stdout",
     "output_type": "stream",
     "text": [
      "We can calculate the test statistic as:\n"
     ]
    },
    {
     "data": {
      "text/latex": [
       "$z = \\frac{0.23 - 0.20}{0.02} = 1.2499999999999998$"
      ],
      "text/plain": [
       "<IPython.core.display.Latex object>"
      ]
     },
     "metadata": {},
     "output_type": "display_data"
    },
    {
     "data": {
      "text/latex": [
       "$P(Z\\ge {z}) = 1 - P(Z\\le {z}) = 1-norm.cdf(1.2499999999999998) = 0.10564977366685535$"
      ],
      "text/plain": [
       "<IPython.core.display.Latex object>"
      ]
     },
     "metadata": {},
     "output_type": "display_data"
    },
    {
     "name": "stdout",
     "output_type": "stream",
     "text": [
      "the test statistic is 1.2500 and the p-value is 0.1056.\n",
      "Since, 0.10564977366685535 > 0.1, we fail to reject the null hypothesis that B is not more likely to be the correct choice than any other letter.\n"
     ]
    },
    {
     "data": {
      "text/plain": [
       "(0.10564977366685535, 'fail to reject the null hypothesis')"
      ]
     },
     "execution_count": 3,
     "metadata": {},
     "output_type": "execute_result"
    }
   ],
   "source": [
    "p=0.2\n",
    "n=400\n",
    "phat=90/400\n",
    "alpha=0.1\n",
    "print_hypothesis(about=\"proportion\",alternative=\">\",u=p)\n",
    "test_hypothesis(z=get_test_statistic(x=phat,u=p,se=get_standard_error_proportion(p=p,n=n)),alternative=\"right\",alpha=alpha,null=\"B is not more likely to be the correct choice than any other letter\")\n"
   ]
  },
  {
   "cell_type": "code",
   "execution_count": 7,
   "metadata": {},
   "outputs": [
    {
     "data": {
      "text/latex": [
       "$H_0: \\mu_1 - \\mu_2 = 7$"
      ],
      "text/plain": [
       "<IPython.core.display.Latex object>"
      ]
     },
     "metadata": {},
     "output_type": "display_data"
    },
    {
     "data": {
      "text/latex": [
       "$H_A: \\mu_1 - \\mu_2 > 7$"
      ],
      "text/plain": [
       "<IPython.core.display.Latex object>"
      ]
     },
     "metadata": {},
     "output_type": "display_data"
    },
    {
     "data": {
      "text/latex": [
       "We can substitute to the formula $SE = \\sqrt{\\frac{SD_1^2}{n_1}+\\frac{SD_2^2}{n_2}}$"
      ],
      "text/plain": [
       "<IPython.core.display.Latex object>"
      ]
     },
     "metadata": {},
     "output_type": "display_data"
    },
    {
     "data": {
      "text/latex": [
       "$SE = \\sqrt{\\frac{40^2}{120}+\\frac{20^2}{100}} \\approx 4.163331998932266$"
      ],
      "text/plain": [
       "<IPython.core.display.Latex object>"
      ]
     },
     "metadata": {},
     "output_type": "display_data"
    },
    {
     "name": "stdout",
     "output_type": "stream",
     "text": [
      "Given the formula for test statistic:\n"
     ]
    },
    {
     "data": {
      "text/latex": [
       "$z = \\frac{\\bar{x} - \\mu}{SE}$"
      ],
      "text/plain": [
       "<IPython.core.display.Latex object>"
      ]
     },
     "metadata": {},
     "output_type": "display_data"
    },
    {
     "name": "stdout",
     "output_type": "stream",
     "text": [
      "We can calculate the test statistic as:\n"
     ]
    },
    {
     "data": {
      "text/latex": [
       "$z = \\frac{10.00 - 7.00}{4.163331998932266} = 0.720576692122892$"
      ],
      "text/plain": [
       "<IPython.core.display.Latex object>"
      ]
     },
     "metadata": {},
     "output_type": "display_data"
    },
    {
     "data": {
      "text/latex": [
       "$P(Z\\ge {z}) = 1 - P(Z\\le {z}) = 1-norm.cdf(0.720576692122892) = 0.23558499924502796$"
      ],
      "text/plain": [
       "<IPython.core.display.Latex object>"
      ]
     },
     "metadata": {},
     "output_type": "display_data"
    },
    {
     "name": "stdout",
     "output_type": "stream",
     "text": [
      "the test statistic is 0.7206 and the p-value is 0.2356.\n",
      "Since, 0.23558499924502796 > 0.05, we fail to reject the null hypothesis that the new batteries are operate continuously for less than 7 minutes than the old batteries.\n"
     ]
    },
    {
     "data": {
      "text/plain": [
       "(0.23558499924502796, 'fail to reject the null hypothesis')"
      ]
     },
     "execution_count": 7,
     "metadata": {},
     "output_type": "execute_result"
    }
   ],
   "source": [
    "n1=120\n",
    "n2=100\n",
    "x2,sd2=190,20\n",
    "x1,sd1=200,40\n",
    "print_hypothesis(about=\"two means\",alternative=\">\",u=7)\n",
    "test_hypothesis(z=get_test_statistic(x=x1-x2,u=7,se=get_standard_error_two_means(sd_1=sd1,sd_2=sd2,n_1=n1,n_2=n2)[0]),alternative=\"right\",alpha=0.05,null=\"the new batteries are operate continuously for less than 7 minutes than the old batteries\")\n",
    "\n"
   ]
  },
  {
   "cell_type": "code",
   "execution_count": 17,
   "metadata": {},
   "outputs": [
    {
     "data": {
      "text/latex": [
       "$H_0: \\mu_1 - \\mu_2 = 0$"
      ],
      "text/plain": [
       "<IPython.core.display.Latex object>"
      ]
     },
     "metadata": {},
     "output_type": "display_data"
    },
    {
     "data": {
      "text/latex": [
       "$H_A: \\mu_1 - \\mu_2 < 0$"
      ],
      "text/plain": [
       "<IPython.core.display.Latex object>"
      ]
     },
     "metadata": {},
     "output_type": "display_data"
    },
    {
     "data": {
      "text/latex": [
       "We can substitute to the formula $SE = \\sqrt{\\frac{SD_1^2}{n_1}+\\frac{SD_2^2}{n_2}}$"
      ],
      "text/plain": [
       "<IPython.core.display.Latex object>"
      ]
     },
     "metadata": {},
     "output_type": "display_data"
    },
    {
     "data": {
      "text/latex": [
       "$SE = \\sqrt{\\frac{1.2^2}{50}+\\frac{1.36^2}{40}} \\approx 0.2739342986922229$"
      ],
      "text/plain": [
       "<IPython.core.display.Latex object>"
      ]
     },
     "metadata": {},
     "output_type": "display_data"
    },
    {
     "name": "stdout",
     "output_type": "stream",
     "text": [
      "Given the formula for test statistic:\n"
     ]
    },
    {
     "data": {
      "text/latex": [
       "$z = \\frac{\\bar{x} - \\mu}{SE}$"
      ],
      "text/plain": [
       "<IPython.core.display.Latex object>"
      ]
     },
     "metadata": {},
     "output_type": "display_data"
    },
    {
     "name": "stdout",
     "output_type": "stream",
     "text": [
      "We can calculate the test statistic as:\n"
     ]
    },
    {
     "data": {
      "text/latex": [
       "$z = \\frac{-1.49 - 0.00}{0.2739342986922229} = -5.439260461772551$"
      ],
      "text/plain": [
       "<IPython.core.display.Latex object>"
      ]
     },
     "metadata": {},
     "output_type": "display_data"
    },
    {
     "data": {
      "text/latex": [
       "$P(Z\\le {z}) = norm.cdf(-5.439260461772551) = 2.6751094845756266e-08$"
      ],
      "text/plain": [
       "<IPython.core.display.Latex object>"
      ]
     },
     "metadata": {},
     "output_type": "display_data"
    },
    {
     "name": "stdout",
     "output_type": "stream",
     "text": [
      "the test statistic is -5.4393 and the p-value is 0.0000.\n",
      "Since, 2.6751094845756266e-08 < 0.01, we reject the null hypothesis that there is no significant difference between the two population means.\n"
     ]
    },
    {
     "data": {
      "text/plain": [
       "(2.6751094845756266e-08, 'reject the null hypothesis')"
      ]
     },
     "execution_count": 17,
     "metadata": {},
     "output_type": "execute_result"
    }
   ],
   "source": [
    "n1,x1,sd1=50,4.35,1.20\n",
    "n2,x2,sd2=40,5.84,1.36\n",
    "alpha=0.01\n",
    "print_hypothesis(about=\"two means\",alternative=\"<\",u=0)\n",
    "test_hypothesis(z=get_test_statistic(x=x1-x2,u=0,se=get_standard_error_two_means(sd_1=sd1,sd_2=sd2,n_1=n1,n_2=n2)[0]),alternative=\"left\",alpha=alpha,null=\"there is no significant difference between the two population means\")"
   ]
  },
  {
   "cell_type": "code",
   "execution_count": 9,
   "metadata": {},
   "outputs": [
    {
     "data": {
      "text/latex": [
       "$H_0: \\mu = 60000$"
      ],
      "text/plain": [
       "<IPython.core.display.Latex object>"
      ]
     },
     "metadata": {},
     "output_type": "display_data"
    },
    {
     "data": {
      "text/latex": [
       "$H_A: \\mu \\neq 60000$"
      ],
      "text/plain": [
       "<IPython.core.display.Latex object>"
      ]
     },
     "metadata": {},
     "output_type": "display_data"
    },
    {
     "data": {
      "text/latex": [
       "Given the formula for the standard error of the mean: $SE=\\frac{\\sigma}{\\sqrt{n}}$. We substitute the values as follows:"
      ],
      "text/plain": [
       "<IPython.core.display.Latex object>"
      ]
     },
     "metadata": {},
     "output_type": "display_data"
    },
    {
     "data": {
      "text/latex": [
       "$SE=\\frac{5000}{\\sqrt{48}} \\approx 721.6878364870322$ "
      ],
      "text/plain": [
       "<IPython.core.display.Latex object>"
      ]
     },
     "metadata": {},
     "output_type": "display_data"
    },
    {
     "name": "stdout",
     "output_type": "stream",
     "text": [
      "Given the formula for test statistic:\n"
     ]
    },
    {
     "data": {
      "text/latex": [
       "$z = \\frac{\\bar{x} - \\mu}{SE}$"
      ],
      "text/plain": [
       "<IPython.core.display.Latex object>"
      ]
     },
     "metadata": {},
     "output_type": "display_data"
    },
    {
     "name": "stdout",
     "output_type": "stream",
     "text": [
      "We can calculate the test statistic as:\n"
     ]
    },
    {
     "data": {
      "text/latex": [
       "$z = \\frac{59500.00 - 60000.00}{721.6878364870322} = -0.6928203230275509$"
      ],
      "text/plain": [
       "<IPython.core.display.Latex object>"
      ]
     },
     "metadata": {},
     "output_type": "display_data"
    },
    {
     "data": {
      "text/latex": [
       "$P(Z\\le -{z})+ P(Z\\ge {z}) = 2*(1-norm.cdf(|-0.6928203230275509|)) = 0.4884223166225936$"
      ],
      "text/plain": [
       "<IPython.core.display.Latex object>"
      ]
     },
     "metadata": {},
     "output_type": "display_data"
    },
    {
     "name": "stdout",
     "output_type": "stream",
     "text": [
      "the test statistic is -0.6928 and the p-value is 0.4884.\n",
      "Since, 0.4884223166225936 > 0.05, we fail to reject the null hypothesis that the mean mileage of the tires bought by the company is similar to the claim of the manufacturer.\n"
     ]
    },
    {
     "data": {
      "text/plain": [
       "(0.4884223166225936, 'fail to reject the null hypothesis')"
      ]
     },
     "execution_count": 9,
     "metadata": {},
     "output_type": "execute_result"
    }
   ],
   "source": [
    "u=60000\n",
    "n=48\n",
    "x=59500\n",
    "sd=5000\n",
    "print_hypothesis(about=\"mean\",u=u)\n",
    "test_hypothesis(z=get_test_statistic(x=x,u=u,se=get_standard_error_mean(n=n,sd=sd)),alternative=\"two-sided\",alpha=0.05,null=\"the mean mileage of the tires bought by the company is similar to the claim of the manufacturer\")\n"
   ]
  },
  {
   "cell_type": "code",
   "execution_count": 12,
   "metadata": {},
   "outputs": [
    {
     "name": "stdout",
     "output_type": "stream",
     "text": [
      "p1=win rate of Version 2\n",
      "p2=win rate of Version 1\n"
     ]
    },
    {
     "data": {
      "text/latex": [
       "$H_0: p_1 - p_2 = 0$"
      ],
      "text/plain": [
       "<IPython.core.display.Latex object>"
      ]
     },
     "metadata": {},
     "output_type": "display_data"
    },
    {
     "data": {
      "text/latex": [
       "$H_A: p_1 - p_2 > 0$"
      ],
      "text/plain": [
       "<IPython.core.display.Latex object>"
      ]
     },
     "metadata": {},
     "output_type": "display_data"
    },
    {
     "name": "stdout",
     "output_type": "stream",
     "text": [
      "Given the formula for standard error of difference in proportions:\n"
     ]
    },
    {
     "data": {
      "text/latex": [
       "$SE = \\sqrt{\\frac{p_1(1-p_1)}{n_1} + \\frac{p_2(1-p_2)}{n_2}}$"
      ],
      "text/plain": [
       "<IPython.core.display.Latex object>"
      ]
     },
     "metadata": {},
     "output_type": "display_data"
    },
    {
     "name": "stdout",
     "output_type": "stream",
     "text": [
      "It can be shown that the standard error of difference in proportions under the null hypothesis is:\n"
     ]
    },
    {
     "data": {
      "text/latex": [
       "$SE = \\sqrt{p(1-p) \\left( \\frac{1}{n_1} + \\frac{1}{n_2} \\right)}$"
      ],
      "text/plain": [
       "<IPython.core.display.Latex object>"
      ]
     },
     "metadata": {},
     "output_type": "display_data"
    },
    {
     "name": "stdout",
     "output_type": "stream",
     "text": [
      "where p is the pooled proportion:\n"
     ]
    },
    {
     "data": {
      "text/latex": [
       "$p = \\frac{p_1n_1 + p_2n_2}{n_1 + n_2}$"
      ],
      "text/plain": [
       "<IPython.core.display.Latex object>"
      ]
     },
     "metadata": {},
     "output_type": "display_data"
    },
    {
     "data": {
      "text/latex": [
       "$p = \\frac{0.409 \\times 1000 + 0.347 \\times 1000}{1000 + 1000} = 0.3780$"
      ],
      "text/plain": [
       "<IPython.core.display.Latex object>"
      ]
     },
     "metadata": {},
     "output_type": "display_data"
    },
    {
     "data": {
      "text/latex": [
       "$SE = \\sqrt{0.378 \\times (1 - 0.378) \\left( \\frac{1}{1000} + \\frac{1}{1000} \\right)} = 0.0217$"
      ],
      "text/plain": [
       "<IPython.core.display.Latex object>"
      ]
     },
     "metadata": {},
     "output_type": "display_data"
    },
    {
     "name": "stdout",
     "output_type": "stream",
     "text": [
      "Given the formula for test statistic:\n"
     ]
    },
    {
     "data": {
      "text/latex": [
       "$z = \\frac{\\bar{x} - \\mu}{SE}$"
      ],
      "text/plain": [
       "<IPython.core.display.Latex object>"
      ]
     },
     "metadata": {},
     "output_type": "display_data"
    },
    {
     "name": "stdout",
     "output_type": "stream",
     "text": [
      "We can calculate the test statistic as:\n"
     ]
    },
    {
     "data": {
      "text/latex": [
       "$z = \\frac{0.06 - 0.00}{0.02168483340955148} = 2.8591411715752897$"
      ],
      "text/plain": [
       "<IPython.core.display.Latex object>"
      ]
     },
     "metadata": {},
     "output_type": "display_data"
    },
    {
     "data": {
      "text/latex": [
       "$P(Z\\ge {z}) = 1 - P(Z\\le {z}) = 1-norm.cdf(2.8591411715752897) = 0.002123948483560567$"
      ],
      "text/plain": [
       "<IPython.core.display.Latex object>"
      ]
     },
     "metadata": {},
     "output_type": "display_data"
    },
    {
     "name": "stdout",
     "output_type": "stream",
     "text": [
      "the test statistic is 2.8591 and the p-value is 0.0021.\n",
      "Since, 0.002123948483560567 < 0.01, we reject the null hypothesis that Version 2 does not have an improved win rate compared to Version 1.\n"
     ]
    },
    {
     "data": {
      "text/plain": [
       "(0.002123948483560567, 'reject the null hypothesis')"
      ]
     },
     "execution_count": 12,
     "metadata": {},
     "output_type": "execute_result"
    }
   ],
   "source": [
    "print(\"p1=win rate of Version 2\")\n",
    "print(\"p2=win rate of Version 1\")\n",
    "n2=347+298+355\n",
    "n1=409+321+270\n",
    "p2=347/n1\n",
    "p1=409/n2 \n",
    "print_hypothesis(about=\"two proportions\",alternative=\">\",u=0)\n",
    "test_hypothesis(z=get_test_statistic(x=p1-p2,u=0,se=get_standard_error_two_proportions(p_1=p1,p_2=p2,n_1=n1,n_2=n2)),alternative=\"right\",alpha=alpha,null=\"Version 2 does not have an improved win rate compared to Version 1\")"
   ]
  },
  {
   "cell_type": "code",
   "execution_count": 16,
   "metadata": {},
   "outputs": [
    {
     "data": {
      "text/latex": [
       "$H_0: p_1 - p_2 = 0$"
      ],
      "text/plain": [
       "<IPython.core.display.Latex object>"
      ]
     },
     "metadata": {},
     "output_type": "display_data"
    },
    {
     "data": {
      "text/latex": [
       "$H_A: p_1 - p_2 \\neq 0$"
      ],
      "text/plain": [
       "<IPython.core.display.Latex object>"
      ]
     },
     "metadata": {},
     "output_type": "display_data"
    },
    {
     "name": "stdout",
     "output_type": "stream",
     "text": [
      "Given the formula for standard error of difference in proportions:\n"
     ]
    },
    {
     "data": {
      "text/latex": [
       "$SE = \\sqrt{\\frac{p_1(1-p_1)}{n_1} + \\frac{p_2(1-p_2)}{n_2}}$"
      ],
      "text/plain": [
       "<IPython.core.display.Latex object>"
      ]
     },
     "metadata": {},
     "output_type": "display_data"
    },
    {
     "name": "stdout",
     "output_type": "stream",
     "text": [
      "It can be shown that the standard error of difference in proportions under the null hypothesis is:\n"
     ]
    },
    {
     "data": {
      "text/latex": [
       "$SE = \\sqrt{p(1-p) \\left( \\frac{1}{n_1} + \\frac{1}{n_2} \\right)}$"
      ],
      "text/plain": [
       "<IPython.core.display.Latex object>"
      ]
     },
     "metadata": {},
     "output_type": "display_data"
    },
    {
     "name": "stdout",
     "output_type": "stream",
     "text": [
      "where p is the pooled proportion:\n"
     ]
    },
    {
     "data": {
      "text/latex": [
       "$p = \\frac{p_1n_1 + p_2n_2}{n_1 + n_2}$"
      ],
      "text/plain": [
       "<IPython.core.display.Latex object>"
      ]
     },
     "metadata": {},
     "output_type": "display_data"
    },
    {
     "data": {
      "text/latex": [
       "$p = \\frac{0.506 \\times 500.0 + 0.494 \\times 500.0}{500.0 + 500.0} = 0.5000$"
      ],
      "text/plain": [
       "<IPython.core.display.Latex object>"
      ]
     },
     "metadata": {},
     "output_type": "display_data"
    },
    {
     "data": {
      "text/latex": [
       "$SE = \\sqrt{0.5 \\times (1 - 0.5) \\left( \\frac{1}{500.0} + \\frac{1}{500.0} \\right)} = 0.0316$"
      ],
      "text/plain": [
       "<IPython.core.display.Latex object>"
      ]
     },
     "metadata": {},
     "output_type": "display_data"
    },
    {
     "name": "stdout",
     "output_type": "stream",
     "text": [
      "Given the formula for test statistic:\n"
     ]
    },
    {
     "data": {
      "text/latex": [
       "$z = \\frac{\\bar{x} - \\mu}{SE}$"
      ],
      "text/plain": [
       "<IPython.core.display.Latex object>"
      ]
     },
     "metadata": {},
     "output_type": "display_data"
    },
    {
     "name": "stdout",
     "output_type": "stream",
     "text": [
      "We can calculate the test statistic as:\n"
     ]
    },
    {
     "data": {
      "text/latex": [
       "$z = \\frac{0.01 - 0.00}{0.03162277660168379} = 0.3794733192202059$"
      ],
      "text/plain": [
       "<IPython.core.display.Latex object>"
      ]
     },
     "metadata": {},
     "output_type": "display_data"
    },
    {
     "data": {
      "text/latex": [
       "$P(Z\\le -{z})+ P(Z\\ge {z}) = 2*(1-norm.cdf(|0.3794733192202059|)) = 0.7043364134884516$"
      ],
      "text/plain": [
       "<IPython.core.display.Latex object>"
      ]
     },
     "metadata": {},
     "output_type": "display_data"
    },
    {
     "name": "stdout",
     "output_type": "stream",
     "text": [
      "the test statistic is 0.3795 and the p-value is 0.7043.\n",
      "Since, 0.7043364134884516 > 0.05, we fail to reject the null hypothesis that the two algorithms are evenly matched.\n"
     ]
    },
    {
     "data": {
      "text/plain": [
       "(0.7043364134884516, 'fail to reject the null hypothesis')"
      ]
     },
     "execution_count": 16,
     "metadata": {},
     "output_type": "execute_result"
    }
   ],
   "source": [
    "u=0\n",
    "n=365+282+353\n",
    "p1=(365+141)/n \n",
    "p2=(353+141)/n\n",
    "print_hypothesis(about=\"two proportions\",u=0)\n",
    "test_hypothesis(z=get_test_statistic(x=p1-p2,u=0,se=get_standard_error_two_proportions(p_1=p1,p_2=p2,n_1=n/2,n_2=n/2)),alternative=\"two-sided\",alpha=0.05,null=\"the two algorithms are evenly matched\")"
   ]
  }
 ],
 "metadata": {
  "kernelspec": {
   "display_name": "Python 3",
   "language": "python",
   "name": "python3"
  },
  "language_info": {
   "codemirror_mode": {
    "name": "ipython",
    "version": 3
   },
   "file_extension": ".py",
   "mimetype": "text/x-python",
   "name": "python",
   "nbconvert_exporter": "python",
   "pygments_lexer": "ipython3",
   "version": "3.11.3"
  },
  "orig_nbformat": 4
 },
 "nbformat": 4,
 "nbformat_minor": 2
}
